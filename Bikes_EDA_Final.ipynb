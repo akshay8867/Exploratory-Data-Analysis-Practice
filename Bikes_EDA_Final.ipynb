{
 "cells": [
  {
   "cell_type": "markdown",
   "metadata": {},
   "source": [
    "# Bike Sharing EDA Exercise"
   ]
  },
  {
   "cell_type": "markdown",
   "metadata": {},
   "source": [
    "### In this worksheet we will be exploring the bike dataset, the datset can be downloaded from https://www.kaggle.com/c/bike-sharing-demand/data. It is a regression problem where we have to predict the bike demand for a given hour of the day."
   ]
  },
  {
   "cell_type": "code",
   "execution_count": 1,
   "metadata": {},
   "outputs": [
    {
     "name": "stdout",
     "output_type": "stream",
     "text": [
      "Shape of training data:(10886, 12)\n",
      "Shape of test data:(6493, 9)\n"
     ]
    }
   ],
   "source": [
    "import pandas as pd\n",
    "df_train=pd.read_csv('train_bikes.csv')\n",
    "df_test=pd.read_csv('test_bikes.csv')\n",
    "print(\"Shape of training data:{}\".format(str((df_train.shape))))\n",
    "print(\"Shape of test data:{}\".format(str((df_test.shape))))"
   ]
  },
  {
   "cell_type": "code",
   "execution_count": 2,
   "metadata": {},
   "outputs": [
    {
     "data": {
      "text/html": [
       "<div>\n",
       "<style scoped>\n",
       "    .dataframe tbody tr th:only-of-type {\n",
       "        vertical-align: middle;\n",
       "    }\n",
       "\n",
       "    .dataframe tbody tr th {\n",
       "        vertical-align: top;\n",
       "    }\n",
       "\n",
       "    .dataframe thead th {\n",
       "        text-align: right;\n",
       "    }\n",
       "</style>\n",
       "<table border=\"1\" class=\"dataframe\">\n",
       "  <thead>\n",
       "    <tr style=\"text-align: right;\">\n",
       "      <th></th>\n",
       "      <th>datetime</th>\n",
       "      <th>season</th>\n",
       "      <th>holiday</th>\n",
       "      <th>workingday</th>\n",
       "      <th>weather</th>\n",
       "      <th>temp</th>\n",
       "      <th>atemp</th>\n",
       "      <th>humidity</th>\n",
       "      <th>windspeed</th>\n",
       "      <th>casual</th>\n",
       "      <th>registered</th>\n",
       "      <th>count</th>\n",
       "      <th>Hour</th>\n",
       "      <th>Year</th>\n",
       "      <th>Month</th>\n",
       "      <th>Day</th>\n",
       "    </tr>\n",
       "  </thead>\n",
       "  <tbody>\n",
       "    <tr>\n",
       "      <th>0</th>\n",
       "      <td>2011-01-01 00:00:00</td>\n",
       "      <td>1</td>\n",
       "      <td>0</td>\n",
       "      <td>0</td>\n",
       "      <td>1</td>\n",
       "      <td>9.84</td>\n",
       "      <td>14.395</td>\n",
       "      <td>81</td>\n",
       "      <td>0.0</td>\n",
       "      <td>3</td>\n",
       "      <td>13</td>\n",
       "      <td>16</td>\n",
       "      <td>0</td>\n",
       "      <td>2011</td>\n",
       "      <td>1</td>\n",
       "      <td>1</td>\n",
       "    </tr>\n",
       "    <tr>\n",
       "      <th>1</th>\n",
       "      <td>2011-01-01 01:00:00</td>\n",
       "      <td>1</td>\n",
       "      <td>0</td>\n",
       "      <td>0</td>\n",
       "      <td>1</td>\n",
       "      <td>9.02</td>\n",
       "      <td>13.635</td>\n",
       "      <td>80</td>\n",
       "      <td>0.0</td>\n",
       "      <td>8</td>\n",
       "      <td>32</td>\n",
       "      <td>40</td>\n",
       "      <td>1</td>\n",
       "      <td>2011</td>\n",
       "      <td>1</td>\n",
       "      <td>1</td>\n",
       "    </tr>\n",
       "    <tr>\n",
       "      <th>2</th>\n",
       "      <td>2011-01-01 02:00:00</td>\n",
       "      <td>1</td>\n",
       "      <td>0</td>\n",
       "      <td>0</td>\n",
       "      <td>1</td>\n",
       "      <td>9.02</td>\n",
       "      <td>13.635</td>\n",
       "      <td>80</td>\n",
       "      <td>0.0</td>\n",
       "      <td>5</td>\n",
       "      <td>27</td>\n",
       "      <td>32</td>\n",
       "      <td>2</td>\n",
       "      <td>2011</td>\n",
       "      <td>1</td>\n",
       "      <td>1</td>\n",
       "    </tr>\n",
       "    <tr>\n",
       "      <th>3</th>\n",
       "      <td>2011-01-01 03:00:00</td>\n",
       "      <td>1</td>\n",
       "      <td>0</td>\n",
       "      <td>0</td>\n",
       "      <td>1</td>\n",
       "      <td>9.84</td>\n",
       "      <td>14.395</td>\n",
       "      <td>75</td>\n",
       "      <td>0.0</td>\n",
       "      <td>3</td>\n",
       "      <td>10</td>\n",
       "      <td>13</td>\n",
       "      <td>3</td>\n",
       "      <td>2011</td>\n",
       "      <td>1</td>\n",
       "      <td>1</td>\n",
       "    </tr>\n",
       "    <tr>\n",
       "      <th>4</th>\n",
       "      <td>2011-01-01 04:00:00</td>\n",
       "      <td>1</td>\n",
       "      <td>0</td>\n",
       "      <td>0</td>\n",
       "      <td>1</td>\n",
       "      <td>9.84</td>\n",
       "      <td>14.395</td>\n",
       "      <td>75</td>\n",
       "      <td>0.0</td>\n",
       "      <td>0</td>\n",
       "      <td>1</td>\n",
       "      <td>1</td>\n",
       "      <td>4</td>\n",
       "      <td>2011</td>\n",
       "      <td>1</td>\n",
       "      <td>1</td>\n",
       "    </tr>\n",
       "  </tbody>\n",
       "</table>\n",
       "</div>"
      ],
      "text/plain": [
       "              datetime  season  holiday  workingday  weather  temp   atemp  \\\n",
       "0  2011-01-01 00:00:00       1        0           0        1  9.84  14.395   \n",
       "1  2011-01-01 01:00:00       1        0           0        1  9.02  13.635   \n",
       "2  2011-01-01 02:00:00       1        0           0        1  9.02  13.635   \n",
       "3  2011-01-01 03:00:00       1        0           0        1  9.84  14.395   \n",
       "4  2011-01-01 04:00:00       1        0           0        1  9.84  14.395   \n",
       "\n",
       "   humidity  windspeed  casual  registered  count  Hour  Year  Month  Day  \n",
       "0        81        0.0       3          13     16     0  2011      1    1  \n",
       "1        80        0.0       8          32     40     1  2011      1    1  \n",
       "2        80        0.0       5          27     32     2  2011      1    1  \n",
       "3        75        0.0       3          10     13     3  2011      1    1  \n",
       "4        75        0.0       0           1      1     4  2011      1    1  "
      ]
     },
     "execution_count": 2,
     "metadata": {},
     "output_type": "execute_result"
    }
   ],
   "source": [
    "import datetime\n",
    "df_train['Hour']=df_train['datetime'].apply(lambda x :datetime.datetime.strptime(x, '%Y-%m-%d %H:%M:%S').time().hour )\n",
    "df_train['Year']=df_train['datetime'].apply(lambda x :datetime.datetime.strptime(x, '%Y-%m-%d %H:%M:%S').date().year )\n",
    "df_train['Month']=df_train['datetime'].apply(lambda x :datetime.datetime.strptime(x, '%Y-%m-%d %H:%M:%S').date().month )\n",
    "df_train['Day']=df_train['datetime'].apply(lambda x :datetime.datetime.strptime(x, '%Y-%m-%d %H:%M:%S').date().day )\n",
    "df_train.head()"
   ]
  },
  {
   "cell_type": "markdown",
   "metadata": {},
   "source": [
    "##  Performing feature engineering to add new columns"
   ]
  },
  {
   "cell_type": "code",
   "execution_count": 3,
   "metadata": {},
   "outputs": [
    {
     "data": {
      "text/html": [
       "<div>\n",
       "<style scoped>\n",
       "    .dataframe tbody tr th:only-of-type {\n",
       "        vertical-align: middle;\n",
       "    }\n",
       "\n",
       "    .dataframe tbody tr th {\n",
       "        vertical-align: top;\n",
       "    }\n",
       "\n",
       "    .dataframe thead th {\n",
       "        text-align: right;\n",
       "    }\n",
       "</style>\n",
       "<table border=\"1\" class=\"dataframe\">\n",
       "  <thead>\n",
       "    <tr style=\"text-align: right;\">\n",
       "      <th></th>\n",
       "      <th>datetime</th>\n",
       "      <th>season</th>\n",
       "      <th>holiday</th>\n",
       "      <th>workingday</th>\n",
       "      <th>weather</th>\n",
       "      <th>temp</th>\n",
       "      <th>atemp</th>\n",
       "      <th>humidity</th>\n",
       "      <th>windspeed</th>\n",
       "      <th>Hour</th>\n",
       "      <th>Year</th>\n",
       "      <th>Month</th>\n",
       "      <th>Day</th>\n",
       "    </tr>\n",
       "  </thead>\n",
       "  <tbody>\n",
       "    <tr>\n",
       "      <th>0</th>\n",
       "      <td>2011-01-20 00:00:00</td>\n",
       "      <td>1</td>\n",
       "      <td>0</td>\n",
       "      <td>1</td>\n",
       "      <td>1</td>\n",
       "      <td>10.66</td>\n",
       "      <td>11.365</td>\n",
       "      <td>56</td>\n",
       "      <td>26.0027</td>\n",
       "      <td>0</td>\n",
       "      <td>2011</td>\n",
       "      <td>1</td>\n",
       "      <td>20</td>\n",
       "    </tr>\n",
       "    <tr>\n",
       "      <th>1</th>\n",
       "      <td>2011-01-20 01:00:00</td>\n",
       "      <td>1</td>\n",
       "      <td>0</td>\n",
       "      <td>1</td>\n",
       "      <td>1</td>\n",
       "      <td>10.66</td>\n",
       "      <td>13.635</td>\n",
       "      <td>56</td>\n",
       "      <td>0.0000</td>\n",
       "      <td>1</td>\n",
       "      <td>2011</td>\n",
       "      <td>1</td>\n",
       "      <td>20</td>\n",
       "    </tr>\n",
       "    <tr>\n",
       "      <th>2</th>\n",
       "      <td>2011-01-20 02:00:00</td>\n",
       "      <td>1</td>\n",
       "      <td>0</td>\n",
       "      <td>1</td>\n",
       "      <td>1</td>\n",
       "      <td>10.66</td>\n",
       "      <td>13.635</td>\n",
       "      <td>56</td>\n",
       "      <td>0.0000</td>\n",
       "      <td>2</td>\n",
       "      <td>2011</td>\n",
       "      <td>1</td>\n",
       "      <td>20</td>\n",
       "    </tr>\n",
       "    <tr>\n",
       "      <th>3</th>\n",
       "      <td>2011-01-20 03:00:00</td>\n",
       "      <td>1</td>\n",
       "      <td>0</td>\n",
       "      <td>1</td>\n",
       "      <td>1</td>\n",
       "      <td>10.66</td>\n",
       "      <td>12.880</td>\n",
       "      <td>56</td>\n",
       "      <td>11.0014</td>\n",
       "      <td>3</td>\n",
       "      <td>2011</td>\n",
       "      <td>1</td>\n",
       "      <td>20</td>\n",
       "    </tr>\n",
       "    <tr>\n",
       "      <th>4</th>\n",
       "      <td>2011-01-20 04:00:00</td>\n",
       "      <td>1</td>\n",
       "      <td>0</td>\n",
       "      <td>1</td>\n",
       "      <td>1</td>\n",
       "      <td>10.66</td>\n",
       "      <td>12.880</td>\n",
       "      <td>56</td>\n",
       "      <td>11.0014</td>\n",
       "      <td>4</td>\n",
       "      <td>2011</td>\n",
       "      <td>1</td>\n",
       "      <td>20</td>\n",
       "    </tr>\n",
       "  </tbody>\n",
       "</table>\n",
       "</div>"
      ],
      "text/plain": [
       "              datetime  season  holiday  workingday  weather   temp   atemp  \\\n",
       "0  2011-01-20 00:00:00       1        0           1        1  10.66  11.365   \n",
       "1  2011-01-20 01:00:00       1        0           1        1  10.66  13.635   \n",
       "2  2011-01-20 02:00:00       1        0           1        1  10.66  13.635   \n",
       "3  2011-01-20 03:00:00       1        0           1        1  10.66  12.880   \n",
       "4  2011-01-20 04:00:00       1        0           1        1  10.66  12.880   \n",
       "\n",
       "   humidity  windspeed  Hour  Year  Month  Day  \n",
       "0        56    26.0027     0  2011      1   20  \n",
       "1        56     0.0000     1  2011      1   20  \n",
       "2        56     0.0000     2  2011      1   20  \n",
       "3        56    11.0014     3  2011      1   20  \n",
       "4        56    11.0014     4  2011      1   20  "
      ]
     },
     "execution_count": 3,
     "metadata": {},
     "output_type": "execute_result"
    }
   ],
   "source": [
    "df_test['Hour']=df_test['datetime'].apply(lambda x :datetime.datetime.strptime(x, '%Y-%m-%d %H:%M:%S').time().hour )\n",
    "df_test['Year']=df_test['datetime'].apply(lambda x :datetime.datetime.strptime(x, '%Y-%m-%d %H:%M:%S').date().year )\n",
    "df_test['Month']=df_test['datetime'].apply(lambda x :datetime.datetime.strptime(x, '%Y-%m-%d %H:%M:%S').date().month )\n",
    "df_test['Day']=df_test['datetime'].apply(lambda x :datetime.datetime.strptime(x, '%Y-%m-%d %H:%M:%S').date().day )\n",
    "df_test.head()"
   ]
  },
  {
   "cell_type": "markdown",
   "metadata": {},
   "source": [
    "# Perforimg outlier analysis"
   ]
  },
  {
   "cell_type": "code",
   "execution_count": 4,
   "metadata": {},
   "outputs": [],
   "source": [
    "def plot_box_plot(data,feature):\n",
    "    axes=sns.boxplot(data=data,y=feature)\n",
    "    axes.set(ylabel=feature,title=\"Box Plot On {}\".format(feature))\n",
    "    plt.show()"
   ]
  },
  {
   "cell_type": "code",
   "execution_count": 7,
   "metadata": {},
   "outputs": [
    {
     "data": {
      "image/png": "[encoded data removed]",
      "text/plain": [
       "<Figure size 432x288 with 1 Axes>"
      ]
     },
     "metadata": {
      "needs_background": "light"
     },
     "output_type": "display_data"
    },
    {
     "data": {
      "image/png": "[encoded data removed]",
      "text/plain": [
       "<Figure size 432x288 with 1 Axes>"
      ]
     },
     "metadata": {
      "needs_background": "light"
     },
     "output_type": "display_data"
    },
    {
     "data": {
      "image/png": "[encoded data removed]",
      "text/plain": [
       "<Figure size 432x288 with 1 Axes>"
      ]
     },
     "metadata": {
      "needs_background": "light"
     },
     "output_type": "display_data"
    },
    {
     "data": {
      "image/png": "[encoded data removed]",
      "text/plain": [
       "<Figure size 432x288 with 1 Axes>"
      ]
     },
     "metadata": {
      "needs_background": "light"
     },
     "output_type": "display_data"
    }
   ],
   "source": [
    "import seaborn as sns\n",
    "import matplotlib.pyplot as plt\n",
    "numeric_columns=['temp','humidity','windspeed','count']\n",
    "for feature in numeric_columns:\n",
    "    plot_box_plot(df_train,feature)\n",
    "    "
   ]
  },
  {
   "cell_type": "markdown",
   "metadata": {},
   "source": [
    "## Replacing the outlier values with upper boundary"
   ]
  },
  {
   "cell_type": "code",
   "execution_count": 8,
   "metadata": {},
   "outputs": [
    {
     "data": {
      "image/png": "[encoded data removed]",
      "text/plain": [
       "<Figure size 432x288 with 1 Axes>"
      ]
     },
     "metadata": {
      "needs_background": "light"
     },
     "output_type": "display_data"
    }
   ],
   "source": [
    "IQR=df_train['count'].quantile(0.75)-df_train['count'].quantile(0.25)\n",
    "upper_boundary=df_train['count'].quantile(0.75) + 1.5*IQR\n",
    "lower_boundary=df_train['count'].quantile(0.25) - 1.5*IQR\n",
    "df_train.loc[df_train['count']>=upper_boundary,'count']=upper_boundary\n",
    "df_train.loc[df_train['count']<=lower_boundary,'count']=lower_boundary\n",
    "plot_box_plot(df_train,'count')"
   ]
  },
  {
   "cell_type": "code",
   "execution_count": 9,
   "metadata": {},
   "outputs": [
    {
     "data": {
      "image/png": "[encoded data removed]",
      "text/plain": [
       "<Figure size 432x288 with 1 Axes>"
      ]
     },
     "metadata": {
      "needs_background": "light"
     },
     "output_type": "display_data"
    }
   ],
   "source": [
    "IQR_ws=df_train['windspeed'].quantile(0.75)-df_train['windspeed'].quantile(0.25)\n",
    "upper_boundary_windspeed=df_train['windspeed'].quantile(0.75) + 1.5*IQR_ws\n",
    "lower_boundary_windspeed=df_train['windspeed'].quantile(0.25) - 1.5*IQR_ws\n",
    "df_train.loc[df_train['windspeed']>=upper_boundary_windspeed,'windspeed']=upper_boundary_windspeed\n",
    "df_train.loc[df_train['windspeed']<=lower_boundary_windspeed,'windspeed']=lower_boundary_windspeed\n",
    "plot_box_plot(df_train,'windspeed')\n"
   ]
  },
  {
   "cell_type": "code",
   "execution_count": 10,
   "metadata": {},
   "outputs": [
    {
     "data": {
      "image/png": "[encoded data removed]",
      "text/plain": [
       "<Figure size 432x288 with 1 Axes>"
      ]
     },
     "metadata": {
      "needs_background": "light"
     },
     "output_type": "display_data"
    }
   ],
   "source": [
    "plot_box_plot(df_test,'windspeed')"
   ]
  },
  {
   "cell_type": "code",
   "execution_count": 11,
   "metadata": {},
   "outputs": [
    {
     "data": {
      "image/png": "[encoded data removed]",
      "text/plain": [
       "<Figure size 432x288 with 1 Axes>"
      ]
     },
     "metadata": {
      "needs_background": "light"
     },
     "output_type": "display_data"
    }
   ],
   "source": [
    "df_test.loc[df_test['windspeed']>=upper_boundary_windspeed,'windspeed']=upper_boundary_windspeed\n",
    "df_test.loc[df_test['windspeed']<=lower_boundary_windspeed,'windspeed']=lower_boundary_windspeed\n",
    "plot_box_plot(df_test,'windspeed')"
   ]
  },
  {
   "cell_type": "markdown",
   "metadata": {},
   "source": [
    "## How to handle missing values\n",
    "- First we have to check whether the data is missing completely at random or not\n",
    "- If it is missing at random, then we can impute it using mean, mode or median\n",
    "- If it is not missing at random, then we can use methods such as capturing the nan values with a variable,or we can impute it using KNN imputer"
   ]
  },
  {
   "cell_type": "code",
   "execution_count": 190,
   "metadata": {},
   "outputs": [
    {
     "data": {
      "text/plain": [
       "datetime            0\n",
       "season              0\n",
       "holiday             0\n",
       "workingday          0\n",
       "weather             0\n",
       "temp                0\n",
       "atemp               0\n",
       "humidity            0\n",
       "windspeed           0\n",
       "casual              0\n",
       "registered          0\n",
       "count               0\n",
       "Hour                0\n",
       "Year                0\n",
       "Month               0\n",
       "Day                 0\n",
       "count_Boxcox        0\n",
       "windspeed_Boxcox    0\n",
       "dtype: int64"
      ]
     },
     "execution_count": 190,
     "metadata": {},
     "output_type": "execute_result"
    }
   ],
   "source": [
    "df_train.isnull().sum(axis=0)"
   ]
  },
  {
   "cell_type": "markdown",
   "metadata": {},
   "source": [
    "## Now we will explore how the categorical variables change with the dependent variables"
   ]
  },
  {
   "cell_type": "code",
   "execution_count": 191,
   "metadata": {},
   "outputs": [
    {
     "data": {
      "text/plain": [
       "<matplotlib.axes._subplots.AxesSubplot at 0x27edcae9910>"
      ]
     },
     "execution_count": 191,
     "metadata": {},
     "output_type": "execute_result"
    },
    {
     "data": {
      "image/png": "[encoded data removed]",
      "text/plain": [
       "<Figure size 432x288 with 1 Axes>"
      ]
     },
     "metadata": {
      "needs_background": "light"
     },
     "output_type": "display_data"
    }
   ],
   "source": [
    "df_train['season'].hist()"
   ]
  },
  {
   "cell_type": "code",
   "execution_count": 192,
   "metadata": {},
   "outputs": [
    {
     "data": {
      "text/plain": [
       "<matplotlib.axes._subplots.AxesSubplot at 0x27f283ce460>"
      ]
     },
     "execution_count": 192,
     "metadata": {},
     "output_type": "execute_result"
    },
    {
     "data": {
      "image/png": "[encoded data removed]",
      "text/plain": [
       "<Figure size 432x288 with 1 Axes>"
      ]
     },
     "metadata": {
      "needs_background": "light"
     },
     "output_type": "display_data"
    }
   ],
   "source": [
    "df_train.groupby(['season'])['count'].sum().plot.bar()"
   ]
  },
  {
   "cell_type": "code",
   "execution_count": 193,
   "metadata": {},
   "outputs": [
    {
     "data": {
      "text/plain": [
       "<matplotlib.axes._subplots.AxesSubplot at 0x27f282e8cd0>"
      ]
     },
     "execution_count": 193,
     "metadata": {},
     "output_type": "execute_result"
    },
    {
     "data": {
      "image/png": "[encoded data removed]",
      "text/plain": [
       "<Figure size 432x288 with 1 Axes>"
      ]
     },
     "metadata": {
      "needs_background": "light"
     },
     "output_type": "display_data"
    }
   ],
   "source": [
    "df_train['weather'].hist()"
   ]
  },
  {
   "cell_type": "code",
   "execution_count": 194,
   "metadata": {},
   "outputs": [
    {
     "data": {
      "text/plain": [
       "<matplotlib.axes._subplots.AxesSubplot at 0x27f2848c490>"
      ]
     },
     "execution_count": 194,
     "metadata": {},
     "output_type": "execute_result"
    },
    {
     "data": {
      "image/png": "[encoded data removed]",
      "text/plain": [
       "<Figure size 432x288 with 1 Axes>"
      ]
     },
     "metadata": {
      "needs_background": "light"
     },
     "output_type": "display_data"
    }
   ],
   "source": [
    "df_train.groupby(['weather'])['count'].sum().plot.bar()"
   ]
  },
  {
   "cell_type": "markdown",
   "metadata": {},
   "source": [
    "### From this I can see that with change in weather there is change in bookings made which means that there is some relationship between weather and count"
   ]
  },
  {
   "cell_type": "code",
   "execution_count": 195,
   "metadata": {},
   "outputs": [
    {
     "data": {
      "text/plain": [
       "<matplotlib.axes._subplots.AxesSubplot at 0x27f284eadc0>"
      ]
     },
     "execution_count": 195,
     "metadata": {},
     "output_type": "execute_result"
    },
    {
     "data": {
      "image/png": "[encoded data removed]",
      "text/plain": [
       "<Figure size 432x288 with 1 Axes>"
      ]
     },
     "metadata": {
      "needs_background": "light"
     },
     "output_type": "display_data"
    }
   ],
   "source": [
    "df_train['holiday'].hist()"
   ]
  },
  {
   "cell_type": "code",
   "execution_count": 196,
   "metadata": {},
   "outputs": [
    {
     "data": {
      "text/plain": [
       "holiday\n",
       "0    1996527.0\n",
       "1      57714.0\n",
       "Name: count, dtype: float64"
      ]
     },
     "execution_count": 196,
     "metadata": {},
     "output_type": "execute_result"
    }
   ],
   "source": [
    "df_train.groupby(['holiday'])['count'].sum()"
   ]
  },
  {
   "cell_type": "code",
   "execution_count": 197,
   "metadata": {},
   "outputs": [
    {
     "data": {
      "text/plain": [
       "<matplotlib.axes._subplots.AxesSubplot at 0x27f28555d60>"
      ]
     },
     "execution_count": 197,
     "metadata": {},
     "output_type": "execute_result"
    },
    {
     "data": {
      "image/png": "[encoded data removed]",
      "text/plain": [
       "<Figure size 432x288 with 1 Axes>"
      ]
     },
     "metadata": {
      "needs_background": "light"
     },
     "output_type": "display_data"
    }
   ],
   "source": [
    "df_train.groupby(['holiday'])['count'].sum().plot.bar()"
   ]
  },
  {
   "cell_type": "code",
   "execution_count": 198,
   "metadata": {},
   "outputs": [
    {
     "data": {
      "text/plain": [
       "<matplotlib.axes._subplots.AxesSubplot at 0x27f285a0550>"
      ]
     },
     "execution_count": 198,
     "metadata": {},
     "output_type": "execute_result"
    },
    {
     "data": {
      "image/png": "[encoded data removed]",
      "text/plain": [
       "<Figure size 432x288 with 1 Axes>"
      ]
     },
     "metadata": {
      "needs_background": "light"
     },
     "output_type": "display_data"
    }
   ],
   "source": [
    "df_train['workingday'].hist()"
   ]
  },
  {
   "cell_type": "code",
   "execution_count": 199,
   "metadata": {},
   "outputs": [
    {
     "data": {
      "text/plain": [
       "workingday\n",
       "0     652908.0\n",
       "1    1401333.0\n",
       "Name: count, dtype: float64"
      ]
     },
     "execution_count": 199,
     "metadata": {},
     "output_type": "execute_result"
    }
   ],
   "source": [
    "df_train.groupby(['workingday'])['count'].sum()"
   ]
  },
  {
   "cell_type": "code",
   "execution_count": 200,
   "metadata": {},
   "outputs": [
    {
     "data": {
      "text/plain": [
       "<matplotlib.axes._subplots.AxesSubplot at 0x27f2861cca0>"
      ]
     },
     "execution_count": 200,
     "metadata": {},
     "output_type": "execute_result"
    },
    {
     "data": {
      "image/png": "[encoded data removed]",
      "text/plain": [
       "<Figure size 432x288 with 1 Axes>"
      ]
     },
     "metadata": {
      "needs_background": "light"
     },
     "output_type": "display_data"
    }
   ],
   "source": [
    "df_train.groupby(['workingday'])['count'].sum().plot.bar()"
   ]
  },
  {
   "cell_type": "markdown",
   "metadata": {},
   "source": [
    "# Now we will look how the count variable varies with the temporal variables"
   ]
  },
  {
   "cell_type": "code",
   "execution_count": 206,
   "metadata": {},
   "outputs": [
    {
     "data": {
      "text/plain": [
       "<matplotlib.axes._subplots.AxesSubplot at 0x27f28939310>"
      ]
     },
     "execution_count": 206,
     "metadata": {},
     "output_type": "execute_result"
    },
    {
     "data": {
      "image/png": "[encoded data removed]",
      "text/plain": [
       "<Figure size 432x288 with 1 Axes>"
      ]
     },
     "metadata": {
      "needs_background": "light"
     },
     "output_type": "display_data"
    }
   ],
   "source": [
    "df_train.groupby(['Day'])['count'].sum().plot.bar()"
   ]
  },
  {
   "cell_type": "markdown",
   "metadata": {},
   "source": [
    "## From the above figure we can see that change in day has no affecton the bookings made"
   ]
  },
  {
   "cell_type": "code",
   "execution_count": 207,
   "metadata": {},
   "outputs": [
    {
     "data": {
      "text/plain": [
       "<matplotlib.axes._subplots.AxesSubplot at 0x27f2886b190>"
      ]
     },
     "execution_count": 207,
     "metadata": {},
     "output_type": "execute_result"
    },
    {
     "data": {
      "image/png": "[encoded data removed]",
      "text/plain": [
       "<Figure size 1080x360 with 1 Axes>"
      ]
     },
     "metadata": {
      "needs_background": "light"
     },
     "output_type": "display_data"
    }
   ],
   "source": [
    "title=\"Rent bikes per month\"\n",
    "df_train.groupby(['Month'])['count'].sum().plot(kind='bar', figsize=(15,5), width=0.9, title=title)"
   ]
  },
  {
   "cell_type": "markdown",
   "metadata": {},
   "source": [
    "## The cold months experience a dip in the bookings"
   ]
  },
  {
   "cell_type": "code",
   "execution_count": 208,
   "metadata": {},
   "outputs": [
    {
     "data": {
      "text/plain": [
       "<matplotlib.axes._subplots.AxesSubplot at 0x27f286df3d0>"
      ]
     },
     "execution_count": 208,
     "metadata": {},
     "output_type": "execute_result"
    },
    {
     "data": {
      "image/png": "[encoded data removed]",
      "text/plain": [
       "<Figure size 1080x360 with 1 Axes>"
      ]
     },
     "metadata": {
      "needs_background": "light"
     },
     "output_type": "display_data"
    }
   ],
   "source": [
    "title=\"Rent bikes per month in 2011 and 2012\"\n",
    "df_train.groupby(['Month','Year'])['count'].sum().unstack().plot(kind='bar', figsize=(15,5), width=0.9, title=title)"
   ]
  },
  {
   "cell_type": "markdown",
   "metadata": {},
   "source": [
    "## There has been an increase in demand in year 2012 as compared to 2011 which highlights more adoption in the users"
   ]
  },
  {
   "cell_type": "code",
   "execution_count": 209,
   "metadata": {},
   "outputs": [],
   "source": [
    "# method to plot a graph for count per hour\n",
    "def plot_hours(data, message = ''):\n",
    "    \n",
    "    \n",
    "    hours = {}\n",
    "    for hour in range(24):\n",
    "        hours[hour] = data[ data.Hour == hour ]['count'].values\n",
    "\n",
    "    plt.figure(figsize=(20,10))\n",
    "    plt.ylabel(\"Count rent\")\n",
    "    plt.xlabel(\"Hours\")\n",
    "    plt.title(\"count vs hours\\n\" + message)\n",
    "    plt.boxplot( [hours[hour] for hour in range(24)] )\n",
    "    \n",
    "    axis = plt.gca()\n",
    "    axis.set_ylim([1, 1100])\n",
    " "
   ]
  },
  {
   "cell_type": "code",
   "execution_count": 210,
   "metadata": {},
   "outputs": [
    {
     "name": "stderr",
     "output_type": "stream",
     "text": [
      "c:\\users\\aksha\\python\\python38\\lib\\site-packages\\numpy\\core\\_asarray.py:83: VisibleDeprecationWarning: Creating an ndarray from ragged nested sequences (which is a list-or-tuple of lists-or-tuples-or ndarrays with different lengths or shapes) is deprecated. If you meant to do this, you must specify 'dtype=object' when creating the ndarray\n",
      "  return array(a, dtype, copy=False, order=order)\n",
      "c:\\users\\aksha\\python\\python38\\lib\\site-packages\\numpy\\core\\_asarray.py:83: VisibleDeprecationWarning: Creating an ndarray from ragged nested sequences (which is a list-or-tuple of lists-or-tuples-or ndarrays with different lengths or shapes) is deprecated. If you meant to do this, you must specify 'dtype=object' when creating the ndarray\n",
      "  return array(a, dtype, copy=False, order=order)\n"
     ]
    },
    {
     "data": {
      "image/png": "[encoded data removed]",
      "text/plain": [
       "<Figure size 1440x720 with 1 Axes>"
      ]
     },
     "metadata": {
      "needs_background": "light"
     },
     "output_type": "display_data"
    },
    {
     "data": {
      "image/png": "[encoded data removed]",
      "text/plain": [
       "<Figure size 1440x720 with 1 Axes>"
      ]
     },
     "metadata": {
      "needs_background": "light"
     },
     "output_type": "display_data"
    }
   ],
   "source": [
    "plot_hours( df_train[df_train.Year == 2011], 'year 2011') # box plot for hourly count for the mentioned year\n",
    "plot_hours( df_train[df_train.Year == 2012], 'year 2012') # box plot for hourly count for the mentioned year"
   ]
  },
  {
   "cell_type": "markdown",
   "metadata": {},
   "source": [
    "## Now we will check whether the continous variables are normally distributed or not\n",
    "\n",
    "- If they are normally distributed then applying Standardisation over Normalisation is preffered\n",
    "- If they are not normally distributed we will apply several transformations to convert them to be normally distributed\n",
    "- Once we have achieved the normal distribution by checking it through Q-Q plot, we will then check the scales of the transformed distribution. If required we will then apply standardisation/normalisation on that column"
   ]
  },
  {
   "cell_type": "code",
   "execution_count": 204,
   "metadata": {},
   "outputs": [],
   "source": [
    "import scipy.stats as stat\n",
    "import pylab\n",
    "\n",
    "def plot_data(df,feature):\n",
    "    plt.figure(figsize=(10,6))\n",
    "    plt.subplot(1,2,1)\n",
    "    df[feature].hist()\n",
    "    plt.subplot(1,2,2)\n",
    "    stat.probplot(df[feature],dist='norm',plot=pylab)\n",
    "    plt.show()"
   ]
  },
  {
   "cell_type": "code",
   "execution_count": 201,
   "metadata": {},
   "outputs": [
    {
     "data": {
      "image/png": "[encoded data removed]",
      "text/plain": [
       "<Figure size 720x432 with 2 Axes>"
      ]
     },
     "metadata": {
      "needs_background": "light"
     },
     "output_type": "display_data"
    }
   ],
   "source": [
    "plot_data(df_train,'temp')"
   ]
  },
  {
   "cell_type": "code",
   "execution_count": 202,
   "metadata": {},
   "outputs": [
    {
     "data": {
      "image/png": "[encoded data removed]",
      "text/plain": [
       "<Figure size 720x432 with 2 Axes>"
      ]
     },
     "metadata": {
      "needs_background": "light"
     },
     "output_type": "display_data"
    }
   ],
   "source": [
    "plot_data(df_train,'humidity')"
   ]
  },
  {
   "cell_type": "code",
   "execution_count": 203,
   "metadata": {},
   "outputs": [
    {
     "data": {
      "image/png": "[encoded data removed]",
      "text/plain": [
       "<Figure size 720x432 with 2 Axes>"
      ]
     },
     "metadata": {
      "needs_background": "light"
     },
     "output_type": "display_data"
    }
   ],
   "source": [
    "plot_data(df_train,'windspeed')"
   ]
  },
  {
   "cell_type": "code",
   "execution_count": 205,
   "metadata": {},
   "outputs": [
    {
     "data": {
      "image/png": "[encoded data removed]",
      "text/plain": [
       "<Figure size 720x432 with 2 Axes>"
      ]
     },
     "metadata": {
      "needs_background": "light"
     },
     "output_type": "display_data"
    }
   ],
   "source": [
    "plot_data(df_train,'count')"
   ]
  },
  {
   "cell_type": "markdown",
   "metadata": {},
   "source": [
    "## From the above plots, I can see that the windspeed and count i.e the target variable is not normally distributed"
   ]
  },
  {
   "cell_type": "code",
   "execution_count": 16,
   "metadata": {},
   "outputs": [
    {
     "data": {
      "image/png": "[encoded data removed]",
      "text/plain": [
       "<Figure size 720x432 with 2 Axes>"
      ]
     },
     "metadata": {
      "needs_background": "light"
     },
     "output_type": "display_data"
    }
   ],
   "source": [
    "df_train['windspeed_Boxcox'],parameters=stat.boxcox(df_train['windspeed']+1)\n",
    "\n",
    "plot_data(df_train,'windspeed_Boxcox')"
   ]
  },
  {
   "cell_type": "code",
   "execution_count": 211,
   "metadata": {},
   "outputs": [
    {
     "data": {
      "image/png": "[encoded data removed]",
      "text/plain": [
       "<Figure size 864x720 with 2 Axes>"
      ]
     },
     "metadata": {
      "needs_background": "light"
     },
     "output_type": "display_data"
    }
   ],
   "source": [
    "import matplotlib.pyplot as plt\n",
    "plt.figure(figsize=(12,10))\n",
    "corr=df_train.corr()\n",
    "sns.heatmap(corr,annot=True, cmap=plt.cm.CMRmap_r)\n",
    "plt.show()"
   ]
  },
  {
   "cell_type": "markdown",
   "metadata": {},
   "source": [
    "# From the heatmap I can conclude:\n",
    "- Day is independent of the target column\n",
    "- atemp is highly co-related with temp, hence we can drop it \n",
    "- casual and registered users represents the sum of the bookings thus we will drop them before training otherwise it will lead to data leakage"
   ]
  },
  {
   "cell_type": "code",
   "execution_count": null,
   "metadata": {},
   "outputs": [],
   "source": []
  },
  {
   "cell_type": "code",
   "execution_count": null,
   "metadata": {},
   "outputs": [],
   "source": []
  },
  {
   "cell_type": "markdown",
   "metadata": {},
   "source": [
    "## Now we will approach the encoding of categorical variables"
   ]
  },
  {
   "cell_type": "code",
   "execution_count": 18,
   "metadata": {},
   "outputs": [
    {
     "name": "stdout",
     "output_type": "stream",
     "text": [
      "<class 'pandas.core.frame.DataFrame'>\n",
      "RangeIndex: 10886 entries, 0 to 10885\n",
      "Data columns (total 7 columns):\n",
      " #   Column      Non-Null Count  Dtype   \n",
      "---  ------      --------------  -----   \n",
      " 0   season      10886 non-null  category\n",
      " 1   holiday     10886 non-null  category\n",
      " 2   workingday  10886 non-null  category\n",
      " 3   weather     10886 non-null  category\n",
      " 4   Year        10886 non-null  category\n",
      " 5   Month       10886 non-null  category\n",
      " 6   Hour        10886 non-null  category\n",
      "dtypes: category(7)\n",
      "memory usage: 76.4 KB\n"
     ]
    }
   ],
   "source": [
    "cat_cols=['season', 'holiday', 'workingday', 'weather','Year','Month','Hour']\n",
    "num_cols=['temp','humidity','windspeed_Boxcox']\n",
    "for feature in cat_cols:\n",
    "    df_train[feature]=df_train[feature].astype('category')\n",
    "df_train[cat_cols].info()"
   ]
  },
  {
   "cell_type": "code",
   "execution_count": 20,
   "metadata": {},
   "outputs": [],
   "source": [
    "data=df_train[cat_cols].copy()"
   ]
  },
  {
   "cell_type": "markdown",
   "metadata": {},
   "source": [
    "## I implemented Binary Encoding Here\n",
    "- I have to try frequency encoding and see how the performance of the model changes\n",
    "- I have to try target guided mean encoding\n",
    "- I have to try one hot encoding\n"
   ]
  },
  {
   "cell_type": "code",
   "execution_count": 21,
   "metadata": {},
   "outputs": [
    {
     "data": {
      "text/html": [
       "<div>\n",
       "<style scoped>\n",
       "    .dataframe tbody tr th:only-of-type {\n",
       "        vertical-align: middle;\n",
       "    }\n",
       "\n",
       "    .dataframe tbody tr th {\n",
       "        vertical-align: top;\n",
       "    }\n",
       "\n",
       "    .dataframe thead th {\n",
       "        text-align: right;\n",
       "    }\n",
       "</style>\n",
       "<table border=\"1\" class=\"dataframe\">\n",
       "  <thead>\n",
       "    <tr style=\"text-align: right;\">\n",
       "      <th></th>\n",
       "      <th>season_0</th>\n",
       "      <th>season_1</th>\n",
       "      <th>season_2</th>\n",
       "      <th>holiday_0</th>\n",
       "      <th>holiday_1</th>\n",
       "      <th>workingday_0</th>\n",
       "      <th>workingday_1</th>\n",
       "      <th>weather_0</th>\n",
       "      <th>weather_1</th>\n",
       "      <th>weather_2</th>\n",
       "      <th>...</th>\n",
       "      <th>Month_1</th>\n",
       "      <th>Month_2</th>\n",
       "      <th>Month_3</th>\n",
       "      <th>Month_4</th>\n",
       "      <th>Hour_0</th>\n",
       "      <th>Hour_1</th>\n",
       "      <th>Hour_2</th>\n",
       "      <th>Hour_3</th>\n",
       "      <th>Hour_4</th>\n",
       "      <th>Hour_5</th>\n",
       "    </tr>\n",
       "  </thead>\n",
       "  <tbody>\n",
       "    <tr>\n",
       "      <th>0</th>\n",
       "      <td>0</td>\n",
       "      <td>0</td>\n",
       "      <td>1</td>\n",
       "      <td>0</td>\n",
       "      <td>1</td>\n",
       "      <td>0</td>\n",
       "      <td>1</td>\n",
       "      <td>0</td>\n",
       "      <td>0</td>\n",
       "      <td>1</td>\n",
       "      <td>...</td>\n",
       "      <td>0</td>\n",
       "      <td>0</td>\n",
       "      <td>0</td>\n",
       "      <td>1</td>\n",
       "      <td>0</td>\n",
       "      <td>0</td>\n",
       "      <td>0</td>\n",
       "      <td>0</td>\n",
       "      <td>0</td>\n",
       "      <td>1</td>\n",
       "    </tr>\n",
       "    <tr>\n",
       "      <th>1</th>\n",
       "      <td>0</td>\n",
       "      <td>0</td>\n",
       "      <td>1</td>\n",
       "      <td>0</td>\n",
       "      <td>1</td>\n",
       "      <td>0</td>\n",
       "      <td>1</td>\n",
       "      <td>0</td>\n",
       "      <td>0</td>\n",
       "      <td>1</td>\n",
       "      <td>...</td>\n",
       "      <td>0</td>\n",
       "      <td>0</td>\n",
       "      <td>0</td>\n",
       "      <td>1</td>\n",
       "      <td>0</td>\n",
       "      <td>0</td>\n",
       "      <td>0</td>\n",
       "      <td>0</td>\n",
       "      <td>1</td>\n",
       "      <td>0</td>\n",
       "    </tr>\n",
       "    <tr>\n",
       "      <th>2</th>\n",
       "      <td>0</td>\n",
       "      <td>0</td>\n",
       "      <td>1</td>\n",
       "      <td>0</td>\n",
       "      <td>1</td>\n",
       "      <td>0</td>\n",
       "      <td>1</td>\n",
       "      <td>0</td>\n",
       "      <td>0</td>\n",
       "      <td>1</td>\n",
       "      <td>...</td>\n",
       "      <td>0</td>\n",
       "      <td>0</td>\n",
       "      <td>0</td>\n",
       "      <td>1</td>\n",
       "      <td>0</td>\n",
       "      <td>0</td>\n",
       "      <td>0</td>\n",
       "      <td>0</td>\n",
       "      <td>1</td>\n",
       "      <td>1</td>\n",
       "    </tr>\n",
       "    <tr>\n",
       "      <th>3</th>\n",
       "      <td>0</td>\n",
       "      <td>0</td>\n",
       "      <td>1</td>\n",
       "      <td>0</td>\n",
       "      <td>1</td>\n",
       "      <td>0</td>\n",
       "      <td>1</td>\n",
       "      <td>0</td>\n",
       "      <td>0</td>\n",
       "      <td>1</td>\n",
       "      <td>...</td>\n",
       "      <td>0</td>\n",
       "      <td>0</td>\n",
       "      <td>0</td>\n",
       "      <td>1</td>\n",
       "      <td>0</td>\n",
       "      <td>0</td>\n",
       "      <td>0</td>\n",
       "      <td>1</td>\n",
       "      <td>0</td>\n",
       "      <td>0</td>\n",
       "    </tr>\n",
       "    <tr>\n",
       "      <th>4</th>\n",
       "      <td>0</td>\n",
       "      <td>0</td>\n",
       "      <td>1</td>\n",
       "      <td>0</td>\n",
       "      <td>1</td>\n",
       "      <td>0</td>\n",
       "      <td>1</td>\n",
       "      <td>0</td>\n",
       "      <td>0</td>\n",
       "      <td>1</td>\n",
       "      <td>...</td>\n",
       "      <td>0</td>\n",
       "      <td>0</td>\n",
       "      <td>0</td>\n",
       "      <td>1</td>\n",
       "      <td>0</td>\n",
       "      <td>0</td>\n",
       "      <td>0</td>\n",
       "      <td>1</td>\n",
       "      <td>0</td>\n",
       "      <td>1</td>\n",
       "    </tr>\n",
       "    <tr>\n",
       "      <th>...</th>\n",
       "      <td>...</td>\n",
       "      <td>...</td>\n",
       "      <td>...</td>\n",
       "      <td>...</td>\n",
       "      <td>...</td>\n",
       "      <td>...</td>\n",
       "      <td>...</td>\n",
       "      <td>...</td>\n",
       "      <td>...</td>\n",
       "      <td>...</td>\n",
       "      <td>...</td>\n",
       "      <td>...</td>\n",
       "      <td>...</td>\n",
       "      <td>...</td>\n",
       "      <td>...</td>\n",
       "      <td>...</td>\n",
       "      <td>...</td>\n",
       "      <td>...</td>\n",
       "      <td>...</td>\n",
       "      <td>...</td>\n",
       "      <td>...</td>\n",
       "    </tr>\n",
       "    <tr>\n",
       "      <th>10881</th>\n",
       "      <td>1</td>\n",
       "      <td>0</td>\n",
       "      <td>0</td>\n",
       "      <td>0</td>\n",
       "      <td>1</td>\n",
       "      <td>1</td>\n",
       "      <td>0</td>\n",
       "      <td>0</td>\n",
       "      <td>0</td>\n",
       "      <td>1</td>\n",
       "      <td>...</td>\n",
       "      <td>1</td>\n",
       "      <td>1</td>\n",
       "      <td>0</td>\n",
       "      <td>0</td>\n",
       "      <td>0</td>\n",
       "      <td>1</td>\n",
       "      <td>0</td>\n",
       "      <td>1</td>\n",
       "      <td>0</td>\n",
       "      <td>0</td>\n",
       "    </tr>\n",
       "    <tr>\n",
       "      <th>10882</th>\n",
       "      <td>1</td>\n",
       "      <td>0</td>\n",
       "      <td>0</td>\n",
       "      <td>0</td>\n",
       "      <td>1</td>\n",
       "      <td>1</td>\n",
       "      <td>0</td>\n",
       "      <td>0</td>\n",
       "      <td>0</td>\n",
       "      <td>1</td>\n",
       "      <td>...</td>\n",
       "      <td>1</td>\n",
       "      <td>1</td>\n",
       "      <td>0</td>\n",
       "      <td>0</td>\n",
       "      <td>0</td>\n",
       "      <td>1</td>\n",
       "      <td>0</td>\n",
       "      <td>1</td>\n",
       "      <td>0</td>\n",
       "      <td>1</td>\n",
       "    </tr>\n",
       "    <tr>\n",
       "      <th>10883</th>\n",
       "      <td>1</td>\n",
       "      <td>0</td>\n",
       "      <td>0</td>\n",
       "      <td>0</td>\n",
       "      <td>1</td>\n",
       "      <td>1</td>\n",
       "      <td>0</td>\n",
       "      <td>0</td>\n",
       "      <td>0</td>\n",
       "      <td>1</td>\n",
       "      <td>...</td>\n",
       "      <td>1</td>\n",
       "      <td>1</td>\n",
       "      <td>0</td>\n",
       "      <td>0</td>\n",
       "      <td>0</td>\n",
       "      <td>1</td>\n",
       "      <td>0</td>\n",
       "      <td>1</td>\n",
       "      <td>1</td>\n",
       "      <td>0</td>\n",
       "    </tr>\n",
       "    <tr>\n",
       "      <th>10884</th>\n",
       "      <td>1</td>\n",
       "      <td>0</td>\n",
       "      <td>0</td>\n",
       "      <td>0</td>\n",
       "      <td>1</td>\n",
       "      <td>1</td>\n",
       "      <td>0</td>\n",
       "      <td>0</td>\n",
       "      <td>0</td>\n",
       "      <td>1</td>\n",
       "      <td>...</td>\n",
       "      <td>1</td>\n",
       "      <td>1</td>\n",
       "      <td>0</td>\n",
       "      <td>0</td>\n",
       "      <td>0</td>\n",
       "      <td>1</td>\n",
       "      <td>0</td>\n",
       "      <td>1</td>\n",
       "      <td>1</td>\n",
       "      <td>1</td>\n",
       "    </tr>\n",
       "    <tr>\n",
       "      <th>10885</th>\n",
       "      <td>1</td>\n",
       "      <td>0</td>\n",
       "      <td>0</td>\n",
       "      <td>0</td>\n",
       "      <td>1</td>\n",
       "      <td>1</td>\n",
       "      <td>0</td>\n",
       "      <td>0</td>\n",
       "      <td>0</td>\n",
       "      <td>1</td>\n",
       "      <td>...</td>\n",
       "      <td>1</td>\n",
       "      <td>1</td>\n",
       "      <td>0</td>\n",
       "      <td>0</td>\n",
       "      <td>0</td>\n",
       "      <td>1</td>\n",
       "      <td>1</td>\n",
       "      <td>0</td>\n",
       "      <td>0</td>\n",
       "      <td>0</td>\n",
       "    </tr>\n",
       "  </tbody>\n",
       "</table>\n",
       "<p>10886 rows × 23 columns</p>\n",
       "</div>"
      ],
      "text/plain": [
       "       season_0  season_1  season_2  holiday_0  holiday_1  workingday_0  \\\n",
       "0             0         0         1          0          1             0   \n",
       "1             0         0         1          0          1             0   \n",
       "2             0         0         1          0          1             0   \n",
       "3             0         0         1          0          1             0   \n",
       "4             0         0         1          0          1             0   \n",
       "...         ...       ...       ...        ...        ...           ...   \n",
       "10881         1         0         0          0          1             1   \n",
       "10882         1         0         0          0          1             1   \n",
       "10883         1         0         0          0          1             1   \n",
       "10884         1         0         0          0          1             1   \n",
       "10885         1         0         0          0          1             1   \n",
       "\n",
       "       workingday_1  weather_0  weather_1  weather_2  ...  Month_1  Month_2  \\\n",
       "0                 1          0          0          1  ...        0        0   \n",
       "1                 1          0          0          1  ...        0        0   \n",
       "2                 1          0          0          1  ...        0        0   \n",
       "3                 1          0          0          1  ...        0        0   \n",
       "4                 1          0          0          1  ...        0        0   \n",
       "...             ...        ...        ...        ...  ...      ...      ...   \n",
       "10881             0          0          0          1  ...        1        1   \n",
       "10882             0          0          0          1  ...        1        1   \n",
       "10883             0          0          0          1  ...        1        1   \n",
       "10884             0          0          0          1  ...        1        1   \n",
       "10885             0          0          0          1  ...        1        1   \n",
       "\n",
       "       Month_3  Month_4  Hour_0  Hour_1  Hour_2  Hour_3  Hour_4  Hour_5  \n",
       "0            0        1       0       0       0       0       0       1  \n",
       "1            0        1       0       0       0       0       1       0  \n",
       "2            0        1       0       0       0       0       1       1  \n",
       "3            0        1       0       0       0       1       0       0  \n",
       "4            0        1       0       0       0       1       0       1  \n",
       "...        ...      ...     ...     ...     ...     ...     ...     ...  \n",
       "10881        0        0       0       1       0       1       0       0  \n",
       "10882        0        0       0       1       0       1       0       1  \n",
       "10883        0        0       0       1       0       1       1       0  \n",
       "10884        0        0       0       1       0       1       1       1  \n",
       "10885        0        0       0       1       1       0       0       0  \n",
       "\n",
       "[10886 rows x 23 columns]"
      ]
     },
     "execution_count": 21,
     "metadata": {},
     "output_type": "execute_result"
    }
   ],
   "source": [
    "import category_encoders as ce\n",
    "import pandas as pd\n",
    "encoder= ce.BinaryEncoder(cols=cat_cols,return_df=True)\n",
    "encoder.fit(data)\n",
    "data_encoded=encoder.transform(data) \n",
    "data_encoded"
   ]
  },
  {
   "cell_type": "code",
   "execution_count": 23,
   "metadata": {},
   "outputs": [],
   "source": [
    "data_test=df_test[cat_cols].copy()"
   ]
  },
  {
   "cell_type": "code",
   "execution_count": 24,
   "metadata": {},
   "outputs": [
    {
     "data": {
      "text/html": [
       "<div>\n",
       "<style scoped>\n",
       "    .dataframe tbody tr th:only-of-type {\n",
       "        vertical-align: middle;\n",
       "    }\n",
       "\n",
       "    .dataframe tbody tr th {\n",
       "        vertical-align: top;\n",
       "    }\n",
       "\n",
       "    .dataframe thead th {\n",
       "        text-align: right;\n",
       "    }\n",
       "</style>\n",
       "<table border=\"1\" class=\"dataframe\">\n",
       "  <thead>\n",
       "    <tr style=\"text-align: right;\">\n",
       "      <th></th>\n",
       "      <th>season_0</th>\n",
       "      <th>season_1</th>\n",
       "      <th>season_2</th>\n",
       "      <th>holiday_0</th>\n",
       "      <th>holiday_1</th>\n",
       "      <th>workingday_0</th>\n",
       "      <th>workingday_1</th>\n",
       "      <th>weather_0</th>\n",
       "      <th>weather_1</th>\n",
       "      <th>weather_2</th>\n",
       "      <th>...</th>\n",
       "      <th>Month_1</th>\n",
       "      <th>Month_2</th>\n",
       "      <th>Month_3</th>\n",
       "      <th>Month_4</th>\n",
       "      <th>Hour_0</th>\n",
       "      <th>Hour_1</th>\n",
       "      <th>Hour_2</th>\n",
       "      <th>Hour_3</th>\n",
       "      <th>Hour_4</th>\n",
       "      <th>Hour_5</th>\n",
       "    </tr>\n",
       "  </thead>\n",
       "  <tbody>\n",
       "    <tr>\n",
       "      <th>0</th>\n",
       "      <td>0</td>\n",
       "      <td>0</td>\n",
       "      <td>1</td>\n",
       "      <td>0</td>\n",
       "      <td>1</td>\n",
       "      <td>1</td>\n",
       "      <td>0</td>\n",
       "      <td>0</td>\n",
       "      <td>0</td>\n",
       "      <td>1</td>\n",
       "      <td>...</td>\n",
       "      <td>0</td>\n",
       "      <td>0</td>\n",
       "      <td>0</td>\n",
       "      <td>1</td>\n",
       "      <td>0</td>\n",
       "      <td>0</td>\n",
       "      <td>0</td>\n",
       "      <td>0</td>\n",
       "      <td>0</td>\n",
       "      <td>1</td>\n",
       "    </tr>\n",
       "    <tr>\n",
       "      <th>1</th>\n",
       "      <td>0</td>\n",
       "      <td>0</td>\n",
       "      <td>1</td>\n",
       "      <td>0</td>\n",
       "      <td>1</td>\n",
       "      <td>1</td>\n",
       "      <td>0</td>\n",
       "      <td>0</td>\n",
       "      <td>0</td>\n",
       "      <td>1</td>\n",
       "      <td>...</td>\n",
       "      <td>0</td>\n",
       "      <td>0</td>\n",
       "      <td>0</td>\n",
       "      <td>1</td>\n",
       "      <td>0</td>\n",
       "      <td>0</td>\n",
       "      <td>0</td>\n",
       "      <td>0</td>\n",
       "      <td>1</td>\n",
       "      <td>0</td>\n",
       "    </tr>\n",
       "    <tr>\n",
       "      <th>2</th>\n",
       "      <td>0</td>\n",
       "      <td>0</td>\n",
       "      <td>1</td>\n",
       "      <td>0</td>\n",
       "      <td>1</td>\n",
       "      <td>1</td>\n",
       "      <td>0</td>\n",
       "      <td>0</td>\n",
       "      <td>0</td>\n",
       "      <td>1</td>\n",
       "      <td>...</td>\n",
       "      <td>0</td>\n",
       "      <td>0</td>\n",
       "      <td>0</td>\n",
       "      <td>1</td>\n",
       "      <td>0</td>\n",
       "      <td>0</td>\n",
       "      <td>0</td>\n",
       "      <td>0</td>\n",
       "      <td>1</td>\n",
       "      <td>1</td>\n",
       "    </tr>\n",
       "    <tr>\n",
       "      <th>3</th>\n",
       "      <td>0</td>\n",
       "      <td>0</td>\n",
       "      <td>1</td>\n",
       "      <td>0</td>\n",
       "      <td>1</td>\n",
       "      <td>1</td>\n",
       "      <td>0</td>\n",
       "      <td>0</td>\n",
       "      <td>0</td>\n",
       "      <td>1</td>\n",
       "      <td>...</td>\n",
       "      <td>0</td>\n",
       "      <td>0</td>\n",
       "      <td>0</td>\n",
       "      <td>1</td>\n",
       "      <td>0</td>\n",
       "      <td>0</td>\n",
       "      <td>0</td>\n",
       "      <td>1</td>\n",
       "      <td>0</td>\n",
       "      <td>0</td>\n",
       "    </tr>\n",
       "    <tr>\n",
       "      <th>4</th>\n",
       "      <td>0</td>\n",
       "      <td>0</td>\n",
       "      <td>1</td>\n",
       "      <td>0</td>\n",
       "      <td>1</td>\n",
       "      <td>1</td>\n",
       "      <td>0</td>\n",
       "      <td>0</td>\n",
       "      <td>0</td>\n",
       "      <td>1</td>\n",
       "      <td>...</td>\n",
       "      <td>0</td>\n",
       "      <td>0</td>\n",
       "      <td>0</td>\n",
       "      <td>1</td>\n",
       "      <td>0</td>\n",
       "      <td>0</td>\n",
       "      <td>0</td>\n",
       "      <td>1</td>\n",
       "      <td>0</td>\n",
       "      <td>1</td>\n",
       "    </tr>\n",
       "    <tr>\n",
       "      <th>...</th>\n",
       "      <td>...</td>\n",
       "      <td>...</td>\n",
       "      <td>...</td>\n",
       "      <td>...</td>\n",
       "      <td>...</td>\n",
       "      <td>...</td>\n",
       "      <td>...</td>\n",
       "      <td>...</td>\n",
       "      <td>...</td>\n",
       "      <td>...</td>\n",
       "      <td>...</td>\n",
       "      <td>...</td>\n",
       "      <td>...</td>\n",
       "      <td>...</td>\n",
       "      <td>...</td>\n",
       "      <td>...</td>\n",
       "      <td>...</td>\n",
       "      <td>...</td>\n",
       "      <td>...</td>\n",
       "      <td>...</td>\n",
       "      <td>...</td>\n",
       "    </tr>\n",
       "    <tr>\n",
       "      <th>6488</th>\n",
       "      <td>0</td>\n",
       "      <td>0</td>\n",
       "      <td>1</td>\n",
       "      <td>0</td>\n",
       "      <td>1</td>\n",
       "      <td>1</td>\n",
       "      <td>0</td>\n",
       "      <td>0</td>\n",
       "      <td>1</td>\n",
       "      <td>0</td>\n",
       "      <td>...</td>\n",
       "      <td>1</td>\n",
       "      <td>1</td>\n",
       "      <td>0</td>\n",
       "      <td>0</td>\n",
       "      <td>0</td>\n",
       "      <td>1</td>\n",
       "      <td>0</td>\n",
       "      <td>1</td>\n",
       "      <td>0</td>\n",
       "      <td>0</td>\n",
       "    </tr>\n",
       "    <tr>\n",
       "      <th>6489</th>\n",
       "      <td>0</td>\n",
       "      <td>0</td>\n",
       "      <td>1</td>\n",
       "      <td>0</td>\n",
       "      <td>1</td>\n",
       "      <td>1</td>\n",
       "      <td>0</td>\n",
       "      <td>0</td>\n",
       "      <td>1</td>\n",
       "      <td>0</td>\n",
       "      <td>...</td>\n",
       "      <td>1</td>\n",
       "      <td>1</td>\n",
       "      <td>0</td>\n",
       "      <td>0</td>\n",
       "      <td>0</td>\n",
       "      <td>1</td>\n",
       "      <td>0</td>\n",
       "      <td>1</td>\n",
       "      <td>0</td>\n",
       "      <td>1</td>\n",
       "    </tr>\n",
       "    <tr>\n",
       "      <th>6490</th>\n",
       "      <td>0</td>\n",
       "      <td>0</td>\n",
       "      <td>1</td>\n",
       "      <td>0</td>\n",
       "      <td>1</td>\n",
       "      <td>1</td>\n",
       "      <td>0</td>\n",
       "      <td>0</td>\n",
       "      <td>0</td>\n",
       "      <td>1</td>\n",
       "      <td>...</td>\n",
       "      <td>1</td>\n",
       "      <td>1</td>\n",
       "      <td>0</td>\n",
       "      <td>0</td>\n",
       "      <td>0</td>\n",
       "      <td>1</td>\n",
       "      <td>0</td>\n",
       "      <td>1</td>\n",
       "      <td>1</td>\n",
       "      <td>0</td>\n",
       "    </tr>\n",
       "    <tr>\n",
       "      <th>6491</th>\n",
       "      <td>0</td>\n",
       "      <td>0</td>\n",
       "      <td>1</td>\n",
       "      <td>0</td>\n",
       "      <td>1</td>\n",
       "      <td>1</td>\n",
       "      <td>0</td>\n",
       "      <td>0</td>\n",
       "      <td>0</td>\n",
       "      <td>1</td>\n",
       "      <td>...</td>\n",
       "      <td>1</td>\n",
       "      <td>1</td>\n",
       "      <td>0</td>\n",
       "      <td>0</td>\n",
       "      <td>0</td>\n",
       "      <td>1</td>\n",
       "      <td>0</td>\n",
       "      <td>1</td>\n",
       "      <td>1</td>\n",
       "      <td>1</td>\n",
       "    </tr>\n",
       "    <tr>\n",
       "      <th>6492</th>\n",
       "      <td>0</td>\n",
       "      <td>0</td>\n",
       "      <td>1</td>\n",
       "      <td>0</td>\n",
       "      <td>1</td>\n",
       "      <td>1</td>\n",
       "      <td>0</td>\n",
       "      <td>0</td>\n",
       "      <td>0</td>\n",
       "      <td>1</td>\n",
       "      <td>...</td>\n",
       "      <td>1</td>\n",
       "      <td>1</td>\n",
       "      <td>0</td>\n",
       "      <td>0</td>\n",
       "      <td>0</td>\n",
       "      <td>1</td>\n",
       "      <td>1</td>\n",
       "      <td>0</td>\n",
       "      <td>0</td>\n",
       "      <td>0</td>\n",
       "    </tr>\n",
       "  </tbody>\n",
       "</table>\n",
       "<p>6493 rows × 23 columns</p>\n",
       "</div>"
      ],
      "text/plain": [
       "      season_0  season_1  season_2  holiday_0  holiday_1  workingday_0  \\\n",
       "0            0         0         1          0          1             1   \n",
       "1            0         0         1          0          1             1   \n",
       "2            0         0         1          0          1             1   \n",
       "3            0         0         1          0          1             1   \n",
       "4            0         0         1          0          1             1   \n",
       "...        ...       ...       ...        ...        ...           ...   \n",
       "6488         0         0         1          0          1             1   \n",
       "6489         0         0         1          0          1             1   \n",
       "6490         0         0         1          0          1             1   \n",
       "6491         0         0         1          0          1             1   \n",
       "6492         0         0         1          0          1             1   \n",
       "\n",
       "      workingday_1  weather_0  weather_1  weather_2  ...  Month_1  Month_2  \\\n",
       "0                0          0          0          1  ...        0        0   \n",
       "1                0          0          0          1  ...        0        0   \n",
       "2                0          0          0          1  ...        0        0   \n",
       "3                0          0          0          1  ...        0        0   \n",
       "4                0          0          0          1  ...        0        0   \n",
       "...            ...        ...        ...        ...  ...      ...      ...   \n",
       "6488             0          0          1          0  ...        1        1   \n",
       "6489             0          0          1          0  ...        1        1   \n",
       "6490             0          0          0          1  ...        1        1   \n",
       "6491             0          0          0          1  ...        1        1   \n",
       "6492             0          0          0          1  ...        1        1   \n",
       "\n",
       "      Month_3  Month_4  Hour_0  Hour_1  Hour_2  Hour_3  Hour_4  Hour_5  \n",
       "0           0        1       0       0       0       0       0       1  \n",
       "1           0        1       0       0       0       0       1       0  \n",
       "2           0        1       0       0       0       0       1       1  \n",
       "3           0        1       0       0       0       1       0       0  \n",
       "4           0        1       0       0       0       1       0       1  \n",
       "...       ...      ...     ...     ...     ...     ...     ...     ...  \n",
       "6488        0        0       0       1       0       1       0       0  \n",
       "6489        0        0       0       1       0       1       0       1  \n",
       "6490        0        0       0       1       0       1       1       0  \n",
       "6491        0        0       0       1       0       1       1       1  \n",
       "6492        0        0       0       1       1       0       0       0  \n",
       "\n",
       "[6493 rows x 23 columns]"
      ]
     },
     "execution_count": 24,
     "metadata": {},
     "output_type": "execute_result"
    }
   ],
   "source": [
    "data_encoded_test=encoder.transform(data_test) \n",
    "data_encoded_test"
   ]
  },
  {
   "cell_type": "code",
   "execution_count": 25,
   "metadata": {},
   "outputs": [
    {
     "data": {
      "text/plain": [
       "['temp', 'humidity', 'windspeed_Boxcox']"
      ]
     },
     "execution_count": 25,
     "metadata": {},
     "output_type": "execute_result"
    }
   ],
   "source": [
    "num_cols"
   ]
  },
  {
   "cell_type": "code",
   "execution_count": 26,
   "metadata": {},
   "outputs": [
    {
     "data": {
      "text/html": [
       "<div>\n",
       "<style scoped>\n",
       "    .dataframe tbody tr th:only-of-type {\n",
       "        vertical-align: middle;\n",
       "    }\n",
       "\n",
       "    .dataframe tbody tr th {\n",
       "        vertical-align: top;\n",
       "    }\n",
       "\n",
       "    .dataframe thead th {\n",
       "        text-align: right;\n",
       "    }\n",
       "</style>\n",
       "<table border=\"1\" class=\"dataframe\">\n",
       "  <thead>\n",
       "    <tr style=\"text-align: right;\">\n",
       "      <th></th>\n",
       "      <th>temp</th>\n",
       "      <th>humidity</th>\n",
       "      <th>windspeed_Boxcox</th>\n",
       "    </tr>\n",
       "  </thead>\n",
       "  <tbody>\n",
       "    <tr>\n",
       "      <th>0</th>\n",
       "      <td>-1.333661</td>\n",
       "      <td>0.993213</td>\n",
       "      <td>-1.874504</td>\n",
       "    </tr>\n",
       "    <tr>\n",
       "      <th>1</th>\n",
       "      <td>-1.438907</td>\n",
       "      <td>0.941249</td>\n",
       "      <td>-1.874504</td>\n",
       "    </tr>\n",
       "    <tr>\n",
       "      <th>2</th>\n",
       "      <td>-1.438907</td>\n",
       "      <td>0.941249</td>\n",
       "      <td>-1.874504</td>\n",
       "    </tr>\n",
       "    <tr>\n",
       "      <th>3</th>\n",
       "      <td>-1.333661</td>\n",
       "      <td>0.681430</td>\n",
       "      <td>-1.874504</td>\n",
       "    </tr>\n",
       "    <tr>\n",
       "      <th>4</th>\n",
       "      <td>-1.333661</td>\n",
       "      <td>0.681430</td>\n",
       "      <td>-1.874504</td>\n",
       "    </tr>\n",
       "  </tbody>\n",
       "</table>\n",
       "</div>"
      ],
      "text/plain": [
       "       temp  humidity  windspeed_Boxcox\n",
       "0 -1.333661  0.993213         -1.874504\n",
       "1 -1.438907  0.941249         -1.874504\n",
       "2 -1.438907  0.941249         -1.874504\n",
       "3 -1.333661  0.681430         -1.874504\n",
       "4 -1.333661  0.681430         -1.874504"
      ]
     },
     "execution_count": 26,
     "metadata": {},
     "output_type": "execute_result"
    }
   ],
   "source": [
    "from sklearn.preprocessing import StandardScaler\n",
    "\n",
    "scaler=StandardScaler()\n",
    "scaler.fit(df_train[num_cols])\n",
    "### fit vs fit_transform\n",
    "df_scaled=scaler.transform(df_train[num_cols])\n",
    "df_scaled=pd.DataFrame(df_scaled,columns=num_cols)\n",
    "df_scaled.head()"
   ]
  },
  {
   "cell_type": "code",
   "execution_count": 27,
   "metadata": {},
   "outputs": [
    {
     "data": {
      "text/plain": [
       "(10886, 3)"
      ]
     },
     "execution_count": 27,
     "metadata": {},
     "output_type": "execute_result"
    }
   ],
   "source": [
    "df_scaled.shape"
   ]
  },
  {
   "cell_type": "code",
   "execution_count": 28,
   "metadata": {},
   "outputs": [
    {
     "data": {
      "text/html": [
       "<div>\n",
       "<style scoped>\n",
       "    .dataframe tbody tr th:only-of-type {\n",
       "        vertical-align: middle;\n",
       "    }\n",
       "\n",
       "    .dataframe tbody tr th {\n",
       "        vertical-align: top;\n",
       "    }\n",
       "\n",
       "    .dataframe thead th {\n",
       "        text-align: right;\n",
       "    }\n",
       "</style>\n",
       "<table border=\"1\" class=\"dataframe\">\n",
       "  <thead>\n",
       "    <tr style=\"text-align: right;\">\n",
       "      <th></th>\n",
       "      <th>temp</th>\n",
       "      <th>humidity</th>\n",
       "      <th>windspeed_Boxcox</th>\n",
       "    </tr>\n",
       "  </thead>\n",
       "  <tbody>\n",
       "    <tr>\n",
       "      <th>0</th>\n",
       "      <td>-1.228414</td>\n",
       "      <td>-0.305883</td>\n",
       "      <td>1.464861</td>\n",
       "    </tr>\n",
       "    <tr>\n",
       "      <th>1</th>\n",
       "      <td>-1.228414</td>\n",
       "      <td>-0.305883</td>\n",
       "      <td>-1.874504</td>\n",
       "    </tr>\n",
       "    <tr>\n",
       "      <th>2</th>\n",
       "      <td>-1.228414</td>\n",
       "      <td>-0.305883</td>\n",
       "      <td>-1.874504</td>\n",
       "    </tr>\n",
       "    <tr>\n",
       "      <th>3</th>\n",
       "      <td>-1.228414</td>\n",
       "      <td>-0.305883</td>\n",
       "      <td>-0.133850</td>\n",
       "    </tr>\n",
       "    <tr>\n",
       "      <th>4</th>\n",
       "      <td>-1.228414</td>\n",
       "      <td>-0.305883</td>\n",
       "      <td>-0.133850</td>\n",
       "    </tr>\n",
       "  </tbody>\n",
       "</table>\n",
       "</div>"
      ],
      "text/plain": [
       "       temp  humidity  windspeed_Boxcox\n",
       "0 -1.228414 -0.305883          1.464861\n",
       "1 -1.228414 -0.305883         -1.874504\n",
       "2 -1.228414 -0.305883         -1.874504\n",
       "3 -1.228414 -0.305883         -0.133850\n",
       "4 -1.228414 -0.305883         -0.133850"
      ]
     },
     "execution_count": 28,
     "metadata": {},
     "output_type": "execute_result"
    }
   ],
   "source": [
    "df_scaled_test=scaler.transform(df_test[num_cols])\n",
    "df_scaled_test=pd.DataFrame(df_scaled_test,columns=num_cols)\n",
    "df_scaled_test.head()"
   ]
  },
  {
   "cell_type": "code",
   "execution_count": 29,
   "metadata": {},
   "outputs": [
    {
     "data": {
      "text/plain": [
       "(6493, 3)"
      ]
     },
     "execution_count": 29,
     "metadata": {},
     "output_type": "execute_result"
    }
   ],
   "source": [
    "df_scaled_test.shape"
   ]
  },
  {
   "cell_type": "code",
   "execution_count": 30,
   "metadata": {},
   "outputs": [
    {
     "data": {
      "text/plain": [
       "(10886, 26)"
      ]
     },
     "execution_count": 30,
     "metadata": {},
     "output_type": "execute_result"
    }
   ],
   "source": [
    "df_train_preprocessed=pd.concat([data_encoded,df_scaled],axis=1)\n",
    "df_train_preprocessed.shape"
   ]
  },
  {
   "cell_type": "code",
   "execution_count": 31,
   "metadata": {},
   "outputs": [
    {
     "data": {
      "text/plain": [
       "(6493, 26)"
      ]
     },
     "execution_count": 31,
     "metadata": {},
     "output_type": "execute_result"
    }
   ],
   "source": [
    "df_test_preprocessed=pd.concat([data_encoded_test,df_scaled_test],axis=1)\n",
    "df_test_preprocessed.shape"
   ]
  },
  {
   "cell_type": "code",
   "execution_count": 32,
   "metadata": {},
   "outputs": [
    {
     "data": {
      "text/plain": [
       "Index(['season_0', 'season_1', 'season_2', 'holiday_0', 'holiday_1',\n",
       "       'workingday_0', 'workingday_1', 'weather_0', 'weather_1', 'weather_2',\n",
       "       'Year_0', 'Year_1', 'Month_0', 'Month_1', 'Month_2', 'Month_3',\n",
       "       'Month_4', 'Hour_0', 'Hour_1', 'Hour_2', 'Hour_3', 'Hour_4', 'Hour_5',\n",
       "       'temp', 'humidity', 'windspeed_Boxcox'],\n",
       "      dtype='object')"
      ]
     },
     "execution_count": 32,
     "metadata": {},
     "output_type": "execute_result"
    }
   ],
   "source": [
    "df_train_preprocessed.columns"
   ]
  },
  {
   "cell_type": "code",
   "execution_count": 34,
   "metadata": {},
   "outputs": [
    {
     "data": {
      "text/plain": [
       "0         16.0\n",
       "1         40.0\n",
       "2         32.0\n",
       "3         13.0\n",
       "4          1.0\n",
       "         ...  \n",
       "10881    336.0\n",
       "10882    241.0\n",
       "10883    168.0\n",
       "10884    129.0\n",
       "10885     88.0\n",
       "Name: count, Length: 10886, dtype: float64"
      ]
     },
     "execution_count": 34,
     "metadata": {},
     "output_type": "execute_result"
    }
   ],
   "source": [
    "df_train['count']"
   ]
  },
  {
   "cell_type": "code",
   "execution_count": null,
   "metadata": {},
   "outputs": [],
   "source": [
    "X_train=df_train_preprocessed"
   ]
  },
  {
   "cell_type": "code",
   "execution_count": 33,
   "metadata": {},
   "outputs": [],
   "source": [
    "import numpy as np\n",
    "def rmsle(y, y_,convertExp=True):\n",
    "    if convertExp:\n",
    "        y = np.exp(y),\n",
    "        y_ = np.exp(y_)\n",
    "    log1 = np.nan_to_num(np.array([np.log(v + 1) for v in y]))\n",
    "    log2 = np.nan_to_num(np.array([np.log(v + 1) for v in y_]))\n",
    "    calc = (log1 - log2) ** 2\n",
    "    return np.sqrt(np.mean(calc))"
   ]
  },
  {
   "cell_type": "markdown",
   "metadata": {},
   "source": [
    "## The sklearn LinearRegression is not perofrming gradient descent but rather performs SVD to obtain the weight parameters"
   ]
  },
  {
   "cell_type": "code",
   "execution_count": 36,
   "metadata": {},
   "outputs": [
    {
     "name": "stdout",
     "output_type": "stream",
     "text": [
      "RMSLE Value For Linear Regression:  0.855281220295828\n"
     ]
    }
   ],
   "source": [
    "from sklearn.linear_model import LinearRegression,Ridge,Lasso\n",
    "from sklearn.model_selection import GridSearchCV\n",
    "from sklearn import metrics\n",
    "import warnings\n",
    "pd.options.mode.chained_assignment = None\n",
    "warnings.filterwarnings(\"ignore\", category=DeprecationWarning)\n",
    "\n",
    "# Initialize logistic regression model\n",
    "lModel = LinearRegression()\n",
    "\n",
    "# Train the model\n",
    "yLabelsLog = np.log1p(df_train['count'])\n",
    "lModel.fit(X = df_train_preprocessed,y = yLabelsLog)\n",
    "\n",
    "# Make predictions\n",
    "preds = lModel.predict(X=df_train_preprocessed)\n",
    "print (\"RMSLE Value For Linear Regression: \",rmsle(np.exp(yLabelsLog),np.exp(preds),False))"
   ]
  },
  {
   "cell_type": "markdown",
   "metadata": {},
   "source": [
    "## This uses Stochastic Gradient Descent for optimisation"
   ]
  },
  {
   "cell_type": "code",
   "execution_count": 152,
   "metadata": {},
   "outputs": [
    {
     "data": {
      "text/plain": [
       "SGDRegressor(alpha=0.0001, average=False, early_stopping=False, epsilon=0.1,\n",
       "             eta0=0.1, fit_intercept=True, l1_ratio=0.15,\n",
       "             learning_rate='invscaling', loss='squared_loss', max_iter=1000,\n",
       "             n_iter_no_change=5, penalty=None, power_t=0.25, random_state=None,\n",
       "             shuffle=True, tol=0.001, validation_fraction=0.1, verbose=0,\n",
       "             warm_start=False)"
      ]
     },
     "execution_count": 152,
     "metadata": {},
     "output_type": "execute_result"
    }
   ],
   "source": [
    "from sklearn.linear_model import SGDRegressor\n",
    "sgd_reg = SGDRegressor(max_iter=1000, tol=1e-3, penalty=None, eta0=0.1)\n",
    "sgd_reg.fit(X_b, y.ravel())"
   ]
  },
  {
   "cell_type": "code",
   "execution_count": 154,
   "metadata": {},
   "outputs": [
    {
     "data": {
      "text/plain": [
       "array([ 10.64397769,  10.67165564,  13.64613994, ..., 236.42453704,\n",
       "       295.09101103, 796.42589954])"
      ]
     },
     "execution_count": 154,
     "metadata": {},
     "output_type": "execute_result"
    }
   ],
   "source": [
    "np.exp(sgd_reg.predict(X_b))"
   ]
  },
  {
   "cell_type": "code",
   "execution_count": 155,
   "metadata": {},
   "outputs": [
    {
     "name": "stdout",
     "output_type": "stream",
     "text": [
      "RMSLE Value For Linear Regression:  0.8729313820496043\n"
     ]
    }
   ],
   "source": [
    "print (\"RMSLE Value For Linear Regression: \",rmsle(np.exp(yLabelsLog),np.exp(sgd_reg.predict(X_b)),False))"
   ]
  },
  {
   "cell_type": "markdown",
   "metadata": {},
   "source": [
    "## Now we will try to implement a Polynomial Regression Model\n",
    "- A polynomial regression model expands the feature space by transforming the original data to a higher dimension specified by the degree provided at the time of training\n",
    "- This model is still refered to a linear model because it is linear wrt to the weights"
   ]
  },
  {
   "cell_type": "code",
   "execution_count": 157,
   "metadata": {},
   "outputs": [
    {
     "data": {
      "text/plain": [
       "LinearRegression(copy_X=True, fit_intercept=True, n_jobs=None, normalize=False)"
      ]
     },
     "execution_count": 157,
     "metadata": {},
     "output_type": "execute_result"
    }
   ],
   "source": [
    "from sklearn.preprocessing import PolynomialFeatures\n",
    "poly_features = PolynomialFeatures(degree=2, include_bias=False)\n",
    "X_poly = poly_features.fit_transform(X_b)\n",
    "lin_reg = LinearRegression()\n",
    "lin_reg.fit(X_poly, y)\n",
    "# print(lin_reg.intercept_, lin_reg.coef_)"
   ]
  },
  {
   "cell_type": "code",
   "execution_count": 158,
   "metadata": {},
   "outputs": [
    {
     "name": "stdout",
     "output_type": "stream",
     "text": [
      "RMSLE Value For Linear Regression:  0.6172550505175706\n"
     ]
    }
   ],
   "source": [
    "print (\"RMSLE Value For Linear Regression: \",rmsle(np.exp(yLabelsLog),np.exp(lin_reg.predict(X_poly)),False))"
   ]
  },
  {
   "cell_type": "markdown",
   "metadata": {},
   "source": [
    "## Implementing Ridge Regression\n",
    "- Ridge regression is used to regularise the linear regression model by adding a penalty to the weights\n",
    "- The l2 norm of the weight vector is calculated, where the l2 norm represents the euclidean distance\n",
    "- The alpha hyperparameter controls the amount of regularisation, if alhpa is zero then it acts as a linear regression model and if alpha is very high then it behaves as a straight line passing through the mean\n"
   ]
  },
  {
   "cell_type": "code",
   "execution_count": 169,
   "metadata": {},
   "outputs": [
    {
     "name": "stdout",
     "output_type": "stream",
     "text": [
      "RMSLE Value For Linear Regression:  0.8658408741887176\n"
     ]
    }
   ],
   "source": [
    "from sklearn.linear_model import Ridge\n",
    "ridge_reg = Ridge(alpha=300, solver=\"cholesky\")\n",
    "ridge_reg.fit(X_b, y)\n",
    "\n",
    "print (\"RMSLE Value For Linear Regression: \",rmsle(np.exp(yLabelsLog),np.exp(ridge_reg.predict(X_b)),False))"
   ]
  },
  {
   "cell_type": "code",
   "execution_count": 170,
   "metadata": {},
   "outputs": [],
   "source": [
    "\n",
    "submission = pd.DataFrame({\n",
    "        \"datetime\": datetimecol,\n",
    "        \"count\": [max(0, x) for x in np.exp(ridge_reg.predict(df_test_preprocessed))]\n",
    "    })\n",
    "submission.to_csv('bike_predictions_ridge.csv', index=False)"
   ]
  },
  {
   "cell_type": "markdown",
   "metadata": {},
   "source": [
    "## Implementing the Ridge Regression using the Stochastic Gradient class"
   ]
  },
  {
   "cell_type": "code",
   "execution_count": 175,
   "metadata": {},
   "outputs": [
    {
     "name": "stdout",
     "output_type": "stream",
     "text": [
      "RMSLE Value For Linear Regression:  0.8575788094180451\n"
     ]
    }
   ],
   "source": [
    "sgd_reg = SGDRegressor(penalty=\"l2\",alpha=0.001)\n",
    "sgd_reg.fit(X_b, y.ravel())\n",
    "print (\"RMSLE Value For Linear Regression: \",rmsle(np.exp(yLabelsLog),np.exp(sgd_reg.predict(X_b)),False))"
   ]
  },
  {
   "cell_type": "markdown",
   "metadata": {},
   "source": [
    "## Perform hyperparameter tuning for Ridge Regression\n",
    "\n"
   ]
  },
  {
   "cell_type": "code",
   "execution_count": 187,
   "metadata": {},
   "outputs": [
    {
     "name": "stdout",
     "output_type": "stream",
     "text": [
      "{'alpha': 30, 'max_iter': 3000}\n",
      "RMSLE Value For Ridge Regression:  0.85499062156955\n"
     ]
    },
    {
     "data": {
      "text/plain": [
       "<matplotlib.axes._subplots.AxesSubplot at 0x27f2820a460>"
      ]
     },
     "execution_count": 187,
     "metadata": {},
     "output_type": "execute_result"
    },
    {
     "data": {
      "image/png": "[encoded data removed]",
      "text/plain": [
       "<Figure size 864x360 with 1 Axes>"
      ]
     },
     "metadata": {
      "needs_background": "light"
     },
     "output_type": "display_data"
    }
   ],
   "source": [
    "from sklearn.linear_model import LinearRegression,Ridge,Lasso\n",
    "from sklearn.model_selection import GridSearchCV\n",
    "from sklearn import metrics\n",
    "\n",
    "ridge_m_ = Ridge()\n",
    "ridge_params_ = { 'max_iter':[3000],'alpha':[0.1, 1, 2, 3, 4, 10, 30,100,200,300,400,800,900,1000]}\n",
    "rmsle_scorer = metrics.make_scorer(rmsle, greater_is_better=False)\n",
    "grid_ridge_m = GridSearchCV( ridge_m_,\n",
    "                          ridge_params_,\n",
    "                          scoring = rmsle_scorer,\n",
    "                          cv=5)\n",
    "yLabelsLog = np.log1p(yLabels)\n",
    "grid_ridge_m.fit( X_b, yLabelsLog )\n",
    "preds = grid_ridge_m.predict(X= X_b)\n",
    "print (grid_ridge_m.best_params_)\n",
    "print (\"RMSLE Value For Ridge Regression: \",rmsle(np.exp(yLabelsLog),np.exp(preds),False))\n",
    "\n",
    "fig,ax= plt.subplots()\n",
    "fig.set_size_inches(12,5)\n",
    "df = pd.DataFrame(grid_ridge_m.cv_results_)\n",
    "cvres = grid_ridge_m.cv_results_\n",
    "mean_scores=[]\n",
    "alpha=[]\n",
    "for mean_score, params in zip(cvres[\"mean_test_score\"], cvres[\"params\"]):\n",
    "    \n",
    "    mean_scores.append(-mean_score)\n",
    "    alpha.append(params['alpha'])\n",
    "\n",
    "df=pd.DataFrame({'Alpha':alpha,'RMSLE':mean_scores})\n",
    "sns.pointplot(data=df,x=\"Alpha\",y=\"RMSLE\",ax=ax)"
   ]
  },
  {
   "cell_type": "markdown",
   "metadata": {},
   "source": [
    "## Implementing the Lasso class\n",
    "- Lasso Regression using l1 norm as a regularisation technique\n",
    "- It also performs feature selection and eliminates the variables that are not important"
   ]
  },
  {
   "cell_type": "code",
   "execution_count": 176,
   "metadata": {},
   "outputs": [
    {
     "data": {
      "text/plain": [
       "array([3.24879337, 3.22329447, 3.22329447, ..., 4.56467607, 4.56467607,\n",
       "       5.25237102])"
      ]
     },
     "execution_count": 176,
     "metadata": {},
     "output_type": "execute_result"
    }
   ],
   "source": [
    "from sklearn.linear_model import Lasso\n",
    "lasso_reg = Lasso(alpha=0.1)\n",
    "lasso_reg.fit(X_b, y)\n",
    "lasso_reg.predict(X_b)"
   ]
  },
  {
   "cell_type": "code",
   "execution_count": 189,
   "metadata": {},
   "outputs": [
    {
     "name": "stdout",
     "output_type": "stream",
     "text": [
      "{'alpha': 0.0025, 'max_iter': 3000}\n",
      "RMSLE Value For Lasso Regression:  0.8557030363556922\n"
     ]
    },
    {
     "data": {
      "text/plain": [
       "<matplotlib.axes._subplots.AxesSubplot at 0x27f282f6d00>"
      ]
     },
     "execution_count": 189,
     "metadata": {},
     "output_type": "execute_result"
    },
    {
     "data": {
      "image/png": "[encoded data removed]",
      "text/plain": [
       "<Figure size 864x360 with 1 Axes>"
      ]
     },
     "metadata": {
      "needs_background": "light"
     },
     "output_type": "display_data"
    }
   ],
   "source": [
    "# Implementing hyperparameter tuning for Lasso\n",
    "alpha  = 1/np.array([0.1, 1, 2, 3, 4, 10, 30,100,200,300,400,800,900,1000])\n",
    "lasso_params_={'max_iter':[3000],'alpha':alpha}\n",
    "grid_lasso_m = GridSearchCV(Lasso(),lasso_params_,scoring = rmsle_scorer,cv=5)\n",
    "grid_lasso_m.fit(X_b,y)\n",
    "print(grid_lasso_m.best_params_)\n",
    "preds=grid_lasso_m.predict(X_b)\n",
    "print (\"RMSLE Value For Lasso Regression: \",rmsle(np.exp(yLabelsLog),np.exp(preds),False))\n",
    "\n",
    "fig,ax= plt.subplots()\n",
    "fig.set_size_inches(12,5)\n",
    "df = pd.DataFrame(grid_ridge_m.cv_results_)\n",
    "cvres = grid_lasso_m.cv_results_\n",
    "mean_scores=[]\n",
    "alpha=[]\n",
    "for mean_score, params in zip(cvres[\"mean_test_score\"], cvres[\"params\"]):\n",
    "    \n",
    "    mean_scores.append(-mean_score)\n",
    "    alpha.append(params['alpha'])\n",
    "\n",
    "df=pd.DataFrame({'Alpha':alpha,'RMSLE':mean_scores})\n",
    "sns.pointplot(data=df,x=\"Alpha\",y=\"RMSLE\",ax=ax)"
   ]
  },
  {
   "cell_type": "code",
   "execution_count": 61,
   "metadata": {},
   "outputs": [
    {
     "data": {
      "text/plain": [
       "array([0.00614727, 0.02676006, 0.00802394, 0.        , 0.01155797,\n",
       "       0.00414535, 0.00816367, 0.        , 0.00659217, 0.        ,\n",
       "       0.05197465, 0.04714693, 0.00150136, 0.01450195, 0.01077627,\n",
       "       0.00297315, 0.00049713, 0.01110797, 0.09513454, 0.07440548,\n",
       "       0.03388499, 0.00888938, 0.        , 0.14375729, 0.09231859,\n",
       "       0.01839329])"
      ]
     },
     "execution_count": 61,
     "metadata": {},
     "output_type": "execute_result"
    }
   ],
   "source": [
    "from sklearn.feature_selection import mutual_info_regression\n",
    "# determine the mutual information\n",
    "mutual_info = mutual_info_regression(df_train_preprocessed,yLabelsLog)\n",
    "mutual_info"
   ]
  },
  {
   "cell_type": "code",
   "execution_count": 62,
   "metadata": {},
   "outputs": [
    {
     "data": {
      "text/plain": [
       "temp                0.143757\n",
       "Hour_1              0.095135\n",
       "humidity            0.092319\n",
       "Hour_2              0.074405\n",
       "Year_0              0.051975\n",
       "Year_1              0.047147\n",
       "Hour_3              0.033885\n",
       "season_1            0.026760\n",
       "windspeed_Boxcox    0.018393\n",
       "Month_1             0.014502\n",
       "holiday_1           0.011558\n",
       "Hour_0              0.011108\n",
       "Month_2             0.010776\n",
       "Hour_4              0.008889\n",
       "workingday_1        0.008164\n",
       "season_2            0.008024\n",
       "weather_1           0.006592\n",
       "season_0            0.006147\n",
       "workingday_0        0.004145\n",
       "Month_3             0.002973\n",
       "Month_0             0.001501\n",
       "Month_4             0.000497\n",
       "weather_0           0.000000\n",
       "weather_2           0.000000\n",
       "holiday_0           0.000000\n",
       "Hour_5              0.000000\n",
       "dtype: float64"
      ]
     },
     "execution_count": 62,
     "metadata": {},
     "output_type": "execute_result"
    }
   ],
   "source": [
    "mutual_info = pd.Series(mutual_info)\n",
    "mutual_info.index = df_train_preprocessed.columns\n",
    "mutual_info.sort_values(ascending=False)"
   ]
  },
  {
   "cell_type": "code",
   "execution_count": 64,
   "metadata": {},
   "outputs": [
    {
     "data": {
      "text/plain": [
       "<matplotlib.axes._subplots.AxesSubplot at 0x27eb381d700>"
      ]
     },
     "execution_count": 64,
     "metadata": {},
     "output_type": "execute_result"
    },
    {
     "data": {
      "image/png": "[encoded data removed]",
      "text/plain": [
       "<Figure size 1080x360 with 1 Axes>"
      ]
     },
     "metadata": {
      "needs_background": "light"
     },
     "output_type": "display_data"
    }
   ],
   "source": [
    "mutual_info.sort_values(ascending=False).plot.bar(figsize=(15,5))"
   ]
  },
  {
   "cell_type": "code",
   "execution_count": 65,
   "metadata": {},
   "outputs": [
    {
     "data": {
      "text/plain": [
       "SelectPercentile(percentile=20,\n",
       "                 score_func=<function mutual_info_regression at 0x0000027EBBBBE790>)"
      ]
     },
     "execution_count": 65,
     "metadata": {},
     "output_type": "execute_result"
    }
   ],
   "source": [
    "from sklearn.feature_selection import SelectPercentile\n",
    "\n",
    "## Selecting the top 20 percentile\n",
    "selected_top_columns = SelectPercentile(mutual_info_regression, percentile=20)\n",
    "selected_top_columns.fit(df_train_preprocessed,yLabelsLog)"
   ]
  },
  {
   "cell_type": "code",
   "execution_count": 69,
   "metadata": {},
   "outputs": [
    {
     "data": {
      "text/plain": [
       "['Year_0', 'Hour_1', 'Hour_2', 'temp', 'humidity']"
      ]
     },
     "execution_count": 69,
     "metadata": {},
     "output_type": "execute_result"
    }
   ],
   "source": [
    "important_columns=list(df_train_preprocessed.columns[selected_top_columns.get_support()])\n",
    "important_columns"
   ]
  },
  {
   "cell_type": "markdown",
   "metadata": {},
   "source": [
    "## Now  I will train the model using only these selected features"
   ]
  },
  {
   "cell_type": "code",
   "execution_count": 70,
   "metadata": {},
   "outputs": [
    {
     "name": "stdout",
     "output_type": "stream",
     "text": [
      "RMSLE Value For Linear Regression:  0.9063207790580466\n"
     ]
    }
   ],
   "source": [
    "# Initialize logistic regression model\n",
    "lModel1 = LinearRegression()\n",
    "\n",
    "# Train the model\n",
    "yLabelsLog = np.log1p(df_train['count'])\n",
    "lModel1.fit(X = df_train_preprocessed[important_columns],y = yLabelsLog)\n",
    "\n",
    "# Make predictions\n",
    "preds1 = lModel1.predict(X=df_train_preprocessed[important_columns])\n",
    "print (\"RMSLE Value For Linear Regression: \",rmsle(np.exp(yLabelsLog),np.exp(preds1),False))"
   ]
  },
  {
   "cell_type": "markdown",
   "metadata": {},
   "source": [
    "## My RMSLE increased due to the drop in columns, but do we observe the increase in accuracy score with this change?"
   ]
  },
  {
   "cell_type": "code",
   "execution_count": 72,
   "metadata": {},
   "outputs": [],
   "source": [
    "preds = lModel1.predict(X= df_test_preprocessed[important_columns])"
   ]
  },
  {
   "cell_type": "code",
   "execution_count": 73,
   "metadata": {},
   "outputs": [],
   "source": [
    "submission = pd.DataFrame({\n",
    "        \"datetime\": datetimecol,\n",
    "        \"count\": [max(0, x) for x in np.exp(preds)]\n",
    "    })\n",
    "submission.to_csv('bike_predictions_impfeatures.csv', index=False)"
   ]
  },
  {
   "cell_type": "code",
   "execution_count": 40,
   "metadata": {},
   "outputs": [
    {
     "data": {
      "text/plain": [
       "['2011-01-20 00:00:00',\n",
       " '2011-01-20 01:00:00',\n",
       " '2011-01-20 02:00:00',\n",
       " '2011-01-20 03:00:00',\n",
       " '2011-01-20 04:00:00',\n",
       " '2011-01-20 05:00:00',\n",
       " '2011-01-20 06:00:00',\n",
       " '2011-01-20 07:00:00',\n",
       " '2011-01-20 08:00:00',\n",
       " '2011-01-20 09:00:00',\n",
       " '2011-01-20 10:00:00',\n",
       " '2011-01-20 11:00:00',\n",
       " '2011-01-20 12:00:00',\n",
       " '2011-01-20 13:00:00',\n",
       " '2011-01-20 14:00:00',\n",
       " '2011-01-20 15:00:00',\n",
       " '2011-01-20 16:00:00',\n",
       " '2011-01-20 17:00:00',\n",
       " '2011-01-20 18:00:00',\n",
       " '2011-01-20 19:00:00',\n",
       " '2011-01-20 20:00:00',\n",
       " '2011-01-20 21:00:00',\n",
       " '2011-01-20 22:00:00',\n",
       " '2011-01-20 23:00:00',\n",
       " '2011-01-21 00:00:00',\n",
       " '2011-01-21 01:00:00',\n",
       " '2011-01-21 02:00:00',\n",
       " '2011-01-21 03:00:00',\n",
       " '2011-01-21 04:00:00',\n",
       " '2011-01-21 05:00:00',\n",
       " '2011-01-21 06:00:00',\n",
       " '2011-01-21 07:00:00',\n",
       " '2011-01-21 08:00:00',\n",
       " '2011-01-21 09:00:00',\n",
       " '2011-01-21 10:00:00',\n",
       " '2011-01-21 11:00:00',\n",
       " '2011-01-21 12:00:00',\n",
       " '2011-01-21 13:00:00',\n",
       " '2011-01-21 14:00:00',\n",
       " '2011-01-21 15:00:00',\n",
       " '2011-01-21 16:00:00',\n",
       " '2011-01-21 17:00:00',\n",
       " '2011-01-21 18:00:00',\n",
       " '2011-01-21 19:00:00',\n",
       " '2011-01-21 20:00:00',\n",
       " '2011-01-21 21:00:00',\n",
       " '2011-01-21 22:00:00',\n",
       " '2011-01-21 23:00:00',\n",
       " '2011-01-22 00:00:00',\n",
       " '2011-01-22 01:00:00',\n",
       " '2011-01-22 02:00:00',\n",
       " '2011-01-22 03:00:00',\n",
       " '2011-01-22 04:00:00',\n",
       " '2011-01-22 06:00:00',\n",
       " '2011-01-22 07:00:00',\n",
       " '2011-01-22 08:00:00',\n",
       " '2011-01-22 09:00:00',\n",
       " '2011-01-22 10:00:00',\n",
       " '2011-01-22 11:00:00',\n",
       " '2011-01-22 12:00:00',\n",
       " '2011-01-22 13:00:00',\n",
       " '2011-01-22 14:00:00',\n",
       " '2011-01-22 15:00:00',\n",
       " '2011-01-22 16:00:00',\n",
       " '2011-01-22 17:00:00',\n",
       " '2011-01-22 18:00:00',\n",
       " '2011-01-22 19:00:00',\n",
       " '2011-01-22 20:00:00',\n",
       " '2011-01-22 21:00:00',\n",
       " '2011-01-22 22:00:00',\n",
       " '2011-01-22 23:00:00',\n",
       " '2011-01-23 00:00:00',\n",
       " '2011-01-23 01:00:00',\n",
       " '2011-01-23 02:00:00',\n",
       " '2011-01-23 03:00:00',\n",
       " '2011-01-23 05:00:00',\n",
       " '2011-01-23 06:00:00',\n",
       " '2011-01-23 07:00:00',\n",
       " '2011-01-23 08:00:00',\n",
       " '2011-01-23 09:00:00',\n",
       " '2011-01-23 10:00:00',\n",
       " '2011-01-23 11:00:00',\n",
       " '2011-01-23 12:00:00',\n",
       " '2011-01-23 13:00:00',\n",
       " '2011-01-23 14:00:00',\n",
       " '2011-01-23 15:00:00',\n",
       " '2011-01-23 16:00:00',\n",
       " '2011-01-23 17:00:00',\n",
       " '2011-01-23 18:00:00',\n",
       " '2011-01-23 19:00:00',\n",
       " '2011-01-23 20:00:00',\n",
       " '2011-01-23 21:00:00',\n",
       " '2011-01-23 22:00:00',\n",
       " '2011-01-23 23:00:00',\n",
       " '2011-01-24 00:00:00',\n",
       " '2011-01-24 01:00:00',\n",
       " '2011-01-24 03:00:00',\n",
       " '2011-01-24 04:00:00',\n",
       " '2011-01-24 05:00:00',\n",
       " '2011-01-24 06:00:00',\n",
       " '2011-01-24 07:00:00',\n",
       " '2011-01-24 08:00:00',\n",
       " '2011-01-24 09:00:00',\n",
       " '2011-01-24 10:00:00',\n",
       " '2011-01-24 11:00:00',\n",
       " '2011-01-24 12:00:00',\n",
       " '2011-01-24 13:00:00',\n",
       " '2011-01-24 14:00:00',\n",
       " '2011-01-24 15:00:00',\n",
       " '2011-01-24 16:00:00',\n",
       " '2011-01-24 17:00:00',\n",
       " '2011-01-24 18:00:00',\n",
       " '2011-01-24 19:00:00',\n",
       " '2011-01-24 20:00:00',\n",
       " '2011-01-24 21:00:00',\n",
       " '2011-01-24 22:00:00',\n",
       " '2011-01-24 23:00:00',\n",
       " '2011-01-25 00:00:00',\n",
       " '2011-01-25 01:00:00',\n",
       " '2011-01-25 02:00:00',\n",
       " '2011-01-25 04:00:00',\n",
       " '2011-01-25 05:00:00',\n",
       " '2011-01-25 06:00:00',\n",
       " '2011-01-25 07:00:00',\n",
       " '2011-01-25 08:00:00',\n",
       " '2011-01-25 09:00:00',\n",
       " '2011-01-25 10:00:00',\n",
       " '2011-01-25 11:00:00',\n",
       " '2011-01-25 12:00:00',\n",
       " '2011-01-25 13:00:00',\n",
       " '2011-01-25 14:00:00',\n",
       " '2011-01-25 15:00:00',\n",
       " '2011-01-25 16:00:00',\n",
       " '2011-01-25 17:00:00',\n",
       " '2011-01-25 18:00:00',\n",
       " '2011-01-25 19:00:00',\n",
       " '2011-01-25 20:00:00',\n",
       " '2011-01-25 21:00:00',\n",
       " '2011-01-25 22:00:00',\n",
       " '2011-01-25 23:00:00',\n",
       " '2011-01-26 00:00:00',\n",
       " '2011-01-26 01:00:00',\n",
       " '2011-01-26 02:00:00',\n",
       " '2011-01-26 05:00:00',\n",
       " '2011-01-26 06:00:00',\n",
       " '2011-01-26 07:00:00',\n",
       " '2011-01-26 08:00:00',\n",
       " '2011-01-26 09:00:00',\n",
       " '2011-01-26 10:00:00',\n",
       " '2011-01-26 11:00:00',\n",
       " '2011-01-26 12:00:00',\n",
       " '2011-01-26 13:00:00',\n",
       " '2011-01-26 14:00:00',\n",
       " '2011-01-26 15:00:00',\n",
       " '2011-01-26 16:00:00',\n",
       " '2011-01-26 17:00:00',\n",
       " '2011-01-27 16:00:00',\n",
       " '2011-01-27 17:00:00',\n",
       " '2011-01-27 18:00:00',\n",
       " '2011-01-27 19:00:00',\n",
       " '2011-01-27 20:00:00',\n",
       " '2011-01-27 21:00:00',\n",
       " '2011-01-27 22:00:00',\n",
       " '2011-01-27 23:00:00',\n",
       " '2011-01-28 00:00:00',\n",
       " '2011-01-28 01:00:00',\n",
       " '2011-01-28 02:00:00',\n",
       " '2011-01-28 03:00:00',\n",
       " '2011-01-28 05:00:00',\n",
       " '2011-01-28 06:00:00',\n",
       " '2011-01-28 07:00:00',\n",
       " '2011-01-28 08:00:00',\n",
       " '2011-01-28 09:00:00',\n",
       " '2011-01-28 10:00:00',\n",
       " '2011-01-28 11:00:00',\n",
       " '2011-01-28 12:00:00',\n",
       " '2011-01-28 13:00:00',\n",
       " '2011-01-28 14:00:00',\n",
       " '2011-01-28 15:00:00',\n",
       " '2011-01-28 16:00:00',\n",
       " '2011-01-28 17:00:00',\n",
       " '2011-01-28 18:00:00',\n",
       " '2011-01-28 19:00:00',\n",
       " '2011-01-28 20:00:00',\n",
       " '2011-01-28 21:00:00',\n",
       " '2011-01-28 22:00:00',\n",
       " '2011-01-28 23:00:00',\n",
       " '2011-01-29 00:00:00',\n",
       " '2011-01-29 01:00:00',\n",
       " '2011-01-29 02:00:00',\n",
       " '2011-01-29 03:00:00',\n",
       " '2011-01-29 04:00:00',\n",
       " '2011-01-29 06:00:00',\n",
       " '2011-01-29 07:00:00',\n",
       " '2011-01-29 08:00:00',\n",
       " '2011-01-29 09:00:00',\n",
       " '2011-01-29 10:00:00',\n",
       " '2011-01-29 11:00:00',\n",
       " '2011-01-29 12:00:00',\n",
       " '2011-01-29 13:00:00',\n",
       " '2011-01-29 14:00:00',\n",
       " '2011-01-29 15:00:00',\n",
       " '2011-01-29 16:00:00',\n",
       " '2011-01-29 17:00:00',\n",
       " '2011-01-29 18:00:00',\n",
       " '2011-01-29 19:00:00',\n",
       " '2011-01-29 20:00:00',\n",
       " '2011-01-29 21:00:00',\n",
       " '2011-01-29 22:00:00',\n",
       " '2011-01-29 23:00:00',\n",
       " '2011-01-30 00:00:00',\n",
       " '2011-01-30 01:00:00',\n",
       " '2011-01-30 02:00:00',\n",
       " '2011-01-30 03:00:00',\n",
       " '2011-01-30 04:00:00',\n",
       " '2011-01-30 05:00:00',\n",
       " '2011-01-30 07:00:00',\n",
       " '2011-01-30 08:00:00',\n",
       " '2011-01-30 09:00:00',\n",
       " '2011-01-30 10:00:00',\n",
       " '2011-01-30 11:00:00',\n",
       " '2011-01-30 12:00:00',\n",
       " '2011-01-30 13:00:00',\n",
       " '2011-01-30 14:00:00',\n",
       " '2011-01-30 15:00:00',\n",
       " '2011-01-30 16:00:00',\n",
       " '2011-01-30 17:00:00',\n",
       " '2011-01-30 18:00:00',\n",
       " '2011-01-30 19:00:00',\n",
       " '2011-01-30 20:00:00',\n",
       " '2011-01-30 21:00:00',\n",
       " '2011-01-30 22:00:00',\n",
       " '2011-01-30 23:00:00',\n",
       " '2011-01-31 00:00:00',\n",
       " '2011-01-31 01:00:00',\n",
       " '2011-01-31 02:00:00',\n",
       " '2011-01-31 03:00:00',\n",
       " '2011-01-31 04:00:00',\n",
       " '2011-01-31 05:00:00',\n",
       " '2011-01-31 06:00:00',\n",
       " '2011-01-31 07:00:00',\n",
       " '2011-01-31 08:00:00',\n",
       " '2011-01-31 09:00:00',\n",
       " '2011-01-31 10:00:00',\n",
       " '2011-01-31 11:00:00',\n",
       " '2011-01-31 12:00:00',\n",
       " '2011-01-31 13:00:00',\n",
       " '2011-01-31 14:00:00',\n",
       " '2011-01-31 15:00:00',\n",
       " '2011-01-31 16:00:00',\n",
       " '2011-01-31 17:00:00',\n",
       " '2011-01-31 18:00:00',\n",
       " '2011-01-31 19:00:00',\n",
       " '2011-01-31 20:00:00',\n",
       " '2011-01-31 21:00:00',\n",
       " '2011-01-31 22:00:00',\n",
       " '2011-01-31 23:00:00',\n",
       " '2011-02-20 00:00:00',\n",
       " '2011-02-20 01:00:00',\n",
       " '2011-02-20 02:00:00',\n",
       " '2011-02-20 03:00:00',\n",
       " '2011-02-20 04:00:00',\n",
       " '2011-02-20 06:00:00',\n",
       " '2011-02-20 07:00:00',\n",
       " '2011-02-20 08:00:00',\n",
       " '2011-02-20 09:00:00',\n",
       " '2011-02-20 10:00:00',\n",
       " '2011-02-20 11:00:00',\n",
       " '2011-02-20 12:00:00',\n",
       " '2011-02-20 13:00:00',\n",
       " '2011-02-20 14:00:00',\n",
       " '2011-02-20 15:00:00',\n",
       " '2011-02-20 16:00:00',\n",
       " '2011-02-20 17:00:00',\n",
       " '2011-02-20 18:00:00',\n",
       " '2011-02-20 19:00:00',\n",
       " '2011-02-20 20:00:00',\n",
       " '2011-02-20 21:00:00',\n",
       " '2011-02-20 22:00:00',\n",
       " '2011-02-20 23:00:00',\n",
       " '2011-02-21 00:00:00',\n",
       " '2011-02-21 01:00:00',\n",
       " '2011-02-21 02:00:00',\n",
       " '2011-02-21 03:00:00',\n",
       " '2011-02-21 04:00:00',\n",
       " '2011-02-21 05:00:00',\n",
       " '2011-02-21 06:00:00',\n",
       " '2011-02-21 07:00:00',\n",
       " '2011-02-21 08:00:00',\n",
       " '2011-02-21 09:00:00',\n",
       " '2011-02-21 10:00:00',\n",
       " '2011-02-21 11:00:00',\n",
       " '2011-02-21 12:00:00',\n",
       " '2011-02-21 13:00:00',\n",
       " '2011-02-21 14:00:00',\n",
       " '2011-02-21 15:00:00',\n",
       " '2011-02-21 16:00:00',\n",
       " '2011-02-21 17:00:00',\n",
       " '2011-02-21 18:00:00',\n",
       " '2011-02-21 19:00:00',\n",
       " '2011-02-21 20:00:00',\n",
       " '2011-02-21 21:00:00',\n",
       " '2011-02-21 22:00:00',\n",
       " '2011-02-21 23:00:00',\n",
       " '2011-02-22 06:00:00',\n",
       " '2011-02-22 07:00:00',\n",
       " '2011-02-22 08:00:00',\n",
       " '2011-02-22 09:00:00',\n",
       " '2011-02-22 10:00:00',\n",
       " '2011-02-22 11:00:00',\n",
       " '2011-02-22 12:00:00',\n",
       " '2011-02-22 13:00:00',\n",
       " '2011-02-22 14:00:00',\n",
       " '2011-02-22 15:00:00',\n",
       " '2011-02-22 16:00:00',\n",
       " '2011-02-22 17:00:00',\n",
       " '2011-02-22 18:00:00',\n",
       " '2011-02-22 19:00:00',\n",
       " '2011-02-22 20:00:00',\n",
       " '2011-02-22 21:00:00',\n",
       " '2011-02-22 22:00:00',\n",
       " '2011-02-22 23:00:00',\n",
       " '2011-02-23 00:00:00',\n",
       " '2011-02-23 01:00:00',\n",
       " '2011-02-23 02:00:00',\n",
       " '2011-02-23 03:00:00',\n",
       " '2011-02-23 05:00:00',\n",
       " '2011-02-23 06:00:00',\n",
       " '2011-02-23 07:00:00',\n",
       " '2011-02-23 08:00:00',\n",
       " '2011-02-23 09:00:00',\n",
       " '2011-02-23 10:00:00',\n",
       " '2011-02-23 11:00:00',\n",
       " '2011-02-23 12:00:00',\n",
       " '2011-02-23 13:00:00',\n",
       " '2011-02-23 14:00:00',\n",
       " '2011-02-23 15:00:00',\n",
       " '2011-02-23 16:00:00',\n",
       " '2011-02-23 17:00:00',\n",
       " '2011-02-23 18:00:00',\n",
       " '2011-02-23 19:00:00',\n",
       " '2011-02-23 20:00:00',\n",
       " '2011-02-23 21:00:00',\n",
       " '2011-02-23 22:00:00',\n",
       " '2011-02-23 23:00:00',\n",
       " '2011-02-24 00:00:00',\n",
       " '2011-02-24 01:00:00',\n",
       " '2011-02-24 02:00:00',\n",
       " '2011-02-24 03:00:00',\n",
       " '2011-02-24 05:00:00',\n",
       " '2011-02-24 06:00:00',\n",
       " '2011-02-24 07:00:00',\n",
       " '2011-02-24 08:00:00',\n",
       " '2011-02-24 09:00:00',\n",
       " '2011-02-24 10:00:00',\n",
       " '2011-02-24 11:00:00',\n",
       " '2011-02-24 12:00:00',\n",
       " '2011-02-24 13:00:00',\n",
       " '2011-02-24 14:00:00',\n",
       " '2011-02-24 15:00:00',\n",
       " '2011-02-24 16:00:00',\n",
       " '2011-02-24 17:00:00',\n",
       " '2011-02-24 18:00:00',\n",
       " '2011-02-24 19:00:00',\n",
       " '2011-02-24 20:00:00',\n",
       " '2011-02-24 21:00:00',\n",
       " '2011-02-24 22:00:00',\n",
       " '2011-02-24 23:00:00',\n",
       " '2011-02-25 00:00:00',\n",
       " '2011-02-25 01:00:00',\n",
       " '2011-02-25 02:00:00',\n",
       " '2011-02-25 03:00:00',\n",
       " '2011-02-25 05:00:00',\n",
       " '2011-02-25 06:00:00',\n",
       " '2011-02-25 07:00:00',\n",
       " '2011-02-25 08:00:00',\n",
       " '2011-02-25 09:00:00',\n",
       " '2011-02-25 10:00:00',\n",
       " '2011-02-25 11:00:00',\n",
       " '2011-02-25 12:00:00',\n",
       " '2011-02-25 13:00:00',\n",
       " '2011-02-25 14:00:00',\n",
       " '2011-02-25 15:00:00',\n",
       " '2011-02-25 16:00:00',\n",
       " '2011-02-25 17:00:00',\n",
       " '2011-02-25 18:00:00',\n",
       " '2011-02-25 19:00:00',\n",
       " '2011-02-25 20:00:00',\n",
       " '2011-02-25 21:00:00',\n",
       " '2011-02-25 22:00:00',\n",
       " '2011-02-25 23:00:00',\n",
       " '2011-02-26 00:00:00',\n",
       " '2011-02-26 01:00:00',\n",
       " '2011-02-26 02:00:00',\n",
       " '2011-02-26 03:00:00',\n",
       " '2011-02-26 04:00:00',\n",
       " '2011-02-26 05:00:00',\n",
       " '2011-02-26 06:00:00',\n",
       " '2011-02-26 07:00:00',\n",
       " '2011-02-26 08:00:00',\n",
       " '2011-02-26 09:00:00',\n",
       " '2011-02-26 10:00:00',\n",
       " '2011-02-26 11:00:00',\n",
       " '2011-02-26 12:00:00',\n",
       " '2011-02-26 13:00:00',\n",
       " '2011-02-26 14:00:00',\n",
       " '2011-02-26 15:00:00',\n",
       " '2011-02-26 16:00:00',\n",
       " '2011-02-26 17:00:00',\n",
       " '2011-02-26 18:00:00',\n",
       " '2011-02-26 19:00:00',\n",
       " '2011-02-26 20:00:00',\n",
       " '2011-02-26 21:00:00',\n",
       " '2011-02-26 22:00:00',\n",
       " '2011-02-26 23:00:00',\n",
       " '2011-02-27 00:00:00',\n",
       " '2011-02-27 01:00:00',\n",
       " '2011-02-27 02:00:00',\n",
       " '2011-02-27 03:00:00',\n",
       " '2011-02-27 04:00:00',\n",
       " '2011-02-27 06:00:00',\n",
       " '2011-02-27 07:00:00',\n",
       " '2011-02-27 08:00:00',\n",
       " '2011-02-27 09:00:00',\n",
       " '2011-02-27 10:00:00',\n",
       " '2011-02-27 11:00:00',\n",
       " '2011-02-27 12:00:00',\n",
       " '2011-02-27 13:00:00',\n",
       " '2011-02-27 14:00:00',\n",
       " '2011-02-27 15:00:00',\n",
       " '2011-02-27 16:00:00',\n",
       " '2011-02-27 17:00:00',\n",
       " '2011-02-27 18:00:00',\n",
       " '2011-02-27 19:00:00',\n",
       " '2011-02-27 20:00:00',\n",
       " '2011-02-27 21:00:00',\n",
       " '2011-02-27 22:00:00',\n",
       " '2011-02-27 23:00:00',\n",
       " '2011-02-28 00:00:00',\n",
       " '2011-02-28 01:00:00',\n",
       " '2011-02-28 03:00:00',\n",
       " '2011-02-28 05:00:00',\n",
       " '2011-02-28 06:00:00',\n",
       " '2011-02-28 07:00:00',\n",
       " '2011-02-28 08:00:00',\n",
       " '2011-02-28 09:00:00',\n",
       " '2011-02-28 10:00:00',\n",
       " '2011-02-28 11:00:00',\n",
       " '2011-02-28 12:00:00',\n",
       " '2011-02-28 13:00:00',\n",
       " '2011-02-28 14:00:00',\n",
       " '2011-02-28 15:00:00',\n",
       " '2011-02-28 16:00:00',\n",
       " '2011-02-28 17:00:00',\n",
       " '2011-02-28 18:00:00',\n",
       " '2011-02-28 19:00:00',\n",
       " '2011-02-28 20:00:00',\n",
       " '2011-02-28 21:00:00',\n",
       " '2011-02-28 22:00:00',\n",
       " '2011-02-28 23:00:00',\n",
       " '2011-03-20 00:00:00',\n",
       " '2011-03-20 01:00:00',\n",
       " '2011-03-20 02:00:00',\n",
       " '2011-03-20 03:00:00',\n",
       " '2011-03-20 04:00:00',\n",
       " '2011-03-20 05:00:00',\n",
       " '2011-03-20 06:00:00',\n",
       " '2011-03-20 07:00:00',\n",
       " '2011-03-20 08:00:00',\n",
       " '2011-03-20 09:00:00',\n",
       " '2011-03-20 10:00:00',\n",
       " '2011-03-20 11:00:00',\n",
       " '2011-03-20 12:00:00',\n",
       " '2011-03-20 13:00:00',\n",
       " '2011-03-20 14:00:00',\n",
       " '2011-03-20 15:00:00',\n",
       " '2011-03-20 16:00:00',\n",
       " '2011-03-20 17:00:00',\n",
       " '2011-03-20 18:00:00',\n",
       " '2011-03-20 19:00:00',\n",
       " '2011-03-20 20:00:00',\n",
       " '2011-03-20 21:00:00',\n",
       " '2011-03-20 22:00:00',\n",
       " '2011-03-20 23:00:00',\n",
       " '2011-03-21 00:00:00',\n",
       " '2011-03-21 01:00:00',\n",
       " '2011-03-21 02:00:00',\n",
       " '2011-03-21 03:00:00',\n",
       " '2011-03-21 05:00:00',\n",
       " '2011-03-21 06:00:00',\n",
       " '2011-03-21 07:00:00',\n",
       " '2011-03-21 08:00:00',\n",
       " '2011-03-21 09:00:00',\n",
       " '2011-03-21 10:00:00',\n",
       " '2011-03-21 11:00:00',\n",
       " '2011-03-21 12:00:00',\n",
       " '2011-03-21 13:00:00',\n",
       " '2011-03-21 14:00:00',\n",
       " '2011-03-21 15:00:00',\n",
       " '2011-03-21 16:00:00',\n",
       " '2011-03-21 17:00:00',\n",
       " '2011-03-21 18:00:00',\n",
       " '2011-03-21 19:00:00',\n",
       " '2011-03-21 20:00:00',\n",
       " '2011-03-21 21:00:00',\n",
       " '2011-03-21 22:00:00',\n",
       " '2011-03-21 23:00:00',\n",
       " '2011-03-22 00:00:00',\n",
       " '2011-03-22 01:00:00',\n",
       " '2011-03-22 02:00:00',\n",
       " '2011-03-22 03:00:00',\n",
       " '2011-03-22 04:00:00',\n",
       " '2011-03-22 05:00:00',\n",
       " '2011-03-22 06:00:00',\n",
       " '2011-03-22 07:00:00',\n",
       " '2011-03-22 08:00:00',\n",
       " '2011-03-22 09:00:00',\n",
       " '2011-03-22 10:00:00',\n",
       " '2011-03-22 11:00:00',\n",
       " '2011-03-22 12:00:00',\n",
       " '2011-03-22 13:00:00',\n",
       " '2011-03-22 14:00:00',\n",
       " '2011-03-22 15:00:00',\n",
       " '2011-03-22 16:00:00',\n",
       " '2011-03-22 17:00:00',\n",
       " '2011-03-22 18:00:00',\n",
       " '2011-03-22 19:00:00',\n",
       " '2011-03-22 20:00:00',\n",
       " '2011-03-22 21:00:00',\n",
       " '2011-03-22 22:00:00',\n",
       " '2011-03-22 23:00:00',\n",
       " '2011-03-23 00:00:00',\n",
       " '2011-03-23 01:00:00',\n",
       " '2011-03-23 02:00:00',\n",
       " '2011-03-23 03:00:00',\n",
       " '2011-03-23 05:00:00',\n",
       " '2011-03-23 06:00:00',\n",
       " '2011-03-23 07:00:00',\n",
       " '2011-03-23 08:00:00',\n",
       " '2011-03-23 09:00:00',\n",
       " '2011-03-23 10:00:00',\n",
       " '2011-03-23 11:00:00',\n",
       " '2011-03-23 12:00:00',\n",
       " '2011-03-23 13:00:00',\n",
       " '2011-03-23 14:00:00',\n",
       " '2011-03-23 15:00:00',\n",
       " '2011-03-23 16:00:00',\n",
       " '2011-03-23 17:00:00',\n",
       " '2011-03-23 18:00:00',\n",
       " '2011-03-23 19:00:00',\n",
       " '2011-03-23 20:00:00',\n",
       " '2011-03-23 21:00:00',\n",
       " '2011-03-23 22:00:00',\n",
       " '2011-03-23 23:00:00',\n",
       " '2011-03-24 00:00:00',\n",
       " '2011-03-24 01:00:00',\n",
       " '2011-03-24 02:00:00',\n",
       " '2011-03-24 03:00:00',\n",
       " '2011-03-24 04:00:00',\n",
       " '2011-03-24 05:00:00',\n",
       " '2011-03-24 06:00:00',\n",
       " '2011-03-24 07:00:00',\n",
       " '2011-03-24 08:00:00',\n",
       " '2011-03-24 09:00:00',\n",
       " '2011-03-24 10:00:00',\n",
       " '2011-03-24 11:00:00',\n",
       " '2011-03-24 12:00:00',\n",
       " '2011-03-24 13:00:00',\n",
       " '2011-03-24 14:00:00',\n",
       " '2011-03-24 15:00:00',\n",
       " '2011-03-24 16:00:00',\n",
       " '2011-03-24 17:00:00',\n",
       " '2011-03-24 18:00:00',\n",
       " '2011-03-24 19:00:00',\n",
       " '2011-03-24 20:00:00',\n",
       " '2011-03-24 21:00:00',\n",
       " '2011-03-24 22:00:00',\n",
       " '2011-03-24 23:00:00',\n",
       " '2011-03-25 00:00:00',\n",
       " '2011-03-25 01:00:00',\n",
       " '2011-03-25 02:00:00',\n",
       " '2011-03-25 03:00:00',\n",
       " '2011-03-25 04:00:00',\n",
       " '2011-03-25 05:00:00',\n",
       " '2011-03-25 06:00:00',\n",
       " '2011-03-25 07:00:00',\n",
       " '2011-03-25 08:00:00',\n",
       " '2011-03-25 09:00:00',\n",
       " '2011-03-25 10:00:00',\n",
       " '2011-03-25 11:00:00',\n",
       " '2011-03-25 12:00:00',\n",
       " '2011-03-25 13:00:00',\n",
       " '2011-03-25 14:00:00',\n",
       " '2011-03-25 15:00:00',\n",
       " '2011-03-25 16:00:00',\n",
       " '2011-03-25 17:00:00',\n",
       " '2011-03-25 18:00:00',\n",
       " '2011-03-25 19:00:00',\n",
       " '2011-03-25 20:00:00',\n",
       " '2011-03-25 21:00:00',\n",
       " '2011-03-25 22:00:00',\n",
       " '2011-03-25 23:00:00',\n",
       " '2011-03-26 00:00:00',\n",
       " '2011-03-26 01:00:00',\n",
       " '2011-03-26 02:00:00',\n",
       " '2011-03-26 03:00:00',\n",
       " '2011-03-26 04:00:00',\n",
       " '2011-03-26 05:00:00',\n",
       " '2011-03-26 06:00:00',\n",
       " '2011-03-26 07:00:00',\n",
       " '2011-03-26 08:00:00',\n",
       " '2011-03-26 09:00:00',\n",
       " '2011-03-26 10:00:00',\n",
       " '2011-03-26 11:00:00',\n",
       " '2011-03-26 12:00:00',\n",
       " '2011-03-26 13:00:00',\n",
       " '2011-03-26 14:00:00',\n",
       " '2011-03-26 15:00:00',\n",
       " '2011-03-26 16:00:00',\n",
       " '2011-03-26 17:00:00',\n",
       " '2011-03-26 18:00:00',\n",
       " '2011-03-26 19:00:00',\n",
       " '2011-03-26 20:00:00',\n",
       " '2011-03-26 21:00:00',\n",
       " '2011-03-26 22:00:00',\n",
       " '2011-03-26 23:00:00',\n",
       " '2011-03-27 00:00:00',\n",
       " '2011-03-27 01:00:00',\n",
       " '2011-03-27 02:00:00',\n",
       " '2011-03-27 03:00:00',\n",
       " '2011-03-27 04:00:00',\n",
       " '2011-03-27 06:00:00',\n",
       " '2011-03-27 07:00:00',\n",
       " '2011-03-27 08:00:00',\n",
       " '2011-03-27 09:00:00',\n",
       " '2011-03-27 10:00:00',\n",
       " '2011-03-27 11:00:00',\n",
       " '2011-03-27 12:00:00',\n",
       " '2011-03-27 13:00:00',\n",
       " '2011-03-27 14:00:00',\n",
       " '2011-03-27 15:00:00',\n",
       " '2011-03-27 16:00:00',\n",
       " '2011-03-27 17:00:00',\n",
       " '2011-03-27 18:00:00',\n",
       " '2011-03-27 19:00:00',\n",
       " '2011-03-27 20:00:00',\n",
       " '2011-03-27 21:00:00',\n",
       " '2011-03-27 22:00:00',\n",
       " '2011-03-27 23:00:00',\n",
       " '2011-03-28 00:00:00',\n",
       " '2011-03-28 01:00:00',\n",
       " '2011-03-28 02:00:00',\n",
       " '2011-03-28 03:00:00',\n",
       " '2011-03-28 05:00:00',\n",
       " '2011-03-28 06:00:00',\n",
       " '2011-03-28 07:00:00',\n",
       " '2011-03-28 08:00:00',\n",
       " '2011-03-28 09:00:00',\n",
       " '2011-03-28 10:00:00',\n",
       " '2011-03-28 11:00:00',\n",
       " '2011-03-28 12:00:00',\n",
       " '2011-03-28 13:00:00',\n",
       " '2011-03-28 14:00:00',\n",
       " '2011-03-28 15:00:00',\n",
       " '2011-03-28 16:00:00',\n",
       " '2011-03-28 17:00:00',\n",
       " '2011-03-28 18:00:00',\n",
       " '2011-03-28 19:00:00',\n",
       " '2011-03-28 20:00:00',\n",
       " '2011-03-28 21:00:00',\n",
       " '2011-03-28 22:00:00',\n",
       " '2011-03-28 23:00:00',\n",
       " '2011-03-29 00:00:00',\n",
       " '2011-03-29 01:00:00',\n",
       " '2011-03-29 02:00:00',\n",
       " '2011-03-29 03:00:00',\n",
       " '2011-03-29 04:00:00',\n",
       " '2011-03-29 05:00:00',\n",
       " '2011-03-29 06:00:00',\n",
       " '2011-03-29 07:00:00',\n",
       " '2011-03-29 08:00:00',\n",
       " '2011-03-29 09:00:00',\n",
       " '2011-03-29 10:00:00',\n",
       " '2011-03-29 11:00:00',\n",
       " '2011-03-29 12:00:00',\n",
       " '2011-03-29 13:00:00',\n",
       " '2011-03-29 14:00:00',\n",
       " '2011-03-29 15:00:00',\n",
       " '2011-03-29 16:00:00',\n",
       " '2011-03-29 17:00:00',\n",
       " '2011-03-29 18:00:00',\n",
       " '2011-03-29 19:00:00',\n",
       " '2011-03-29 20:00:00',\n",
       " '2011-03-29 21:00:00',\n",
       " '2011-03-29 22:00:00',\n",
       " '2011-03-29 23:00:00',\n",
       " '2011-03-30 00:00:00',\n",
       " '2011-03-30 01:00:00',\n",
       " '2011-03-30 02:00:00',\n",
       " '2011-03-30 03:00:00',\n",
       " '2011-03-30 04:00:00',\n",
       " '2011-03-30 05:00:00',\n",
       " '2011-03-30 06:00:00',\n",
       " '2011-03-30 07:00:00',\n",
       " '2011-03-30 08:00:00',\n",
       " '2011-03-30 09:00:00',\n",
       " '2011-03-30 10:00:00',\n",
       " '2011-03-30 11:00:00',\n",
       " '2011-03-30 12:00:00',\n",
       " '2011-03-30 13:00:00',\n",
       " '2011-03-30 14:00:00',\n",
       " '2011-03-30 15:00:00',\n",
       " '2011-03-30 16:00:00',\n",
       " '2011-03-30 17:00:00',\n",
       " '2011-03-30 18:00:00',\n",
       " '2011-03-30 19:00:00',\n",
       " '2011-03-30 20:00:00',\n",
       " '2011-03-30 21:00:00',\n",
       " '2011-03-30 22:00:00',\n",
       " '2011-03-30 23:00:00',\n",
       " '2011-03-31 00:00:00',\n",
       " '2011-03-31 01:00:00',\n",
       " '2011-03-31 02:00:00',\n",
       " '2011-03-31 03:00:00',\n",
       " '2011-03-31 04:00:00',\n",
       " '2011-03-31 05:00:00',\n",
       " '2011-03-31 06:00:00',\n",
       " '2011-03-31 07:00:00',\n",
       " '2011-03-31 08:00:00',\n",
       " '2011-03-31 09:00:00',\n",
       " '2011-03-31 10:00:00',\n",
       " '2011-03-31 11:00:00',\n",
       " '2011-03-31 12:00:00',\n",
       " '2011-03-31 13:00:00',\n",
       " '2011-03-31 14:00:00',\n",
       " '2011-03-31 15:00:00',\n",
       " '2011-03-31 16:00:00',\n",
       " '2011-03-31 17:00:00',\n",
       " '2011-03-31 18:00:00',\n",
       " '2011-03-31 19:00:00',\n",
       " '2011-03-31 20:00:00',\n",
       " '2011-03-31 21:00:00',\n",
       " '2011-03-31 22:00:00',\n",
       " '2011-03-31 23:00:00',\n",
       " '2011-04-20 00:00:00',\n",
       " '2011-04-20 01:00:00',\n",
       " '2011-04-20 02:00:00',\n",
       " '2011-04-20 03:00:00',\n",
       " '2011-04-20 04:00:00',\n",
       " '2011-04-20 05:00:00',\n",
       " '2011-04-20 06:00:00',\n",
       " '2011-04-20 07:00:00',\n",
       " '2011-04-20 08:00:00',\n",
       " '2011-04-20 09:00:00',\n",
       " '2011-04-20 10:00:00',\n",
       " '2011-04-20 11:00:00',\n",
       " '2011-04-20 12:00:00',\n",
       " '2011-04-20 13:00:00',\n",
       " '2011-04-20 14:00:00',\n",
       " '2011-04-20 15:00:00',\n",
       " '2011-04-20 16:00:00',\n",
       " '2011-04-20 17:00:00',\n",
       " '2011-04-20 18:00:00',\n",
       " '2011-04-20 19:00:00',\n",
       " '2011-04-20 20:00:00',\n",
       " '2011-04-20 21:00:00',\n",
       " '2011-04-20 22:00:00',\n",
       " '2011-04-20 23:00:00',\n",
       " '2011-04-21 00:00:00',\n",
       " '2011-04-21 01:00:00',\n",
       " '2011-04-21 02:00:00',\n",
       " '2011-04-21 03:00:00',\n",
       " '2011-04-21 04:00:00',\n",
       " '2011-04-21 05:00:00',\n",
       " '2011-04-21 06:00:00',\n",
       " '2011-04-21 07:00:00',\n",
       " '2011-04-21 08:00:00',\n",
       " '2011-04-21 09:00:00',\n",
       " '2011-04-21 10:00:00',\n",
       " '2011-04-21 11:00:00',\n",
       " '2011-04-21 12:00:00',\n",
       " '2011-04-21 13:00:00',\n",
       " '2011-04-21 14:00:00',\n",
       " '2011-04-21 15:00:00',\n",
       " '2011-04-21 16:00:00',\n",
       " '2011-04-21 17:00:00',\n",
       " '2011-04-21 18:00:00',\n",
       " '2011-04-21 19:00:00',\n",
       " '2011-04-21 20:00:00',\n",
       " '2011-04-21 21:00:00',\n",
       " '2011-04-21 22:00:00',\n",
       " '2011-04-21 23:00:00',\n",
       " '2011-04-22 00:00:00',\n",
       " '2011-04-22 01:00:00',\n",
       " '2011-04-22 02:00:00',\n",
       " '2011-04-22 03:00:00',\n",
       " '2011-04-22 04:00:00',\n",
       " '2011-04-22 05:00:00',\n",
       " '2011-04-22 06:00:00',\n",
       " '2011-04-22 07:00:00',\n",
       " '2011-04-22 08:00:00',\n",
       " '2011-04-22 09:00:00',\n",
       " '2011-04-22 10:00:00',\n",
       " '2011-04-22 11:00:00',\n",
       " '2011-04-22 12:00:00',\n",
       " '2011-04-22 13:00:00',\n",
       " '2011-04-22 14:00:00',\n",
       " '2011-04-22 15:00:00',\n",
       " '2011-04-22 16:00:00',\n",
       " '2011-04-22 17:00:00',\n",
       " '2011-04-22 18:00:00',\n",
       " '2011-04-22 19:00:00',\n",
       " '2011-04-22 20:00:00',\n",
       " '2011-04-22 21:00:00',\n",
       " '2011-04-22 22:00:00',\n",
       " '2011-04-22 23:00:00',\n",
       " '2011-04-23 00:00:00',\n",
       " '2011-04-23 01:00:00',\n",
       " '2011-04-23 02:00:00',\n",
       " '2011-04-23 03:00:00',\n",
       " '2011-04-23 04:00:00',\n",
       " '2011-04-23 05:00:00',\n",
       " '2011-04-23 06:00:00',\n",
       " '2011-04-23 07:00:00',\n",
       " '2011-04-23 08:00:00',\n",
       " '2011-04-23 09:00:00',\n",
       " '2011-04-23 10:00:00',\n",
       " '2011-04-23 11:00:00',\n",
       " '2011-04-23 12:00:00',\n",
       " '2011-04-23 13:00:00',\n",
       " '2011-04-23 14:00:00',\n",
       " '2011-04-23 15:00:00',\n",
       " '2011-04-23 16:00:00',\n",
       " '2011-04-23 17:00:00',\n",
       " '2011-04-23 18:00:00',\n",
       " '2011-04-23 19:00:00',\n",
       " '2011-04-23 20:00:00',\n",
       " '2011-04-23 21:00:00',\n",
       " '2011-04-23 22:00:00',\n",
       " '2011-04-23 23:00:00',\n",
       " '2011-04-24 00:00:00',\n",
       " '2011-04-24 01:00:00',\n",
       " '2011-04-24 02:00:00',\n",
       " '2011-04-24 03:00:00',\n",
       " '2011-04-24 04:00:00',\n",
       " '2011-04-24 05:00:00',\n",
       " '2011-04-24 06:00:00',\n",
       " '2011-04-24 07:00:00',\n",
       " '2011-04-24 08:00:00',\n",
       " '2011-04-24 09:00:00',\n",
       " '2011-04-24 10:00:00',\n",
       " '2011-04-24 11:00:00',\n",
       " '2011-04-24 12:00:00',\n",
       " '2011-04-24 13:00:00',\n",
       " '2011-04-24 14:00:00',\n",
       " '2011-04-24 15:00:00',\n",
       " '2011-04-24 16:00:00',\n",
       " '2011-04-24 17:00:00',\n",
       " '2011-04-24 18:00:00',\n",
       " '2011-04-24 19:00:00',\n",
       " '2011-04-24 20:00:00',\n",
       " '2011-04-24 21:00:00',\n",
       " '2011-04-24 22:00:00',\n",
       " '2011-04-24 23:00:00',\n",
       " '2011-04-25 00:00:00',\n",
       " '2011-04-25 01:00:00',\n",
       " '2011-04-25 02:00:00',\n",
       " '2011-04-25 03:00:00',\n",
       " '2011-04-25 04:00:00',\n",
       " '2011-04-25 05:00:00',\n",
       " '2011-04-25 06:00:00',\n",
       " '2011-04-25 07:00:00',\n",
       " '2011-04-25 08:00:00',\n",
       " '2011-04-25 09:00:00',\n",
       " '2011-04-25 10:00:00',\n",
       " '2011-04-25 11:00:00',\n",
       " '2011-04-25 12:00:00',\n",
       " '2011-04-25 13:00:00',\n",
       " '2011-04-25 14:00:00',\n",
       " '2011-04-25 15:00:00',\n",
       " '2011-04-25 16:00:00',\n",
       " '2011-04-25 17:00:00',\n",
       " '2011-04-25 18:00:00',\n",
       " '2011-04-25 19:00:00',\n",
       " '2011-04-25 20:00:00',\n",
       " '2011-04-25 21:00:00',\n",
       " '2011-04-25 22:00:00',\n",
       " '2011-04-25 23:00:00',\n",
       " '2011-04-26 00:00:00',\n",
       " '2011-04-26 01:00:00',\n",
       " '2011-04-26 02:00:00',\n",
       " '2011-04-26 03:00:00',\n",
       " '2011-04-26 04:00:00',\n",
       " '2011-04-26 05:00:00',\n",
       " '2011-04-26 06:00:00',\n",
       " '2011-04-26 07:00:00',\n",
       " '2011-04-26 08:00:00',\n",
       " '2011-04-26 09:00:00',\n",
       " '2011-04-26 10:00:00',\n",
       " '2011-04-26 11:00:00',\n",
       " '2011-04-26 12:00:00',\n",
       " '2011-04-26 13:00:00',\n",
       " '2011-04-26 14:00:00',\n",
       " '2011-04-26 15:00:00',\n",
       " '2011-04-26 16:00:00',\n",
       " '2011-04-26 17:00:00',\n",
       " '2011-04-26 18:00:00',\n",
       " '2011-04-26 19:00:00',\n",
       " '2011-04-26 20:00:00',\n",
       " '2011-04-26 21:00:00',\n",
       " '2011-04-26 22:00:00',\n",
       " '2011-04-26 23:00:00',\n",
       " '2011-04-27 00:00:00',\n",
       " '2011-04-27 01:00:00',\n",
       " '2011-04-27 02:00:00',\n",
       " '2011-04-27 03:00:00',\n",
       " '2011-04-27 04:00:00',\n",
       " '2011-04-27 05:00:00',\n",
       " '2011-04-27 06:00:00',\n",
       " '2011-04-27 07:00:00',\n",
       " '2011-04-27 08:00:00',\n",
       " '2011-04-27 09:00:00',\n",
       " '2011-04-27 10:00:00',\n",
       " '2011-04-27 11:00:00',\n",
       " '2011-04-27 12:00:00',\n",
       " '2011-04-27 13:00:00',\n",
       " '2011-04-27 14:00:00',\n",
       " '2011-04-27 15:00:00',\n",
       " '2011-04-27 16:00:00',\n",
       " '2011-04-27 17:00:00',\n",
       " '2011-04-27 18:00:00',\n",
       " '2011-04-27 19:00:00',\n",
       " '2011-04-27 20:00:00',\n",
       " '2011-04-27 21:00:00',\n",
       " '2011-04-27 22:00:00',\n",
       " '2011-04-27 23:00:00',\n",
       " '2011-04-28 00:00:00',\n",
       " '2011-04-28 01:00:00',\n",
       " '2011-04-28 02:00:00',\n",
       " '2011-04-28 03:00:00',\n",
       " '2011-04-28 04:00:00',\n",
       " '2011-04-28 05:00:00',\n",
       " '2011-04-28 06:00:00',\n",
       " '2011-04-28 07:00:00',\n",
       " '2011-04-28 08:00:00',\n",
       " '2011-04-28 09:00:00',\n",
       " '2011-04-28 10:00:00',\n",
       " '2011-04-28 11:00:00',\n",
       " '2011-04-28 12:00:00',\n",
       " '2011-04-28 13:00:00',\n",
       " '2011-04-28 14:00:00',\n",
       " '2011-04-28 15:00:00',\n",
       " '2011-04-28 16:00:00',\n",
       " '2011-04-28 17:00:00',\n",
       " '2011-04-28 18:00:00',\n",
       " '2011-04-28 19:00:00',\n",
       " '2011-04-28 20:00:00',\n",
       " '2011-04-28 21:00:00',\n",
       " '2011-04-28 22:00:00',\n",
       " '2011-04-28 23:00:00',\n",
       " '2011-04-29 00:00:00',\n",
       " '2011-04-29 01:00:00',\n",
       " '2011-04-29 02:00:00',\n",
       " '2011-04-29 03:00:00',\n",
       " '2011-04-29 04:00:00',\n",
       " '2011-04-29 05:00:00',\n",
       " '2011-04-29 06:00:00',\n",
       " '2011-04-29 07:00:00',\n",
       " '2011-04-29 08:00:00',\n",
       " '2011-04-29 09:00:00',\n",
       " '2011-04-29 10:00:00',\n",
       " '2011-04-29 11:00:00',\n",
       " '2011-04-29 12:00:00',\n",
       " '2011-04-29 13:00:00',\n",
       " '2011-04-29 14:00:00',\n",
       " '2011-04-29 15:00:00',\n",
       " '2011-04-29 16:00:00',\n",
       " '2011-04-29 17:00:00',\n",
       " '2011-04-29 18:00:00',\n",
       " '2011-04-29 19:00:00',\n",
       " '2011-04-29 20:00:00',\n",
       " '2011-04-29 21:00:00',\n",
       " '2011-04-29 22:00:00',\n",
       " '2011-04-29 23:00:00',\n",
       " '2011-04-30 00:00:00',\n",
       " '2011-04-30 01:00:00',\n",
       " '2011-04-30 02:00:00',\n",
       " '2011-04-30 03:00:00',\n",
       " '2011-04-30 04:00:00',\n",
       " '2011-04-30 05:00:00',\n",
       " '2011-04-30 06:00:00',\n",
       " '2011-04-30 07:00:00',\n",
       " '2011-04-30 08:00:00',\n",
       " '2011-04-30 09:00:00',\n",
       " '2011-04-30 10:00:00',\n",
       " '2011-04-30 11:00:00',\n",
       " '2011-04-30 12:00:00',\n",
       " '2011-04-30 13:00:00',\n",
       " '2011-04-30 14:00:00',\n",
       " '2011-04-30 15:00:00',\n",
       " ...]"
      ]
     },
     "execution_count": 40,
     "metadata": {},
     "output_type": "execute_result"
    }
   ],
   "source": [
    "datetimecol=list(df_test['datetime'].values)\n",
    "datetimecol"
   ]
  },
  {
   "cell_type": "markdown",
   "metadata": {},
   "source": [
    "## Perforing Regression using Random Forest Regressor"
   ]
  },
  {
   "cell_type": "code",
   "execution_count": 43,
   "metadata": {},
   "outputs": [
    {
     "name": "stdout",
     "output_type": "stream",
     "text": [
      "RMSLE Value For Random Forest:  0.1218971401174372\n"
     ]
    }
   ],
   "source": [
    "from sklearn.ensemble import RandomForestRegressor\n",
    "rfModel = RandomForestRegressor(n_estimators=100)\n",
    "yLabels=df_train['count']\n",
    "yLabelsLog = np.log1p(yLabels)\n",
    "dataTrain=df_train_preprocessed\n",
    "rfModel.fit(dataTrain,yLabelsLog)\n",
    "preds = rfModel.predict(X= dataTrain)\n",
    "print (\"RMSLE Value For Random Forest: \",rmsle(np.exp(yLabelsLog),np.exp(preds),False))"
   ]
  },
  {
   "cell_type": "code",
   "execution_count": 44,
   "metadata": {},
   "outputs": [
    {
     "name": "stdout",
     "output_type": "stream",
     "text": [
      "RMSLE Value For Gradient Boost:  0.37114883159618617\n"
     ]
    }
   ],
   "source": [
    "from sklearn.ensemble import GradientBoostingRegressor\n",
    "gbm = GradientBoostingRegressor(n_estimators=4000,alpha=0.01); ### Test 0.41\n",
    "yLabelsLog = np.log1p(yLabels)\n",
    "gbm.fit(dataTrain,yLabelsLog)\n",
    "preds = gbm.predict(X= dataTrain)\n",
    "print (\"RMSLE Value For Gradient Boost: \",rmsle(np.exp(yLabelsLog),np.exp(preds),False))"
   ]
  },
  {
   "cell_type": "code",
   "execution_count": 45,
   "metadata": {},
   "outputs": [
    {
     "data": {
      "text/plain": [
       "<matplotlib.axes._subplots.AxesSubplot at 0x27eb3834700>"
      ]
     },
     "execution_count": 45,
     "metadata": {},
     "output_type": "execute_result"
    },
    {
     "data": {
      "image/png": "[encoded data removed]",
      "text/plain": [
       "<Figure size 864x360 with 2 Axes>"
      ]
     },
     "metadata": {
      "needs_background": "light"
     },
     "output_type": "display_data"
    }
   ],
   "source": [
    "predsTest = gbm.predict(X= df_test_preprocessed)\n",
    "fig,(ax1,ax2)= plt.subplots(ncols=2)\n",
    "fig.set_size_inches(12,5)\n",
    "sns.distplot(yLabels,ax=ax1,bins=50)\n",
    "sns.distplot(np.exp(predsTest),ax=ax2,bins=50)"
   ]
  },
  {
   "cell_type": "code",
   "execution_count": 48,
   "metadata": {},
   "outputs": [],
   "source": [
    "preds = rfModel.predict(X= df_test_preprocessed)"
   ]
  },
  {
   "cell_type": "code",
   "execution_count": 49,
   "metadata": {},
   "outputs": [],
   "source": [
    "submission = pd.DataFrame({\n",
    "        \"datetime\": datetimecol,\n",
    "        \"count\": [max(0, x) for x in np.exp(preds)]\n",
    "    })\n",
    "submission.to_csv('bike_predictions_rf.csv', index=False)"
   ]
  },
  {
   "cell_type": "code",
   "execution_count": null,
   "metadata": {},
   "outputs": [],
   "source": []
  }
 ],
 "metadata": {
  "kernelspec": {
   "display_name": "Python 3",
   "language": "python",
   "name": "python3"
  },
  "language_info": {
   "codemirror_mode": {
    "name": "ipython",
    "version": 3
   },
   "file_extension": ".py",
   "mimetype": "text/x-python",
   "name": "python",
   "nbconvert_exporter": "python",
   "pygments_lexer": "ipython3",
   "version": "3.8.1"
  }
 },
 "nbformat": 4,
 "nbformat_minor": 4
}
