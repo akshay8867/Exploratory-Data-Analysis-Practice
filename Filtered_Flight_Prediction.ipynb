{
  "nbformat": 4,
  "nbformat_minor": 0,
  "metadata": {
    "colab": {
      "name": "Filtered_Flight_Prediction.ipynb",
      "provenance": [],
      "collapsed_sections": [],
      "authorship_tag": "ABX9TyMeiaDBKWildHE+4UDofG35",
      "include_colab_link": true
    },
    "kernelspec": {
      "name": "python3",
      "display_name": "Python 3"
    },
    "language_info": {
      "name": "python"
    }
  },
  "cells": [
    {
      "cell_type": "markdown",
      "metadata": {
        "id": "view-in-github",
        "colab_type": "text"
      },
      "source": [
        "<a href=\"https://colab.research.google.com/github/akshay8867/Exploratory-Data-Analysis-Practice/blob/main/Filtered_Flight_Prediction.ipynb\" target=\"_parent\"><img src=\"https://colab.research.google.com/assets/colab-badge.svg\" alt=\"Open In Colab\"/></a>"
      ]
    },
    {
      "cell_type": "code",
      "metadata": {
        "colab": {
          "base_uri": "https://localhost:8080/"
        },
        "id": "NlTmgFnPiurH",
        "outputId": "8d7bdeed-ea82-4f24-d4c5-96b27b8a4f01"
      },
      "source": [
        "from google.colab import drive # import drive from google colab\n",
        "\n",
        "ROOT = \"/content/drive\"     # default location for the drive\n",
        "print(ROOT)                 # print content of ROOT (Optional)\n",
        "\n",
        "drive.mount(ROOT)    "
      ],
      "execution_count": 1,
      "outputs": [
        {
          "output_type": "stream",
          "text": [
            "/content/drive\n",
            "Mounted at /content/drive\n"
          ],
          "name": "stdout"
        }
      ]
    },
    {
      "cell_type": "markdown",
      "metadata": {
        "id": "mHJ1--HoQjC2"
      },
      "source": [
        "## The data can be downloaded from the following link to follow along with the worksheet\n",
        " **https://www.kaggle.com/nikhilmittal/flight-fare-prediction-mh** "
      ]
    },
    {
      "cell_type": "code",
      "metadata": {
        "colab": {
          "base_uri": "https://localhost:8080/",
          "height": 585
        },
        "id": "JSWb-NRljKQ3",
        "outputId": "a26b2873-f3cc-44d6-8667-4a99e16f82a4"
      },
      "source": [
        "import pandas as pd\n",
        "df_train=pd.read_excel(r'/content/drive/MyDrive/Flight_Price/Flight_Price/Data_Train.xlsx')\n",
        "df_train.head()"
      ],
      "execution_count": 132,
      "outputs": [
        {
          "output_type": "execute_result",
          "data": {
            "text/html": [
              "<div>\n",
              "<style scoped>\n",
              "    .dataframe tbody tr th:only-of-type {\n",
              "        vertical-align: middle;\n",
              "    }\n",
              "\n",
              "    .dataframe tbody tr th {\n",
              "        vertical-align: top;\n",
              "    }\n",
              "\n",
              "    .dataframe thead th {\n",
              "        text-align: right;\n",
              "    }\n",
              "</style>\n",
              "<table border=\"1\" class=\"dataframe\">\n",
              "  <thead>\n",
              "    <tr style=\"text-align: right;\">\n",
              "      <th></th>\n",
              "      <th>Airline</th>\n",
              "      <th>Date_of_Journey</th>\n",
              "      <th>Source</th>\n",
              "      <th>Destination</th>\n",
              "      <th>Route</th>\n",
              "      <th>Dep_Time</th>\n",
              "      <th>Arrival_Time</th>\n",
              "      <th>Duration</th>\n",
              "      <th>Total_Stops</th>\n",
              "      <th>Additional_Info</th>\n",
              "      <th>Price</th>\n",
              "    </tr>\n",
              "  </thead>\n",
              "  <tbody>\n",
              "    <tr>\n",
              "      <th>0</th>\n",
              "      <td>IndiGo</td>\n",
              "      <td>24/03/2019</td>\n",
              "      <td>Banglore</td>\n",
              "      <td>New Delhi</td>\n",
              "      <td>BLR → DEL</td>\n",
              "      <td>22:20</td>\n",
              "      <td>01:10 22 Mar</td>\n",
              "      <td>2h 50m</td>\n",
              "      <td>non-stop</td>\n",
              "      <td>No info</td>\n",
              "      <td>3897</td>\n",
              "    </tr>\n",
              "    <tr>\n",
              "      <th>1</th>\n",
              "      <td>Air India</td>\n",
              "      <td>1/05/2019</td>\n",
              "      <td>Kolkata</td>\n",
              "      <td>Banglore</td>\n",
              "      <td>CCU → IXR → BBI → BLR</td>\n",
              "      <td>05:50</td>\n",
              "      <td>13:15</td>\n",
              "      <td>7h 25m</td>\n",
              "      <td>2 stops</td>\n",
              "      <td>No info</td>\n",
              "      <td>7662</td>\n",
              "    </tr>\n",
              "    <tr>\n",
              "      <th>2</th>\n",
              "      <td>Jet Airways</td>\n",
              "      <td>9/06/2019</td>\n",
              "      <td>Delhi</td>\n",
              "      <td>Cochin</td>\n",
              "      <td>DEL → LKO → BOM → COK</td>\n",
              "      <td>09:25</td>\n",
              "      <td>04:25 10 Jun</td>\n",
              "      <td>19h</td>\n",
              "      <td>2 stops</td>\n",
              "      <td>No info</td>\n",
              "      <td>13882</td>\n",
              "    </tr>\n",
              "    <tr>\n",
              "      <th>3</th>\n",
              "      <td>IndiGo</td>\n",
              "      <td>12/05/2019</td>\n",
              "      <td>Kolkata</td>\n",
              "      <td>Banglore</td>\n",
              "      <td>CCU → NAG → BLR</td>\n",
              "      <td>18:05</td>\n",
              "      <td>23:30</td>\n",
              "      <td>5h 25m</td>\n",
              "      <td>1 stop</td>\n",
              "      <td>No info</td>\n",
              "      <td>6218</td>\n",
              "    </tr>\n",
              "    <tr>\n",
              "      <th>4</th>\n",
              "      <td>IndiGo</td>\n",
              "      <td>01/03/2019</td>\n",
              "      <td>Banglore</td>\n",
              "      <td>New Delhi</td>\n",
              "      <td>BLR → NAG → DEL</td>\n",
              "      <td>16:50</td>\n",
              "      <td>21:35</td>\n",
              "      <td>4h 45m</td>\n",
              "      <td>1 stop</td>\n",
              "      <td>No info</td>\n",
              "      <td>13302</td>\n",
              "    </tr>\n",
              "  </tbody>\n",
              "</table>\n",
              "</div>"
            ],
            "text/plain": [
              "       Airline Date_of_Journey    Source  ... Total_Stops Additional_Info  Price\n",
              "0       IndiGo      24/03/2019  Banglore  ...    non-stop         No info   3897\n",
              "1    Air India       1/05/2019   Kolkata  ...     2 stops         No info   7662\n",
              "2  Jet Airways       9/06/2019     Delhi  ...     2 stops         No info  13882\n",
              "3       IndiGo      12/05/2019   Kolkata  ...      1 stop         No info   6218\n",
              "4       IndiGo      01/03/2019  Banglore  ...      1 stop         No info  13302\n",
              "\n",
              "[5 rows x 11 columns]"
            ]
          },
          "metadata": {
            "tags": []
          },
          "execution_count": 132
        }
      ]
    },
    {
      "cell_type": "code",
      "metadata": {
        "colab": {
          "base_uri": "https://localhost:8080/"
        },
        "id": "0fLBbocijLfv",
        "outputId": "ccee2db1-4040-43e9-daa3-d4e3845a71d6"
      },
      "source": [
        "df_test=pd.read_excel(r'/content/drive/MyDrive/Flight_Price/Flight_Price/Test_set.xlsx')\n",
        "df_test.shape"
      ],
      "execution_count": 66,
      "outputs": [
        {
          "output_type": "execute_result",
          "data": {
            "text/plain": [
              "(2671, 10)"
            ]
          },
          "metadata": {
            "tags": []
          },
          "execution_count": 66
        }
      ]
    },
    {
      "cell_type": "code",
      "metadata": {
        "id": "_HfLhSv6jYE2"
      },
      "source": [
        "df_train.info()"
      ],
      "execution_count": null,
      "outputs": []
    },
    {
      "cell_type": "markdown",
      "metadata": {
        "id": "UEauCEaxnwa-"
      },
      "source": [
        "## **Checking for the outlier in the target variable**"
      ]
    },
    {
      "cell_type": "code",
      "metadata": {
        "colab": {
          "base_uri": "https://localhost:8080/",
          "height": 269
        },
        "id": "UIKmjh5gnvv6",
        "outputId": "196d221b-116c-4d70-aee5-450e8ed8a1ee"
      },
      "source": [
        "import seaborn as sns\n",
        "sns.boxplot(data=df_train,y='Price')"
      ],
      "execution_count": 28,
      "outputs": [
        {
          "output_type": "execute_result",
          "data": {
            "text/plain": [
              "<matplotlib.axes._subplots.AxesSubplot at 0x7f2b1c2dfb10>"
            ]
          },
          "metadata": {
            "tags": []
          },
          "execution_count": 28
        },
        {
          "output_type": "display_data",
          "data": {
            "image/png": "[encoded data removed]",
            "text/plain": [
              "<Figure size 432x288 with 1 Axes>"
            ]
          },
          "metadata": {
            "tags": [],
            "needs_background": "light"
          }
        }
      ]
    },
    {
      "cell_type": "code",
      "metadata": {
        "colab": {
          "base_uri": "https://localhost:8080/",
          "height": 386
        },
        "id": "UrWvcdmOo_kG",
        "outputId": "c8a08c03-c8dc-40be-c862-1db79956393d"
      },
      "source": [
        "sns.displot(data=df_train,x='Price')"
      ],
      "execution_count": 29,
      "outputs": [
        {
          "output_type": "execute_result",
          "data": {
            "text/plain": [
              "<seaborn.axisgrid.FacetGrid at 0x7f2b1c304b90>"
            ]
          },
          "metadata": {
            "tags": []
          },
          "execution_count": 29
        },
        {
          "output_type": "display_data",
          "data": {
            "image/png": "[encoded data removed]",
            "text/plain": [
              "<Figure size 360x360 with 1 Axes>"
            ]
          },
          "metadata": {
            "tags": [],
            "needs_background": "light"
          }
        }
      ]
    },
    {
      "cell_type": "code",
      "metadata": {
        "colab": {
          "base_uri": "https://localhost:8080/",
          "height": 386
        },
        "id": "Mwkkz0gnpS2p",
        "outputId": "b44615ce-d9a4-43b7-8de7-b8c2283e1c15"
      },
      "source": [
        "import numpy as np\n",
        "df_train['Log_Price']=np.log1p(df_train['Price'])\n",
        "sns.displot(data=df_train,x='Log_Price')\n"
      ],
      "execution_count": 67,
      "outputs": [
        {
          "output_type": "execute_result",
          "data": {
            "text/plain": [
              "<seaborn.axisgrid.FacetGrid at 0x7f2b1bb94310>"
            ]
          },
          "metadata": {
            "tags": []
          },
          "execution_count": 67
        },
        {
          "output_type": "display_data",
          "data": {
            "image/png": "[encoded data removed]",
            "text/plain": [
              "<Figure size 360x360 with 1 Axes>"
            ]
          },
          "metadata": {
            "tags": [],
            "needs_background": "light"
          }
        }
      ]
    },
    {
      "cell_type": "code",
      "metadata": {
        "id": "Ai2CiRUxqYVr"
      },
      "source": [
        "import scipy.stats as stat\n",
        "import pylab\n",
        "\n",
        "def plot_data(df,feature):\n",
        "    plt.figure(figsize=(10,6))\n",
        "    plt.subplot(1,2,1)\n",
        "    df[feature].hist()\n",
        "    plt.subplot(1,2,2)\n",
        "    stat.probplot(df[feature],dist='norm',plot=pylab)\n",
        "    plt.show()"
      ],
      "execution_count": 32,
      "outputs": []
    },
    {
      "cell_type": "code",
      "metadata": {
        "colab": {
          "base_uri": "https://localhost:8080/",
          "height": 404
        },
        "id": "A5v-CALd6hi0",
        "outputId": "1843370b-021e-48e8-f2d2-2553d30c71fa"
      },
      "source": [
        "plot_data(df_train,'Price')"
      ],
      "execution_count": 48,
      "outputs": [
        {
          "output_type": "display_data",
          "data": {
            "image/png": "[encoded data removed]",
            "text/plain": [
              "<Figure size 720x432 with 2 Axes>"
            ]
          },
          "metadata": {
            "tags": [],
            "needs_background": "light"
          }
        }
      ]
    },
    {
      "cell_type": "code",
      "metadata": {
        "colab": {
          "base_uri": "https://localhost:8080/",
          "height": 404
        },
        "id": "IVOByN3fqaNR",
        "outputId": "1e4c49cd-5056-4c63-f77c-24388a74ae94"
      },
      "source": [
        "plot_data(df_train,'Log_Price')"
      ],
      "execution_count": 33,
      "outputs": [
        {
          "output_type": "display_data",
          "data": {
            "image/png": "[encoded data removed]",
            "text/plain": [
              "<Figure size 720x432 with 2 Axes>"
            ]
          },
          "metadata": {
            "tags": [],
            "needs_background": "light"
          }
        }
      ]
    },
    {
      "cell_type": "markdown",
      "metadata": {
        "id": "a1kIgefWJzzz"
      },
      "source": [
        "### **From the above graph we can see that our target variable is normally distributed now**"
      ]
    },
    {
      "cell_type": "code",
      "metadata": {
        "id": "SfuKewamjcmV"
      },
      "source": [
        "import matplotlib.pyplot as plt\n",
        "def explore_cat_variable(df,col,target,aggre):\n",
        "  \n",
        "    print(\"Variation of {} with {} variable\".format(\" \".join(col),target))\n",
        "    print(df.groupby(col)[target].agg(aggre).plot.bar())\n",
        "    plt.show()\n",
        "    print(\"*\"*75)\n",
        "    print(\"Summary of statisitcs grouped at level {} wrt to {}\".format(\" \".join(col),target))\n",
        "    print(df.groupby(col)[target].describe())\n",
        "\n"
      ],
      "execution_count": 40,
      "outputs": []
    },
    {
      "cell_type": "code",
      "metadata": {
        "colab": {
          "base_uri": "https://localhost:8080/",
          "height": 783
        },
        "id": "LoJUKBVBlFlE",
        "outputId": "8bec704d-2ac5-4db9-9b28-1421e773acf4"
      },
      "source": [
        "explore_cat_variable(df_train,['Airline'],'Price','median')"
      ],
      "execution_count": 41,
      "outputs": [
        {
          "output_type": "stream",
          "text": [
            "Variation of Airline with Price variable\n",
            "AxesSubplot(0.125,0.125;0.775x0.755)\n"
          ],
          "name": "stdout"
        },
        {
          "output_type": "display_data",
          "data": {
            "image/png": "[encoded data removed]",
            "text/plain": [
              "<Figure size 432x288 with 1 Axes>"
            ]
          },
          "metadata": {
            "tags": [],
            "needs_background": "light"
          }
        },
        {
          "output_type": "stream",
          "text": [
            "***************************************************************************\n",
            "Summary of statisitcs grouped at level Airline wrt to Price\n",
            "                                    count          mean  ...       75%      max\n",
            "Airline                                                  ...                   \n",
            "Air Asia                            319.0   5590.260188  ...   6451.00  13774.0\n",
            "Air India                          1752.0   9611.210616  ...  12219.00  31945.0\n",
            "GoAir                               194.0   5861.056701  ...   6811.25  22794.0\n",
            "IndiGo                             2053.0   5673.682903  ...   6494.00  22153.0\n",
            "Jet Airways                        3849.0  11643.923357  ...  14151.00  54826.0\n",
            "Jet Airways Business                  6.0  58358.666667  ...  61122.50  79512.0\n",
            "Multiple carriers                  1196.0  10902.678094  ...  13587.00  36983.0\n",
            "Multiple carriers Premium economy    13.0  11418.846154  ...  11269.00  14629.0\n",
            "SpiceJet                            818.0   4338.284841  ...   4760.00  23267.0\n",
            "Trujet                                1.0   4140.000000  ...   4140.00   4140.0\n",
            "Vistara                             479.0   7796.348643  ...   9345.00  21730.0\n",
            "Vistara Premium economy               3.0   8962.333333  ...  10459.00  11793.0\n",
            "\n",
            "[12 rows x 8 columns]\n"
          ],
          "name": "stdout"
        }
      ]
    },
    {
      "cell_type": "markdown",
      "metadata": {
        "id": "G8DL_gcoNrpZ"
      },
      "source": [
        "**- Jet Airways offers the tickets at a high price consistently**\n"
      ]
    },
    {
      "cell_type": "code",
      "metadata": {
        "colab": {
          "base_uri": "https://localhost:8080/",
          "height": 614
        },
        "id": "FZAQF50nNgIP",
        "outputId": "2ad3a0dc-0385-41d2-9fe7-0296205fd81f"
      },
      "source": [
        "explore_cat_variable(df_train,['Source','Destination'],'Price','median')"
      ],
      "execution_count": 133,
      "outputs": [
        {
          "output_type": "stream",
          "text": [
            "Variation of Source Destination with Price variable\n",
            "AxesSubplot(0.125,0.125;0.775x0.755)\n"
          ],
          "name": "stdout"
        },
        {
          "output_type": "display_data",
          "data": {
            "image/png": "[encoded data removed]",
            "text/plain": [
              "<Figure size 432x288 with 1 Axes>"
            ]
          },
          "metadata": {
            "tags": [],
            "needs_background": "light"
          }
        },
        {
          "output_type": "stream",
          "text": [
            "***************************************************************************\n",
            "Summary of statisitcs grouped at level Source Destination wrt to Price\n",
            "                       count          mean  ...      75%      max\n",
            "Source   Destination                        ...                  \n",
            "Banglore Delhi        1265.0   5143.918577  ...   5911.0   8541.0\n",
            "         New Delhi     932.0  11917.716738  ...  13817.0  79512.0\n",
            "Chennai  Kolkata       381.0   4789.892388  ...   5277.0  19630.0\n",
            "Delhi    Cochin       4537.0  10539.439057  ...  13344.0  52285.0\n",
            "Kolkata  Banglore     2871.0   9158.389411  ...  12681.0  31945.0\n",
            "Mumbai   Hyderabad     697.0   5059.708752  ...   5678.0  25139.0\n",
            "\n",
            "[6 rows x 8 columns]\n"
          ],
          "name": "stdout"
        }
      ]
    },
    {
      "cell_type": "markdown",
      "metadata": {
        "id": "7WwQZCnOOG4T"
      },
      "source": [
        "- **The tickets for Bangalore to Delhi is the most expensive over the observed timespan while flights from Mumbai to Hyderabad are the cheapest**\n",
        "- **This also helps to infer that viewing the source column and the destination column won't make much sense and thus viewing them in combinatio will help us to obtain more insights**\n",
        "- **On the basis of this chart, I decided to combine the source and destination into a new column and then one hot encode them using pd.get_dummies function**"
      ]
    },
    {
      "cell_type": "markdown",
      "metadata": {
        "id": "9JlA0R0lwA2p"
      },
      "source": [
        "## Observation on Arrival and Departure Time\n",
        "Since Arrival and departure time influence the price fo the flight so I decided to make bins of the arrival and departure time into the following categories\n",
        "- **Midnight Early (12 am to 6 am)**\n",
        "- **Early Noon (6am to 12pm)**\n",
        "- **Noon Evening (12pm to 6pm)**\n",
        "- **Evening Midnigh (6pm to 12 am)** \n",
        "\n",
        "*We will add these bins to see if the model performance improves or not*"
      ]
    },
    {
      "cell_type": "code",
      "metadata": {
        "id": "y-XMBXDlnNBq"
      },
      "source": [
        "def make_bins(x):\n",
        "  if x <= 6:\n",
        "    return \"Midnight_Early\"\n",
        "  elif x >6 and x <=12:\n",
        "    return \"Early_Noon\"\n",
        "  elif x >12 and x <=18:\n",
        "    return \"Noon-Evening\"\n",
        "  else:\n",
        "    return \"Evening-Night\""
      ],
      "execution_count": null,
      "outputs": []
    },
    {
      "cell_type": "code",
      "metadata": {
        "id": "2gZvQtk0lSz-"
      },
      "source": [
        "def add_features(df,col):\n",
        "  # df['year'] = pd.DatetimeIndex(df[col]).year\n",
        "  # df['weekday'] = pd.DatetimeIndex(df[col]).weekday\n",
        "  df['day'] = pd.DatetimeIndex(df[col]).day\n",
        "  df['quarter'] = pd.DatetimeIndex(df[col]).quarter\n",
        "  df['month'] = pd.DatetimeIndex(df[col]).month\n",
        "  df.drop(labels=[col],inplace=True,axis=1)\n",
        "  "
      ],
      "execution_count": 54,
      "outputs": []
    },
    {
      "cell_type": "code",
      "metadata": {
        "id": "UFnt0vKltoUf"
      },
      "source": [
        "def add_time_features(df,col):\n",
        "  for m in col:\n",
        "    df[m]=df[m].apply(lambda x: x.split(\":\")[0])\n",
        "    df[m]=df[m].astype(int)\n",
        "    "
      ],
      "execution_count": 43,
      "outputs": []
    },
    {
      "cell_type": "code",
      "metadata": {
        "id": "6V_Lz0CQwTq8"
      },
      "source": [
        "def transform_duration(x):\n",
        "  try:\n",
        "    if 'h' in x and 'm' in x:\n",
        "      return int(x.split(\" \")[0][:-1]) + int(x.split(\" \")[1][:-1])/60\n",
        "\n",
        "    elif x[-1]=='m':\n",
        "      return int(x.split(\" \")[0][:-1])/60\n",
        "    else:\n",
        "      return int(x.split(\" \")[0][:-1])\n",
        "  except Exception as e:\n",
        "    print(x)"
      ],
      "execution_count": 53,
      "outputs": []
    },
    {
      "cell_type": "code",
      "metadata": {
        "id": "9EzJZ5pBwnC8"
      },
      "source": [
        "def transform_duration(df,col):\n",
        "  df[col]=df[col].map(transform_time)"
      ],
      "execution_count": 56,
      "outputs": []
    },
    {
      "cell_type": "markdown",
      "metadata": {
        "id": "TCQF4ZIHKYWI"
      },
      "source": [
        "### **Handling Categorical variables for Test and Train data together**"
      ]
    },
    {
      "cell_type": "code",
      "metadata": {
        "id": "Z8HQul39xPwC"
      },
      "source": [
        "df_train.dropna(axis=0,inplace=True)\n",
        "add_features(df_train,'Date_of_Journey')\n",
        "add_features(df_test,'Date_of_Journey')\n",
        "transform_duration(df_train,'Duration')\n",
        "transform_duration(df_test,'Duration')\n",
        "df_train['Source_Destination']=df_train['Source']+\"_\"+df_train['Destination']\n",
        "df_test['Source_Destination']=df_test['Source']+\"_\"+df_test['Destination']\n",
        "df_train=pd.get_dummies(df_train,columns=['Source_Destination'],drop_first=True)\n",
        "df_test=pd.get_dummies(df_test,columns=['Source_Destination'],drop_first=True)\n",
        "df_train=pd.get_dummies(df_train,columns=['Airline'],drop_first=True)\n",
        "df_test=pd.get_dummies(df_test,columns=['Airline'],drop_first=True)\n",
        "df_test['Airline_Trujet']=0\n",
        "stops_dict={'non-stop':1, '2 stops':3, '1 stop':2, '3 stops':4, '4 stops':5}\n",
        "df_train['Total_Stops']=df_train['Total_Stops'].map(stops_dict)\n",
        "\n",
        "df_train.drop(labels=['Route','Source','Destination','Additional_Info'],axis=1,inplace=True)\n",
        "df_test.drop(labels=['Route','Source','Destination','Additional_Info'],axis=1,inplace=True)\n"
      ],
      "execution_count": null,
      "outputs": []
    },
    {
      "cell_type": "code",
      "metadata": {
        "id": "PLx9Hp4B928n"
      },
      "source": [
        "X=df_train.drop(labels=['Price','Log_Price'],axis=1)\n",
        "y=df_train['Log_Price']\n",
        "print(len(X.columns))\n",
        "print(len(df_test.columns))"
      ],
      "execution_count": 72,
      "outputs": []
    },
    {
      "cell_type": "markdown",
      "metadata": {
        "id": "fOeSFzBQLWUx"
      },
      "source": [
        "## **Preparing train and test split for Xgboost regressor**"
      ]
    },
    {
      "cell_type": "code",
      "metadata": {
        "id": "CG_vjEhSLear"
      },
      "source": [
        "from sklearn.model_selection import train_test_split\n",
        "X_train, X_test, y_train, y_test = train_test_split(X, y, test_size = 0.2, random_state = 42)"
      ],
      "execution_count": null,
      "outputs": []
    },
    {
      "cell_type": "code",
      "metadata": {
        "id": "LvGkBgtHLiFe"
      },
      "source": [
        "import xgboost as xgb\n",
        "dtrain = xgb.DMatrix(X_train, label=y_train)\n",
        "dtest = xgb.DMatrix(X_test, label=y_test)"
      ],
      "execution_count": null,
      "outputs": []
    },
    {
      "cell_type": "code",
      "metadata": {
        "id": "STbn_14C9TUI"
      },
      "source": [
        "params = {\n",
        "    # Parameters that we are going to tune.\n",
        "    'max_depth':6,\n",
        "    'min_child_weight': 1,\n",
        "    'eta':.3,\n",
        "    'subsample': 1,\n",
        "    'colsample_bytree': 1,\n",
        "    # Other parameters\n",
        "    'objective':'reg:linear',\n",
        "}"
      ],
      "execution_count": 93,
      "outputs": []
    },
    {
      "cell_type": "markdown",
      "metadata": {
        "id": "0p_JR-LGLs46"
      },
      "source": [
        "## **Initial Regressor model with baseline parameters**"
      ]
    },
    {
      "cell_type": "code",
      "metadata": {
        "id": "_U7G7pvvBfyb"
      },
      "source": [
        "params['eval_metric'] = \"rmse\"\n",
        "num_boost_round = 999\n",
        "model = xgb.train(\n",
        "    params,\n",
        "    dtrain,\n",
        "    num_boost_round=num_boost_round,\n",
        "    evals=[(dtest, \"Test\")],\n",
        "    early_stopping_rounds=10\n",
        ")"
      ],
      "execution_count": 92,
      "outputs": []
    },
    {
      "cell_type": "markdown",
      "metadata": {
        "id": "cMQ-agRAL1AY"
      },
      "source": [
        "## **Performing cross validation**"
      ]
    },
    {
      "cell_type": "code",
      "metadata": {
        "colab": {
          "base_uri": "https://localhost:8080/",
          "height": 486
        },
        "id": "9RIpXJz6BLnL",
        "outputId": "e6c8ebda-4fd4-4317-cb9c-067ff32694aa"
      },
      "source": [
        "cv_results = xgb.cv(\n",
        "    params,\n",
        "    dtrain,\n",
        "    num_boost_round=num_boost_round,\n",
        "    seed=42,\n",
        "    nfold=5,\n",
        "    metrics={'rmse'},\n",
        "    early_stopping_rounds=10\n",
        ")\n",
        "cv_results"
      ],
      "execution_count": 96,
      "outputs": [
        {
          "output_type": "stream",
          "text": [
            "[21:03:00] WARNING: /workspace/src/objective/regression_obj.cu:152: reg:linear is now deprecated in favor of reg:squarederror.\n",
            "[21:03:00] WARNING: /workspace/src/objective/regression_obj.cu:152: reg:linear is now deprecated in favor of reg:squarederror.\n",
            "[21:03:00] WARNING: /workspace/src/objective/regression_obj.cu:152: reg:linear is now deprecated in favor of reg:squarederror.\n",
            "[21:03:00] WARNING: /workspace/src/objective/regression_obj.cu:152: reg:linear is now deprecated in favor of reg:squarederror.\n",
            "[21:03:00] WARNING: /workspace/src/objective/regression_obj.cu:152: reg:linear is now deprecated in favor of reg:squarederror.\n"
          ],
          "name": "stdout"
        },
        {
          "output_type": "execute_result",
          "data": {
            "text/html": [
              "<div>\n",
              "<style scoped>\n",
              "    .dataframe tbody tr th:only-of-type {\n",
              "        vertical-align: middle;\n",
              "    }\n",
              "\n",
              "    .dataframe tbody tr th {\n",
              "        vertical-align: top;\n",
              "    }\n",
              "\n",
              "    .dataframe thead th {\n",
              "        text-align: right;\n",
              "    }\n",
              "</style>\n",
              "<table border=\"1\" class=\"dataframe\">\n",
              "  <thead>\n",
              "    <tr style=\"text-align: right;\">\n",
              "      <th></th>\n",
              "      <th>train-rmse-mean</th>\n",
              "      <th>train-rmse-std</th>\n",
              "      <th>test-rmse-mean</th>\n",
              "      <th>test-rmse-std</th>\n",
              "    </tr>\n",
              "  </thead>\n",
              "  <tbody>\n",
              "    <tr>\n",
              "      <th>0</th>\n",
              "      <td>5.958854</td>\n",
              "      <td>0.001533</td>\n",
              "      <td>5.958976</td>\n",
              "      <td>0.007110</td>\n",
              "    </tr>\n",
              "    <tr>\n",
              "      <th>1</th>\n",
              "      <td>4.177810</td>\n",
              "      <td>0.001073</td>\n",
              "      <td>4.178502</td>\n",
              "      <td>0.006044</td>\n",
              "    </tr>\n",
              "    <tr>\n",
              "      <th>2</th>\n",
              "      <td>2.931866</td>\n",
              "      <td>0.000734</td>\n",
              "      <td>2.932465</td>\n",
              "      <td>0.006023</td>\n",
              "    </tr>\n",
              "    <tr>\n",
              "      <th>3</th>\n",
              "      <td>2.061366</td>\n",
              "      <td>0.000556</td>\n",
              "      <td>2.062020</td>\n",
              "      <td>0.005921</td>\n",
              "    </tr>\n",
              "    <tr>\n",
              "      <th>4</th>\n",
              "      <td>1.454199</td>\n",
              "      <td>0.000438</td>\n",
              "      <td>1.455083</td>\n",
              "      <td>0.005860</td>\n",
              "    </tr>\n",
              "    <tr>\n",
              "      <th>...</th>\n",
              "      <td>...</td>\n",
              "      <td>...</td>\n",
              "      <td>...</td>\n",
              "      <td>...</td>\n",
              "    </tr>\n",
              "    <tr>\n",
              "      <th>101</th>\n",
              "      <td>0.126119</td>\n",
              "      <td>0.001643</td>\n",
              "      <td>0.174731</td>\n",
              "      <td>0.001840</td>\n",
              "    </tr>\n",
              "    <tr>\n",
              "      <th>102</th>\n",
              "      <td>0.125802</td>\n",
              "      <td>0.001731</td>\n",
              "      <td>0.174646</td>\n",
              "      <td>0.001813</td>\n",
              "    </tr>\n",
              "    <tr>\n",
              "      <th>103</th>\n",
              "      <td>0.125448</td>\n",
              "      <td>0.001749</td>\n",
              "      <td>0.174606</td>\n",
              "      <td>0.001837</td>\n",
              "    </tr>\n",
              "    <tr>\n",
              "      <th>104</th>\n",
              "      <td>0.125182</td>\n",
              "      <td>0.001802</td>\n",
              "      <td>0.174570</td>\n",
              "      <td>0.001847</td>\n",
              "    </tr>\n",
              "    <tr>\n",
              "      <th>105</th>\n",
              "      <td>0.124837</td>\n",
              "      <td>0.001694</td>\n",
              "      <td>0.174491</td>\n",
              "      <td>0.001881</td>\n",
              "    </tr>\n",
              "  </tbody>\n",
              "</table>\n",
              "<p>106 rows × 4 columns</p>\n",
              "</div>"
            ],
            "text/plain": [
              "     train-rmse-mean  train-rmse-std  test-rmse-mean  test-rmse-std\n",
              "0           5.958854        0.001533        5.958976       0.007110\n",
              "1           4.177810        0.001073        4.178502       0.006044\n",
              "2           2.931866        0.000734        2.932465       0.006023\n",
              "3           2.061366        0.000556        2.062020       0.005921\n",
              "4           1.454199        0.000438        1.455083       0.005860\n",
              "..               ...             ...             ...            ...\n",
              "101         0.126119        0.001643        0.174731       0.001840\n",
              "102         0.125802        0.001731        0.174646       0.001813\n",
              "103         0.125448        0.001749        0.174606       0.001837\n",
              "104         0.125182        0.001802        0.174570       0.001847\n",
              "105         0.124837        0.001694        0.174491       0.001881\n",
              "\n",
              "[106 rows x 4 columns]"
            ]
          },
          "metadata": {
            "tags": []
          },
          "execution_count": 96
        }
      ]
    },
    {
      "cell_type": "code",
      "metadata": {
        "colab": {
          "base_uri": "https://localhost:8080/"
        },
        "id": "Nt-a6CJaBLkj",
        "outputId": "ef52a8e9-1247-4f3c-9c60-fbe2c36b776e"
      },
      "source": [
        "cv_results['test-rmse-mean'].min()"
      ],
      "execution_count": 98,
      "outputs": [
        {
          "output_type": "execute_result",
          "data": {
            "text/plain": [
              "0.174491"
            ]
          },
          "metadata": {
            "tags": []
          },
          "execution_count": 98
        }
      ]
    },
    {
      "cell_type": "markdown",
      "metadata": {
        "id": "Yfq2UyIbMEo7"
      },
      "source": [
        "# **Hyperparameter tuning**"
      ]
    },
    {
      "cell_type": "markdown",
      "metadata": {
        "id": "NXVyIsmRMKBo"
      },
      "source": [
        "### **I followed the approach shared in the article: https://blog.cambridgespark.com/hyperparameter-tuning-in-xgboost-4ff9100a3b2f to perform hyperparameter tuning on thr XGBoost Regressor model**"
      ]
    },
    {
      "cell_type": "markdown",
      "metadata": {
        "id": "rkJ9ZvZrDWeM"
      },
      "source": [
        "### **Parameters max_depth and min_child_weight**\n",
        "These parameters add constraints on the architecture of the trees.\n",
        "**max_depth** is the maximum number of nodes allowed from the root to the farthest leaf of a tree. Deeper trees can model more complex relationships by adding more nodes, but as we go deeper, splits become less relevant and are sometimes only due to noise, causing the model to overfit.\n",
        "**min_child_weight** is the minimum weight (or number of samples if all samples have a weight of 1) required in order to create a new node in the tree. A smaller min_child_weight allows the algorithm to create children that correspond to fewer samples, thus allowing for more complex trees, but again, more likely to overfit.\n",
        "Thus, those parameters can be used to control the complexity of the trees. It is important to tune them together in order to find a good trade-off between model bias and variance"
      ]
    },
    {
      "cell_type": "code",
      "metadata": {
        "id": "B1djfUcrBLhs"
      },
      "source": [
        "gridsearch_params = [\n",
        "    (max_depth, min_child_weight)\n",
        "    for max_depth in range(9,12)\n",
        "    for min_child_weight in range(5,8)\n",
        "]"
      ],
      "execution_count": 100,
      "outputs": []
    },
    {
      "cell_type": "code",
      "metadata": {
        "colab": {
          "base_uri": "https://localhost:8080/"
        },
        "id": "z-WM4Pm7BLe_",
        "outputId": "4f3dfd62-ad9c-4055-a9a4-70155df7754a"
      },
      "source": [
        "min_rmse = float(\"Inf\")\n",
        "best_params = None\n",
        "for max_depth, min_child_weight in gridsearch_params:\n",
        "    print(\"CV with max_depth={}, min_child_weight={}\".format(\n",
        "                             max_depth,\n",
        "                             min_child_weight))\n",
        "    # Update our parameters\n",
        "    params['max_depth'] = max_depth\n",
        "    params['min_child_weight'] = min_child_weight\n",
        "    # Run CV\n",
        "    cv_results = xgb.cv(\n",
        "        params,\n",
        "        dtrain,\n",
        "        num_boost_round=num_boost_round,\n",
        "        seed=42,\n",
        "        nfold=5,\n",
        "        metrics={'rmse'},\n",
        "        early_stopping_rounds=10\n",
        "    )\n",
        "    # Update best MAE\n",
        "    mean_rmse = cv_results['test-rmse-mean'].min()\n",
        "    boost_rounds = cv_results['test-rmse-mean'].argmin()\n",
        "    print(\"\\tMAE {} for {} rounds\".format(mean_rmse, boost_rounds))\n",
        "    if mean_rmse < min_rmse:\n",
        "        min_rmse = mean_rmse\n",
        "        best_params = (max_depth,min_child_weight)\n",
        "print(\"Best params: {}, {}, MAE: {}\".format(best_params[0], best_params[1], min_rmse))"
      ],
      "execution_count": 103,
      "outputs": [
        {
          "output_type": "stream",
          "text": [
            "CV with max_depth=9, min_child_weight=5\n",
            "[21:08:14] WARNING: /workspace/src/objective/regression_obj.cu:152: reg:linear is now deprecated in favor of reg:squarederror.\n",
            "[21:08:14] WARNING: /workspace/src/objective/regression_obj.cu:152: reg:linear is now deprecated in favor of reg:squarederror.\n",
            "[21:08:14] WARNING: /workspace/src/objective/regression_obj.cu:152: reg:linear is now deprecated in favor of reg:squarederror.\n",
            "[21:08:14] WARNING: /workspace/src/objective/regression_obj.cu:152: reg:linear is now deprecated in favor of reg:squarederror.\n",
            "[21:08:14] WARNING: /workspace/src/objective/regression_obj.cu:152: reg:linear is now deprecated in favor of reg:squarederror.\n",
            "\tMAE 0.1807474 for 34 rounds\n",
            "CV with max_depth=9, min_child_weight=6\n",
            "[21:08:17] WARNING: /workspace/src/objective/regression_obj.cu:152: reg:linear is now deprecated in favor of reg:squarederror.\n",
            "[21:08:17] WARNING: /workspace/src/objective/regression_obj.cu:152: reg:linear is now deprecated in favor of reg:squarederror.\n",
            "[21:08:17] WARNING: /workspace/src/objective/regression_obj.cu:152: reg:linear is now deprecated in favor of reg:squarederror.\n",
            "[21:08:17] WARNING: /workspace/src/objective/regression_obj.cu:152: reg:linear is now deprecated in favor of reg:squarederror.\n",
            "[21:08:17] WARNING: /workspace/src/objective/regression_obj.cu:152: reg:linear is now deprecated in favor of reg:squarederror.\n",
            "\tMAE 0.18057220000000002 for 33 rounds\n",
            "CV with max_depth=9, min_child_weight=7\n",
            "[21:08:20] WARNING: /workspace/src/objective/regression_obj.cu:152: reg:linear is now deprecated in favor of reg:squarederror.\n",
            "[21:08:20] WARNING: /workspace/src/objective/regression_obj.cu:152: reg:linear is now deprecated in favor of reg:squarederror.\n",
            "[21:08:20] WARNING: /workspace/src/objective/regression_obj.cu:152: reg:linear is now deprecated in favor of reg:squarederror.\n",
            "[21:08:20] WARNING: /workspace/src/objective/regression_obj.cu:152: reg:linear is now deprecated in favor of reg:squarederror.\n",
            "[21:08:20] WARNING: /workspace/src/objective/regression_obj.cu:152: reg:linear is now deprecated in favor of reg:squarederror.\n",
            "\tMAE 0.17996700000000002 for 35 rounds\n",
            "CV with max_depth=10, min_child_weight=5\n",
            "[21:08:23] WARNING: /workspace/src/objective/regression_obj.cu:152: reg:linear is now deprecated in favor of reg:squarederror.\n",
            "[21:08:23] WARNING: /workspace/src/objective/regression_obj.cu:152: reg:linear is now deprecated in favor of reg:squarederror.\n",
            "[21:08:23] WARNING: /workspace/src/objective/regression_obj.cu:152: reg:linear is now deprecated in favor of reg:squarederror.\n",
            "[21:08:23] WARNING: /workspace/src/objective/regression_obj.cu:152: reg:linear is now deprecated in favor of reg:squarederror.\n",
            "[21:08:23] WARNING: /workspace/src/objective/regression_obj.cu:152: reg:linear is now deprecated in favor of reg:squarederror.\n",
            "\tMAE 0.18144480000000002 for 27 rounds\n",
            "CV with max_depth=10, min_child_weight=6\n",
            "[21:08:26] WARNING: /workspace/src/objective/regression_obj.cu:152: reg:linear is now deprecated in favor of reg:squarederror.\n",
            "[21:08:26] WARNING: /workspace/src/objective/regression_obj.cu:152: reg:linear is now deprecated in favor of reg:squarederror.\n",
            "[21:08:26] WARNING: /workspace/src/objective/regression_obj.cu:152: reg:linear is now deprecated in favor of reg:squarederror.\n",
            "[21:08:26] WARNING: /workspace/src/objective/regression_obj.cu:152: reg:linear is now deprecated in favor of reg:squarederror.\n",
            "[21:08:26] WARNING: /workspace/src/objective/regression_obj.cu:152: reg:linear is now deprecated in favor of reg:squarederror.\n",
            "\tMAE 0.1819314 for 32 rounds\n",
            "CV with max_depth=10, min_child_weight=7\n",
            "[21:08:29] WARNING: /workspace/src/objective/regression_obj.cu:152: reg:linear is now deprecated in favor of reg:squarederror.\n",
            "[21:08:29] WARNING: /workspace/src/objective/regression_obj.cu:152: reg:linear is now deprecated in favor of reg:squarederror.\n",
            "[21:08:29] WARNING: /workspace/src/objective/regression_obj.cu:152: reg:linear is now deprecated in favor of reg:squarederror.\n",
            "[21:08:29] WARNING: /workspace/src/objective/regression_obj.cu:152: reg:linear is now deprecated in favor of reg:squarederror.\n",
            "[21:08:29] WARNING: /workspace/src/objective/regression_obj.cu:152: reg:linear is now deprecated in favor of reg:squarederror.\n",
            "\tMAE 0.1824786 for 30 rounds\n",
            "CV with max_depth=11, min_child_weight=5\n",
            "[21:08:32] WARNING: /workspace/src/objective/regression_obj.cu:152: reg:linear is now deprecated in favor of reg:squarederror.\n",
            "[21:08:32] WARNING: /workspace/src/objective/regression_obj.cu:152: reg:linear is now deprecated in favor of reg:squarederror.\n",
            "[21:08:32] WARNING: /workspace/src/objective/regression_obj.cu:152: reg:linear is now deprecated in favor of reg:squarederror.\n",
            "[21:08:32] WARNING: /workspace/src/objective/regression_obj.cu:152: reg:linear is now deprecated in favor of reg:squarederror.\n",
            "[21:08:32] WARNING: /workspace/src/objective/regression_obj.cu:152: reg:linear is now deprecated in favor of reg:squarederror.\n",
            "\tMAE 0.1821942 for 26 rounds\n",
            "CV with max_depth=11, min_child_weight=6\n",
            "[21:08:35] WARNING: /workspace/src/objective/regression_obj.cu:152: reg:linear is now deprecated in favor of reg:squarederror.\n",
            "[21:08:35] WARNING: /workspace/src/objective/regression_obj.cu:152: reg:linear is now deprecated in favor of reg:squarederror.\n",
            "[21:08:35] WARNING: /workspace/src/objective/regression_obj.cu:152: reg:linear is now deprecated in favor of reg:squarederror.\n",
            "[21:08:35] WARNING: /workspace/src/objective/regression_obj.cu:152: reg:linear is now deprecated in favor of reg:squarederror.\n",
            "[21:08:35] WARNING: /workspace/src/objective/regression_obj.cu:152: reg:linear is now deprecated in favor of reg:squarederror.\n",
            "\tMAE 0.182533 for 26 rounds\n",
            "CV with max_depth=11, min_child_weight=7\n",
            "[21:08:38] WARNING: /workspace/src/objective/regression_obj.cu:152: reg:linear is now deprecated in favor of reg:squarederror.\n",
            "[21:08:38] WARNING: /workspace/src/objective/regression_obj.cu:152: reg:linear is now deprecated in favor of reg:squarederror.\n",
            "[21:08:38] WARNING: /workspace/src/objective/regression_obj.cu:152: reg:linear is now deprecated in favor of reg:squarederror.\n",
            "[21:08:38] WARNING: /workspace/src/objective/regression_obj.cu:152: reg:linear is now deprecated in favor of reg:squarederror.\n",
            "[21:08:38] WARNING: /workspace/src/objective/regression_obj.cu:152: reg:linear is now deprecated in favor of reg:squarederror.\n",
            "\tMAE 0.1821796 for 27 rounds\n",
            "Best params: 9, 7, MAE: 0.17996700000000002\n"
          ],
          "name": "stdout"
        }
      ]
    },
    {
      "cell_type": "code",
      "metadata": {
        "id": "7zPibmvWBLc4"
      },
      "source": [
        "params['max_depth'] = 9\n",
        "params['min_child_weight'] = 7"
      ],
      "execution_count": 104,
      "outputs": []
    },
    {
      "cell_type": "markdown",
      "metadata": {
        "id": "f8kdCtzDER2W"
      },
      "source": [
        "### **Parameters subsample and colsample_bytree**\n",
        "These parameters control the sampling of the dataset that is done at each boosting round.\n",
        "Instead of using the whole training set every time, we can build a tree on slightly different data at each step, which makes it less likely to overfit to a single sample or feature.\n",
        "subsample corresponds to the fraction of observations (the rows) to subsample at each step. By default it is set to 1 meaning that we use all rows.\n",
        "colsample_bytree corresponds to the fraction of features (the columns) to use. By default it is set to 1 meaning that we will use all features.\n",
        "Let’s see if we can get better results by tuning those parameters together."
      ]
    },
    {
      "cell_type": "code",
      "metadata": {
        "id": "HAGL4QERBLZc"
      },
      "source": [
        "gridsearch_params = [\n",
        "    (subsample, colsample)\n",
        "    for subsample in [i/10. for i in range(7,11)]\n",
        "    for colsample in [i/10. for i in range(7,11)]\n",
        "]"
      ],
      "execution_count": 107,
      "outputs": []
    },
    {
      "cell_type": "code",
      "metadata": {
        "colab": {
          "base_uri": "https://localhost:8080/"
        },
        "id": "Co1fkfvwBLXF",
        "outputId": "df1d42d3-f7ee-41e6-dfb2-87f40a0fbb13"
      },
      "source": [
        "min_rmse = float(\"Inf\")\n",
        "best_params = None\n",
        "# We start by the largest values and go down to the smallest\n",
        "for subsample, colsample in reversed(gridsearch_params):\n",
        "    print(\"CV with subsample={}, colsample={}\".format(\n",
        "                             subsample,\n",
        "                             colsample))\n",
        "    # We update our parameters\n",
        "    params['subsample'] = subsample\n",
        "    params['colsample_bytree'] = colsample\n",
        "    # Run CV\n",
        "    cv_results = xgb.cv(\n",
        "        params,\n",
        "        dtrain,\n",
        "        num_boost_round=num_boost_round,\n",
        "        seed=42,\n",
        "        nfold=5,\n",
        "        metrics={'rmse'},\n",
        "        early_stopping_rounds=10\n",
        "    )\n",
        "    # Update best score\n",
        "    mean_rmse = cv_results['test-rmse-mean'].min()\n",
        "    boost_rounds = cv_results['test-rmse-mean'].argmin()\n",
        "    print(\"\\tMAE {} for {} rounds\".format(mean_rmse, boost_rounds))\n",
        "    if mean_rmse < min_rmse:\n",
        "        min_rmse = mean_rmse\n",
        "        best_params = (subsample,colsample)\n",
        "print(\"Best params: {}, {}, RMSE: {}\".format(best_params[0], best_params[1], min_rmse))"
      ],
      "execution_count": 109,
      "outputs": [
        {
          "output_type": "stream",
          "text": [
            "CV with subsample=1.0, colsample=1.0\n",
            "[21:12:03] WARNING: /workspace/src/objective/regression_obj.cu:152: reg:linear is now deprecated in favor of reg:squarederror.\n",
            "[21:12:03] WARNING: /workspace/src/objective/regression_obj.cu:152: reg:linear is now deprecated in favor of reg:squarederror.\n",
            "[21:12:03] WARNING: /workspace/src/objective/regression_obj.cu:152: reg:linear is now deprecated in favor of reg:squarederror.\n",
            "[21:12:03] WARNING: /workspace/src/objective/regression_obj.cu:152: reg:linear is now deprecated in favor of reg:squarederror.\n",
            "[21:12:03] WARNING: /workspace/src/objective/regression_obj.cu:152: reg:linear is now deprecated in favor of reg:squarederror.\n",
            "\tMAE 0.17996700000000002 for 35 rounds\n",
            "CV with subsample=1.0, colsample=0.9\n",
            "[21:12:06] WARNING: /workspace/src/objective/regression_obj.cu:152: reg:linear is now deprecated in favor of reg:squarederror.\n",
            "[21:12:06] WARNING: /workspace/src/objective/regression_obj.cu:152: reg:linear is now deprecated in favor of reg:squarederror.\n",
            "[21:12:06] WARNING: /workspace/src/objective/regression_obj.cu:152: reg:linear is now deprecated in favor of reg:squarederror.\n",
            "[21:12:07] WARNING: /workspace/src/objective/regression_obj.cu:152: reg:linear is now deprecated in favor of reg:squarederror.\n",
            "[21:12:07] WARNING: /workspace/src/objective/regression_obj.cu:152: reg:linear is now deprecated in favor of reg:squarederror.\n",
            "\tMAE 0.18009740000000002 for 43 rounds\n",
            "CV with subsample=1.0, colsample=0.8\n",
            "[21:12:10] WARNING: /workspace/src/objective/regression_obj.cu:152: reg:linear is now deprecated in favor of reg:squarederror.\n",
            "[21:12:10] WARNING: /workspace/src/objective/regression_obj.cu:152: reg:linear is now deprecated in favor of reg:squarederror.\n",
            "[21:12:10] WARNING: /workspace/src/objective/regression_obj.cu:152: reg:linear is now deprecated in favor of reg:squarederror.\n",
            "[21:12:10] WARNING: /workspace/src/objective/regression_obj.cu:152: reg:linear is now deprecated in favor of reg:squarederror.\n",
            "[21:12:10] WARNING: /workspace/src/objective/regression_obj.cu:152: reg:linear is now deprecated in favor of reg:squarederror.\n",
            "\tMAE 0.18120200000000003 for 43 rounds\n",
            "CV with subsample=1.0, colsample=0.7\n",
            "[21:12:13] WARNING: /workspace/src/objective/regression_obj.cu:152: reg:linear is now deprecated in favor of reg:squarederror.\n",
            "[21:12:13] WARNING: /workspace/src/objective/regression_obj.cu:152: reg:linear is now deprecated in favor of reg:squarederror.\n",
            "[21:12:13] WARNING: /workspace/src/objective/regression_obj.cu:152: reg:linear is now deprecated in favor of reg:squarederror.\n",
            "[21:12:13] WARNING: /workspace/src/objective/regression_obj.cu:152: reg:linear is now deprecated in favor of reg:squarederror.\n",
            "[21:12:13] WARNING: /workspace/src/objective/regression_obj.cu:152: reg:linear is now deprecated in favor of reg:squarederror.\n",
            "\tMAE 0.178282 for 42 rounds\n",
            "CV with subsample=0.9, colsample=1.0\n",
            "[21:12:16] WARNING: /workspace/src/objective/regression_obj.cu:152: reg:linear is now deprecated in favor of reg:squarederror.\n",
            "[21:12:16] WARNING: /workspace/src/objective/regression_obj.cu:152: reg:linear is now deprecated in favor of reg:squarederror.\n",
            "[21:12:16] WARNING: /workspace/src/objective/regression_obj.cu:152: reg:linear is now deprecated in favor of reg:squarederror.\n",
            "[21:12:16] WARNING: /workspace/src/objective/regression_obj.cu:152: reg:linear is now deprecated in favor of reg:squarederror.\n",
            "[21:12:16] WARNING: /workspace/src/objective/regression_obj.cu:152: reg:linear is now deprecated in favor of reg:squarederror.\n",
            "\tMAE 0.1813472 for 31 rounds\n",
            "CV with subsample=0.9, colsample=0.9\n",
            "[21:12:19] WARNING: /workspace/src/objective/regression_obj.cu:152: reg:linear is now deprecated in favor of reg:squarederror.\n",
            "[21:12:19] WARNING: /workspace/src/objective/regression_obj.cu:152: reg:linear is now deprecated in favor of reg:squarederror.\n",
            "[21:12:19] WARNING: /workspace/src/objective/regression_obj.cu:152: reg:linear is now deprecated in favor of reg:squarederror.\n",
            "[21:12:19] WARNING: /workspace/src/objective/regression_obj.cu:152: reg:linear is now deprecated in favor of reg:squarederror.\n",
            "[21:12:19] WARNING: /workspace/src/objective/regression_obj.cu:152: reg:linear is now deprecated in favor of reg:squarederror.\n",
            "\tMAE 0.1819744 for 33 rounds\n",
            "CV with subsample=0.9, colsample=0.8\n",
            "[21:12:22] WARNING: /workspace/src/objective/regression_obj.cu:152: reg:linear is now deprecated in favor of reg:squarederror.\n",
            "[21:12:22] WARNING: /workspace/src/objective/regression_obj.cu:152: reg:linear is now deprecated in favor of reg:squarederror.\n",
            "[21:12:22] WARNING: /workspace/src/objective/regression_obj.cu:152: reg:linear is now deprecated in favor of reg:squarederror.\n",
            "[21:12:22] WARNING: /workspace/src/objective/regression_obj.cu:152: reg:linear is now deprecated in favor of reg:squarederror.\n",
            "[21:12:22] WARNING: /workspace/src/objective/regression_obj.cu:152: reg:linear is now deprecated in favor of reg:squarederror.\n",
            "\tMAE 0.1819344 for 32 rounds\n",
            "CV with subsample=0.9, colsample=0.7\n",
            "[21:12:25] WARNING: /workspace/src/objective/regression_obj.cu:152: reg:linear is now deprecated in favor of reg:squarederror.\n",
            "[21:12:25] WARNING: /workspace/src/objective/regression_obj.cu:152: reg:linear is now deprecated in favor of reg:squarederror.\n",
            "[21:12:25] WARNING: /workspace/src/objective/regression_obj.cu:152: reg:linear is now deprecated in favor of reg:squarederror.\n",
            "[21:12:25] WARNING: /workspace/src/objective/regression_obj.cu:152: reg:linear is now deprecated in favor of reg:squarederror.\n",
            "[21:12:25] WARNING: /workspace/src/objective/regression_obj.cu:152: reg:linear is now deprecated in favor of reg:squarederror.\n",
            "\tMAE 0.18205700000000002 for 38 rounds\n",
            "CV with subsample=0.8, colsample=1.0\n",
            "[21:12:28] WARNING: /workspace/src/objective/regression_obj.cu:152: reg:linear is now deprecated in favor of reg:squarederror.\n",
            "[21:12:28] WARNING: /workspace/src/objective/regression_obj.cu:152: reg:linear is now deprecated in favor of reg:squarederror.\n",
            "[21:12:28] WARNING: /workspace/src/objective/regression_obj.cu:152: reg:linear is now deprecated in favor of reg:squarederror.\n",
            "[21:12:28] WARNING: /workspace/src/objective/regression_obj.cu:152: reg:linear is now deprecated in favor of reg:squarederror.\n",
            "[21:12:28] WARNING: /workspace/src/objective/regression_obj.cu:152: reg:linear is now deprecated in favor of reg:squarederror.\n",
            "\tMAE 0.1829432 for 37 rounds\n",
            "CV with subsample=0.8, colsample=0.9\n",
            "[21:12:31] WARNING: /workspace/src/objective/regression_obj.cu:152: reg:linear is now deprecated in favor of reg:squarederror.\n",
            "[21:12:31] WARNING: /workspace/src/objective/regression_obj.cu:152: reg:linear is now deprecated in favor of reg:squarederror.\n",
            "[21:12:31] WARNING: /workspace/src/objective/regression_obj.cu:152: reg:linear is now deprecated in favor of reg:squarederror.\n",
            "[21:12:31] WARNING: /workspace/src/objective/regression_obj.cu:152: reg:linear is now deprecated in favor of reg:squarederror.\n",
            "[21:12:31] WARNING: /workspace/src/objective/regression_obj.cu:152: reg:linear is now deprecated in favor of reg:squarederror.\n",
            "\tMAE 0.1817736 for 32 rounds\n",
            "CV with subsample=0.8, colsample=0.8\n",
            "[21:12:34] WARNING: /workspace/src/objective/regression_obj.cu:152: reg:linear is now deprecated in favor of reg:squarederror.\n",
            "[21:12:34] WARNING: /workspace/src/objective/regression_obj.cu:152: reg:linear is now deprecated in favor of reg:squarederror.\n",
            "[21:12:34] WARNING: /workspace/src/objective/regression_obj.cu:152: reg:linear is now deprecated in favor of reg:squarederror.\n",
            "[21:12:34] WARNING: /workspace/src/objective/regression_obj.cu:152: reg:linear is now deprecated in favor of reg:squarederror.\n",
            "[21:12:34] WARNING: /workspace/src/objective/regression_obj.cu:152: reg:linear is now deprecated in favor of reg:squarederror.\n",
            "\tMAE 0.1838156 for 38 rounds\n",
            "CV with subsample=0.8, colsample=0.7\n",
            "[21:12:38] WARNING: /workspace/src/objective/regression_obj.cu:152: reg:linear is now deprecated in favor of reg:squarederror.\n",
            "[21:12:38] WARNING: /workspace/src/objective/regression_obj.cu:152: reg:linear is now deprecated in favor of reg:squarederror.\n",
            "[21:12:38] WARNING: /workspace/src/objective/regression_obj.cu:152: reg:linear is now deprecated in favor of reg:squarederror.\n",
            "[21:12:38] WARNING: /workspace/src/objective/regression_obj.cu:152: reg:linear is now deprecated in favor of reg:squarederror.\n",
            "[21:12:38] WARNING: /workspace/src/objective/regression_obj.cu:152: reg:linear is now deprecated in favor of reg:squarederror.\n",
            "\tMAE 0.1829298 for 38 rounds\n",
            "CV with subsample=0.7, colsample=1.0\n",
            "[21:12:41] WARNING: /workspace/src/objective/regression_obj.cu:152: reg:linear is now deprecated in favor of reg:squarederror.\n",
            "[21:12:41] WARNING: /workspace/src/objective/regression_obj.cu:152: reg:linear is now deprecated in favor of reg:squarederror.\n",
            "[21:12:41] WARNING: /workspace/src/objective/regression_obj.cu:152: reg:linear is now deprecated in favor of reg:squarederror.\n",
            "[21:12:41] WARNING: /workspace/src/objective/regression_obj.cu:152: reg:linear is now deprecated in favor of reg:squarederror.\n",
            "[21:12:41] WARNING: /workspace/src/objective/regression_obj.cu:152: reg:linear is now deprecated in favor of reg:squarederror.\n",
            "\tMAE 0.18532540000000003 for 36 rounds\n",
            "CV with subsample=0.7, colsample=0.9\n",
            "[21:12:44] WARNING: /workspace/src/objective/regression_obj.cu:152: reg:linear is now deprecated in favor of reg:squarederror.\n",
            "[21:12:44] WARNING: /workspace/src/objective/regression_obj.cu:152: reg:linear is now deprecated in favor of reg:squarederror.\n",
            "[21:12:44] WARNING: /workspace/src/objective/regression_obj.cu:152: reg:linear is now deprecated in favor of reg:squarederror.\n",
            "[21:12:44] WARNING: /workspace/src/objective/regression_obj.cu:152: reg:linear is now deprecated in favor of reg:squarederror.\n",
            "[21:12:44] WARNING: /workspace/src/objective/regression_obj.cu:152: reg:linear is now deprecated in favor of reg:squarederror.\n",
            "\tMAE 0.185332 for 34 rounds\n",
            "CV with subsample=0.7, colsample=0.8\n",
            "[21:12:48] WARNING: /workspace/src/objective/regression_obj.cu:152: reg:linear is now deprecated in favor of reg:squarederror.\n",
            "[21:12:48] WARNING: /workspace/src/objective/regression_obj.cu:152: reg:linear is now deprecated in favor of reg:squarederror.\n",
            "[21:12:48] WARNING: /workspace/src/objective/regression_obj.cu:152: reg:linear is now deprecated in favor of reg:squarederror.\n",
            "[21:12:48] WARNING: /workspace/src/objective/regression_obj.cu:152: reg:linear is now deprecated in favor of reg:squarederror.\n",
            "[21:12:48] WARNING: /workspace/src/objective/regression_obj.cu:152: reg:linear is now deprecated in favor of reg:squarederror.\n",
            "\tMAE 0.18384019999999998 for 33 rounds\n",
            "CV with subsample=0.7, colsample=0.7\n",
            "[21:12:51] WARNING: /workspace/src/objective/regression_obj.cu:152: reg:linear is now deprecated in favor of reg:squarederror.\n",
            "[21:12:51] WARNING: /workspace/src/objective/regression_obj.cu:152: reg:linear is now deprecated in favor of reg:squarederror.\n",
            "[21:12:51] WARNING: /workspace/src/objective/regression_obj.cu:152: reg:linear is now deprecated in favor of reg:squarederror.\n",
            "[21:12:51] WARNING: /workspace/src/objective/regression_obj.cu:152: reg:linear is now deprecated in favor of reg:squarederror.\n",
            "[21:12:51] WARNING: /workspace/src/objective/regression_obj.cu:152: reg:linear is now deprecated in favor of reg:squarederror.\n",
            "\tMAE 0.1845024 for 39 rounds\n",
            "Best params: 1.0, 0.7, RMSE: 0.178282\n"
          ],
          "name": "stdout"
        }
      ]
    },
    {
      "cell_type": "code",
      "metadata": {
        "id": "yd2xpmgqBLTj"
      },
      "source": [
        "params['subsample'] = 1\n",
        "params['colsample_bytree'] = 0.7"
      ],
      "execution_count": 110,
      "outputs": []
    },
    {
      "cell_type": "markdown",
      "metadata": {
        "id": "Q-TVT4aoFtOx"
      },
      "source": [
        "## **Parameter ETA**\n",
        "The ETA parameter controls the learning rate. It corresponds to the shrinkage of the weights associated to features after each round, in other words it defines the amount of \"correction\" we make at each step"
      ]
    },
    {
      "cell_type": "code",
      "metadata": {
        "colab": {
          "base_uri": "https://localhost:8080/"
        },
        "id": "42vNvOGaFMwN",
        "outputId": "e935dba9-eb4a-447f-96e6-00e628ca5b99"
      },
      "source": [
        "%time\n",
        "# This can take some time…\n",
        "min_rmse = float(\"Inf\")\n",
        "best_params = None\n",
        "for eta in [.3, .2, .1, .05, .01, .005]:\n",
        "    print(\"CV with eta={}\".format(eta))\n",
        "    # We update our parameters\n",
        "    params['eta'] = eta\n",
        "    # Run and time CV\n",
        "    %time \n",
        "    cv_results = xgb.cv(\n",
        "            params,\n",
        "            dtrain,\n",
        "            num_boost_round=num_boost_round,\n",
        "            seed=42,\n",
        "            nfold=5,\n",
        "            metrics=['rmse'],\n",
        "            early_stopping_rounds=10\n",
        "          )\n",
        "    # Update best score\n",
        "    mean_rmse = cv_results['test-rmse-mean'].min()\n",
        "    boost_rounds = cv_results['test-rmse-mean'].argmin()\n",
        "    print(\"\\tRMSE {} for {} rounds\\n\".format(mean_rmse, boost_rounds))\n",
        "    if mean_rmse < min_rmse:\n",
        "        min_rmse = mean_rmse\n",
        "        best_params = eta\n",
        "print(\"Best params: {}, RMSE: {}\".format(best_params, min_rmse))"
      ],
      "execution_count": 113,
      "outputs": [
        {
          "output_type": "stream",
          "text": [
            "CPU times: user 2 µs, sys: 0 ns, total: 2 µs\n",
            "Wall time: 5.01 µs\n",
            "CV with eta=0.3\n",
            "CPU times: user 3 µs, sys: 0 ns, total: 3 µs\n",
            "Wall time: 4.77 µs\n",
            "[21:17:20] WARNING: /workspace/src/objective/regression_obj.cu:152: reg:linear is now deprecated in favor of reg:squarederror.\n",
            "[21:17:20] WARNING: /workspace/src/objective/regression_obj.cu:152: reg:linear is now deprecated in favor of reg:squarederror.\n",
            "[21:17:20] WARNING: /workspace/src/objective/regression_obj.cu:152: reg:linear is now deprecated in favor of reg:squarederror.\n",
            "[21:17:20] WARNING: /workspace/src/objective/regression_obj.cu:152: reg:linear is now deprecated in favor of reg:squarederror.\n",
            "[21:17:20] WARNING: /workspace/src/objective/regression_obj.cu:152: reg:linear is now deprecated in favor of reg:squarederror.\n",
            "\tRMSE 0.178282 for 42 rounds\n",
            "\n",
            "CV with eta=0.2\n",
            "CPU times: user 2 µs, sys: 0 ns, total: 2 µs\n",
            "Wall time: 6.2 µs\n",
            "[21:17:23] WARNING: /workspace/src/objective/regression_obj.cu:152: reg:linear is now deprecated in favor of reg:squarederror.\n",
            "[21:17:23] WARNING: /workspace/src/objective/regression_obj.cu:152: reg:linear is now deprecated in favor of reg:squarederror.\n",
            "[21:17:23] WARNING: /workspace/src/objective/regression_obj.cu:152: reg:linear is now deprecated in favor of reg:squarederror.\n",
            "[21:17:23] WARNING: /workspace/src/objective/regression_obj.cu:152: reg:linear is now deprecated in favor of reg:squarederror.\n",
            "[21:17:23] WARNING: /workspace/src/objective/regression_obj.cu:152: reg:linear is now deprecated in favor of reg:squarederror.\n",
            "\tRMSE 0.1788014 for 62 rounds\n",
            "\n",
            "CV with eta=0.1\n",
            "CPU times: user 3 µs, sys: 0 ns, total: 3 µs\n",
            "Wall time: 6.44 µs\n",
            "[21:17:27] WARNING: /workspace/src/objective/regression_obj.cu:152: reg:linear is now deprecated in favor of reg:squarederror.\n",
            "[21:17:27] WARNING: /workspace/src/objective/regression_obj.cu:152: reg:linear is now deprecated in favor of reg:squarederror.\n",
            "[21:17:27] WARNING: /workspace/src/objective/regression_obj.cu:152: reg:linear is now deprecated in favor of reg:squarederror.\n",
            "[21:17:27] WARNING: /workspace/src/objective/regression_obj.cu:152: reg:linear is now deprecated in favor of reg:squarederror.\n",
            "[21:17:27] WARNING: /workspace/src/objective/regression_obj.cu:152: reg:linear is now deprecated in favor of reg:squarederror.\n",
            "\tRMSE 0.17763940000000003 for 149 rounds\n",
            "\n",
            "CV with eta=0.05\n",
            "CPU times: user 4 µs, sys: 0 ns, total: 4 µs\n",
            "Wall time: 8.82 µs\n",
            "[21:17:35] WARNING: /workspace/src/objective/regression_obj.cu:152: reg:linear is now deprecated in favor of reg:squarederror.\n",
            "[21:17:35] WARNING: /workspace/src/objective/regression_obj.cu:152: reg:linear is now deprecated in favor of reg:squarederror.\n",
            "[21:17:35] WARNING: /workspace/src/objective/regression_obj.cu:152: reg:linear is now deprecated in favor of reg:squarederror.\n",
            "[21:17:35] WARNING: /workspace/src/objective/regression_obj.cu:152: reg:linear is now deprecated in favor of reg:squarederror.\n",
            "[21:17:35] WARNING: /workspace/src/objective/regression_obj.cu:152: reg:linear is now deprecated in favor of reg:squarederror.\n",
            "\tRMSE 0.17652520000000002 for 286 rounds\n",
            "\n",
            "CV with eta=0.01\n",
            "CPU times: user 3 µs, sys: 0 ns, total: 3 µs\n",
            "Wall time: 7.39 µs\n",
            "[21:17:51] WARNING: /workspace/src/objective/regression_obj.cu:152: reg:linear is now deprecated in favor of reg:squarederror.\n",
            "[21:17:51] WARNING: /workspace/src/objective/regression_obj.cu:152: reg:linear is now deprecated in favor of reg:squarederror.\n",
            "[21:17:51] WARNING: /workspace/src/objective/regression_obj.cu:152: reg:linear is now deprecated in favor of reg:squarederror.\n",
            "[21:17:51] WARNING: /workspace/src/objective/regression_obj.cu:152: reg:linear is now deprecated in favor of reg:squarederror.\n",
            "[21:17:51] WARNING: /workspace/src/objective/regression_obj.cu:152: reg:linear is now deprecated in favor of reg:squarederror.\n",
            "\tRMSE 0.17789 for 998 rounds\n",
            "\n",
            "CV with eta=0.005\n",
            "CPU times: user 3 µs, sys: 0 ns, total: 3 µs\n",
            "Wall time: 6.44 µs\n",
            "[21:18:44] WARNING: /workspace/src/objective/regression_obj.cu:152: reg:linear is now deprecated in favor of reg:squarederror.\n",
            "[21:18:44] WARNING: /workspace/src/objective/regression_obj.cu:152: reg:linear is now deprecated in favor of reg:squarederror.\n",
            "[21:18:44] WARNING: /workspace/src/objective/regression_obj.cu:152: reg:linear is now deprecated in favor of reg:squarederror.\n",
            "[21:18:44] WARNING: /workspace/src/objective/regression_obj.cu:152: reg:linear is now deprecated in favor of reg:squarederror.\n",
            "[21:18:44] WARNING: /workspace/src/objective/regression_obj.cu:152: reg:linear is now deprecated in favor of reg:squarederror.\n",
            "\tRMSE 0.1983574 for 998 rounds\n",
            "\n",
            "Best params: 0.05, RMSE: 0.17652520000000002\n"
          ],
          "name": "stdout"
        }
      ]
    },
    {
      "cell_type": "code",
      "metadata": {
        "colab": {
          "base_uri": "https://localhost:8080/"
        },
        "id": "SP2GMHCcFMtI",
        "outputId": "245a1153-5dfc-4138-960d-f90f0995ff5e"
      },
      "source": [
        "params"
      ],
      "execution_count": 114,
      "outputs": [
        {
          "output_type": "execute_result",
          "data": {
            "text/plain": [
              "{'colsample_bytree': 0.7,\n",
              " 'eta': 0.005,\n",
              " 'eval_metric': 'rmse',\n",
              " 'max_depth': 9,\n",
              " 'min_child_weight': 7,\n",
              " 'objective': 'reg:linear',\n",
              " 'subsample': 1}"
            ]
          },
          "metadata": {
            "tags": []
          },
          "execution_count": 114
        }
      ]
    },
    {
      "cell_type": "code",
      "metadata": {
        "colab": {
          "base_uri": "https://localhost:8080/"
        },
        "id": "UmsJEsuPG_W_",
        "outputId": "e55a8a13-8177-4314-9d16-001c4169a5b1"
      },
      "source": [
        "params['eta']=0.01\n",
        "params"
      ],
      "execution_count": 115,
      "outputs": [
        {
          "output_type": "execute_result",
          "data": {
            "text/plain": [
              "{'colsample_bytree': 0.7,\n",
              " 'eta': 0.01,\n",
              " 'eval_metric': 'rmse',\n",
              " 'max_depth': 9,\n",
              " 'min_child_weight': 7,\n",
              " 'objective': 'reg:linear',\n",
              " 'subsample': 1}"
            ]
          },
          "metadata": {
            "tags": []
          },
          "execution_count": 115
        }
      ]
    },
    {
      "cell_type": "markdown",
      "metadata": {
        "id": "eJop2I_QMoQM"
      },
      "source": [
        "## **Training the model with the updated param dictionary**"
      ]
    },
    {
      "cell_type": "code",
      "metadata": {
        "colab": {
          "base_uri": "https://localhost:8080/"
        },
        "id": "m97wEkFTFMp4",
        "outputId": "3892e070-f40c-4458-8c87-c39403cf5bde"
      },
      "source": [
        "model = xgb.train(\n",
        "    params,\n",
        "    dtrain,\n",
        "    num_boost_round=num_boost_round,\n",
        "    evals=[(dtest, \"Test\")],\n",
        "    early_stopping_rounds=10\n",
        ")"
      ],
      "execution_count": 116,
      "outputs": [
        {
          "output_type": "stream",
          "text": [
            "[21:20:52] WARNING: /workspace/src/objective/regression_obj.cu:152: reg:linear is now deprecated in favor of reg:squarederror.\n",
            "[0]\tTest-rmse:8.42111\n",
            "Will train until Test-rmse hasn't improved in 10 rounds.\n",
            "[1]\tTest-rmse:8.33705\n",
            "[2]\tTest-rmse:8.25384\n",
            "[3]\tTest-rmse:8.17151\n",
            "[4]\tTest-rmse:8.08995\n",
            "[5]\tTest-rmse:8.00923\n",
            "[6]\tTest-rmse:7.92931\n",
            "[7]\tTest-rmse:7.8502\n",
            "[8]\tTest-rmse:7.77186\n",
            "[9]\tTest-rmse:7.69431\n",
            "[10]\tTest-rmse:7.61755\n",
            "[11]\tTest-rmse:7.54154\n",
            "[12]\tTest-rmse:7.46631\n",
            "[13]\tTest-rmse:7.39181\n",
            "[14]\tTest-rmse:7.31807\n",
            "[15]\tTest-rmse:7.24507\n",
            "[16]\tTest-rmse:7.17279\n",
            "[17]\tTest-rmse:7.10123\n",
            "[18]\tTest-rmse:7.03041\n",
            "[19]\tTest-rmse:6.96026\n",
            "[20]\tTest-rmse:6.89089\n",
            "[21]\tTest-rmse:6.82217\n",
            "[22]\tTest-rmse:6.75413\n",
            "[23]\tTest-rmse:6.68675\n",
            "[24]\tTest-rmse:6.62006\n",
            "[25]\tTest-rmse:6.55406\n",
            "[26]\tTest-rmse:6.48872\n",
            "[27]\tTest-rmse:6.424\n",
            "[28]\tTest-rmse:6.35989\n",
            "[29]\tTest-rmse:6.29642\n",
            "[30]\tTest-rmse:6.23363\n",
            "[31]\tTest-rmse:6.17144\n",
            "[32]\tTest-rmse:6.10984\n",
            "[33]\tTest-rmse:6.04893\n",
            "[34]\tTest-rmse:5.98859\n",
            "[35]\tTest-rmse:5.92889\n",
            "[36]\tTest-rmse:5.86972\n",
            "[37]\tTest-rmse:5.81123\n",
            "[38]\tTest-rmse:5.75324\n",
            "[39]\tTest-rmse:5.69593\n",
            "[40]\tTest-rmse:5.63914\n",
            "[41]\tTest-rmse:5.58288\n",
            "[42]\tTest-rmse:5.5272\n",
            "[43]\tTest-rmse:5.47209\n",
            "[44]\tTest-rmse:5.41759\n",
            "[45]\tTest-rmse:5.36354\n",
            "[46]\tTest-rmse:5.31007\n",
            "[47]\tTest-rmse:5.25713\n",
            "[48]\tTest-rmse:5.20471\n",
            "[49]\tTest-rmse:5.15285\n",
            "[50]\tTest-rmse:5.10147\n",
            "[51]\tTest-rmse:5.05061\n",
            "[52]\tTest-rmse:5.00033\n",
            "[53]\tTest-rmse:4.95051\n",
            "[54]\tTest-rmse:4.90115\n",
            "[55]\tTest-rmse:4.85235\n",
            "[56]\tTest-rmse:4.80403\n",
            "[57]\tTest-rmse:4.75618\n",
            "[58]\tTest-rmse:4.70884\n",
            "[59]\tTest-rmse:4.662\n",
            "[60]\tTest-rmse:4.61555\n",
            "[61]\tTest-rmse:4.56961\n",
            "[62]\tTest-rmse:4.52407\n",
            "[63]\tTest-rmse:4.47905\n",
            "[64]\tTest-rmse:4.43449\n",
            "[65]\tTest-rmse:4.3903\n",
            "[66]\tTest-rmse:4.34662\n",
            "[67]\tTest-rmse:4.30339\n",
            "[68]\tTest-rmse:4.26053\n",
            "[69]\tTest-rmse:4.21812\n",
            "[70]\tTest-rmse:4.1761\n",
            "[71]\tTest-rmse:4.13449\n",
            "[72]\tTest-rmse:4.09339\n",
            "[73]\tTest-rmse:4.05262\n",
            "[74]\tTest-rmse:4.01226\n",
            "[75]\tTest-rmse:3.9723\n",
            "[76]\tTest-rmse:3.93282\n",
            "[77]\tTest-rmse:3.89373\n",
            "[78]\tTest-rmse:3.855\n",
            "[79]\tTest-rmse:3.81664\n",
            "[80]\tTest-rmse:3.77864\n",
            "[81]\tTest-rmse:3.74111\n",
            "[82]\tTest-rmse:3.70387\n",
            "[83]\tTest-rmse:3.66702\n",
            "[84]\tTest-rmse:3.63056\n",
            "[85]\tTest-rmse:3.59443\n",
            "[86]\tTest-rmse:3.55867\n",
            "[87]\tTest-rmse:3.5233\n",
            "[88]\tTest-rmse:3.48827\n",
            "[89]\tTest-rmse:3.45362\n",
            "[90]\tTest-rmse:3.41927\n",
            "[91]\tTest-rmse:3.38531\n",
            "[92]\tTest-rmse:3.3517\n",
            "[93]\tTest-rmse:3.31837\n",
            "[94]\tTest-rmse:3.28538\n",
            "[95]\tTest-rmse:3.25272\n",
            "[96]\tTest-rmse:3.22039\n",
            "[97]\tTest-rmse:3.18841\n",
            "[98]\tTest-rmse:3.15673\n",
            "[99]\tTest-rmse:3.12536\n",
            "[100]\tTest-rmse:3.09434\n",
            "[101]\tTest-rmse:3.06358\n",
            "[102]\tTest-rmse:3.03319\n",
            "[103]\tTest-rmse:3.00308\n",
            "[104]\tTest-rmse:2.97326\n",
            "[105]\tTest-rmse:2.94373\n",
            "[106]\tTest-rmse:2.91454\n",
            "[107]\tTest-rmse:2.88565\n",
            "[108]\tTest-rmse:2.85708\n",
            "[109]\tTest-rmse:2.82877\n",
            "[110]\tTest-rmse:2.80077\n",
            "[111]\tTest-rmse:2.77304\n",
            "[112]\tTest-rmse:2.74553\n",
            "[113]\tTest-rmse:2.71827\n",
            "[114]\tTest-rmse:2.69134\n",
            "[115]\tTest-rmse:2.66472\n",
            "[116]\tTest-rmse:2.63834\n",
            "[117]\tTest-rmse:2.61219\n",
            "[118]\tTest-rmse:2.58636\n",
            "[119]\tTest-rmse:2.56074\n",
            "[120]\tTest-rmse:2.53539\n",
            "[121]\tTest-rmse:2.51026\n",
            "[122]\tTest-rmse:2.48541\n",
            "[123]\tTest-rmse:2.46079\n",
            "[124]\tTest-rmse:2.43649\n",
            "[125]\tTest-rmse:2.41237\n",
            "[126]\tTest-rmse:2.38849\n",
            "[127]\tTest-rmse:2.36486\n",
            "[128]\tTest-rmse:2.34149\n",
            "[129]\tTest-rmse:2.31837\n",
            "[130]\tTest-rmse:2.29545\n",
            "[131]\tTest-rmse:2.27278\n",
            "[132]\tTest-rmse:2.25036\n",
            "[133]\tTest-rmse:2.22811\n",
            "[134]\tTest-rmse:2.2061\n",
            "[135]\tTest-rmse:2.18432\n",
            "[136]\tTest-rmse:2.16278\n",
            "[137]\tTest-rmse:2.14146\n",
            "[138]\tTest-rmse:2.1203\n",
            "[139]\tTest-rmse:2.09941\n",
            "[140]\tTest-rmse:2.07866\n",
            "[141]\tTest-rmse:2.05812\n",
            "[142]\tTest-rmse:2.03784\n",
            "[143]\tTest-rmse:2.01777\n",
            "[144]\tTest-rmse:1.99785\n",
            "[145]\tTest-rmse:1.97815\n",
            "[146]\tTest-rmse:1.95871\n",
            "[147]\tTest-rmse:1.93944\n",
            "[148]\tTest-rmse:1.92036\n",
            "[149]\tTest-rmse:1.90143\n",
            "[150]\tTest-rmse:1.88274\n",
            "[151]\tTest-rmse:1.86417\n",
            "[152]\tTest-rmse:1.84587\n",
            "[153]\tTest-rmse:1.82775\n",
            "[154]\tTest-rmse:1.80979\n",
            "[155]\tTest-rmse:1.79205\n",
            "[156]\tTest-rmse:1.77446\n",
            "[157]\tTest-rmse:1.75701\n",
            "[158]\tTest-rmse:1.73973\n",
            "[159]\tTest-rmse:1.72264\n",
            "[160]\tTest-rmse:1.70572\n",
            "[161]\tTest-rmse:1.68894\n",
            "[162]\tTest-rmse:1.67235\n",
            "[163]\tTest-rmse:1.65592\n",
            "[164]\tTest-rmse:1.63968\n",
            "[165]\tTest-rmse:1.62364\n",
            "[166]\tTest-rmse:1.60766\n",
            "[167]\tTest-rmse:1.59189\n",
            "[168]\tTest-rmse:1.57633\n",
            "[169]\tTest-rmse:1.56089\n",
            "[170]\tTest-rmse:1.54564\n",
            "[171]\tTest-rmse:1.5305\n",
            "[172]\tTest-rmse:1.51556\n",
            "[173]\tTest-rmse:1.50072\n",
            "[174]\tTest-rmse:1.48609\n",
            "[175]\tTest-rmse:1.4716\n",
            "[176]\tTest-rmse:1.45728\n",
            "[177]\tTest-rmse:1.44308\n",
            "[178]\tTest-rmse:1.42906\n",
            "[179]\tTest-rmse:1.41511\n",
            "[180]\tTest-rmse:1.40128\n",
            "[181]\tTest-rmse:1.38758\n",
            "[182]\tTest-rmse:1.37404\n",
            "[183]\tTest-rmse:1.36068\n",
            "[184]\tTest-rmse:1.34745\n",
            "[185]\tTest-rmse:1.33429\n",
            "[186]\tTest-rmse:1.32132\n",
            "[187]\tTest-rmse:1.30845\n",
            "[188]\tTest-rmse:1.29573\n",
            "[189]\tTest-rmse:1.28313\n",
            "[190]\tTest-rmse:1.27073\n",
            "[191]\tTest-rmse:1.25836\n",
            "[192]\tTest-rmse:1.2462\n",
            "[193]\tTest-rmse:1.23406\n",
            "[194]\tTest-rmse:1.22209\n",
            "[195]\tTest-rmse:1.21022\n",
            "[196]\tTest-rmse:1.19852\n",
            "[197]\tTest-rmse:1.18693\n",
            "[198]\tTest-rmse:1.17544\n",
            "[199]\tTest-rmse:1.16405\n",
            "[200]\tTest-rmse:1.15284\n",
            "[201]\tTest-rmse:1.14176\n",
            "[202]\tTest-rmse:1.13069\n",
            "[203]\tTest-rmse:1.11982\n",
            "[204]\tTest-rmse:1.10901\n",
            "[205]\tTest-rmse:1.09829\n",
            "[206]\tTest-rmse:1.08769\n",
            "[207]\tTest-rmse:1.07721\n",
            "[208]\tTest-rmse:1.06689\n",
            "[209]\tTest-rmse:1.05662\n",
            "[210]\tTest-rmse:1.04645\n",
            "[211]\tTest-rmse:1.03639\n",
            "[212]\tTest-rmse:1.02643\n",
            "[213]\tTest-rmse:1.01658\n",
            "[214]\tTest-rmse:1.00687\n",
            "[215]\tTest-rmse:0.997248\n",
            "[216]\tTest-rmse:0.987682\n",
            "[217]\tTest-rmse:0.97824\n",
            "[218]\tTest-rmse:0.968856\n",
            "[219]\tTest-rmse:0.959616\n",
            "[220]\tTest-rmse:0.950504\n",
            "[221]\tTest-rmse:0.941424\n",
            "[222]\tTest-rmse:0.9325\n",
            "[223]\tTest-rmse:0.923641\n",
            "[224]\tTest-rmse:0.914824\n",
            "[225]\tTest-rmse:0.906097\n",
            "[226]\tTest-rmse:0.897503\n",
            "[227]\tTest-rmse:0.889031\n",
            "[228]\tTest-rmse:0.880617\n",
            "[229]\tTest-rmse:0.872261\n",
            "[230]\tTest-rmse:0.863996\n",
            "[231]\tTest-rmse:0.855852\n",
            "[232]\tTest-rmse:0.847801\n",
            "[233]\tTest-rmse:0.839792\n",
            "[234]\tTest-rmse:0.831852\n",
            "[235]\tTest-rmse:0.823995\n",
            "[236]\tTest-rmse:0.816246\n",
            "[237]\tTest-rmse:0.808588\n",
            "[238]\tTest-rmse:0.80097\n",
            "[239]\tTest-rmse:0.793458\n",
            "[240]\tTest-rmse:0.786026\n",
            "[241]\tTest-rmse:0.778732\n",
            "[242]\tTest-rmse:0.771445\n",
            "[243]\tTest-rmse:0.764215\n",
            "[244]\tTest-rmse:0.757144\n",
            "[245]\tTest-rmse:0.750104\n",
            "[246]\tTest-rmse:0.743097\n",
            "[247]\tTest-rmse:0.736171\n",
            "[248]\tTest-rmse:0.729376\n",
            "[249]\tTest-rmse:0.722618\n",
            "[250]\tTest-rmse:0.715953\n",
            "[251]\tTest-rmse:0.70932\n",
            "[252]\tTest-rmse:0.702724\n",
            "[253]\tTest-rmse:0.696239\n",
            "[254]\tTest-rmse:0.689832\n",
            "[255]\tTest-rmse:0.68345\n",
            "[256]\tTest-rmse:0.677173\n",
            "[257]\tTest-rmse:0.670986\n",
            "[258]\tTest-rmse:0.664825\n",
            "[259]\tTest-rmse:0.658751\n",
            "[260]\tTest-rmse:0.652711\n",
            "[261]\tTest-rmse:0.646749\n",
            "[262]\tTest-rmse:0.64085\n",
            "[263]\tTest-rmse:0.635029\n",
            "[264]\tTest-rmse:0.629246\n",
            "[265]\tTest-rmse:0.623615\n",
            "[266]\tTest-rmse:0.617973\n",
            "[267]\tTest-rmse:0.612404\n",
            "[268]\tTest-rmse:0.606892\n",
            "[269]\tTest-rmse:0.601436\n",
            "[270]\tTest-rmse:0.596016\n",
            "[271]\tTest-rmse:0.590697\n",
            "[272]\tTest-rmse:0.585439\n",
            "[273]\tTest-rmse:0.580221\n",
            "[274]\tTest-rmse:0.575044\n",
            "[275]\tTest-rmse:0.569946\n",
            "[276]\tTest-rmse:0.564896\n",
            "[277]\tTest-rmse:0.559891\n",
            "[278]\tTest-rmse:0.554969\n",
            "[279]\tTest-rmse:0.550099\n",
            "[280]\tTest-rmse:0.545268\n",
            "[281]\tTest-rmse:0.540507\n",
            "[282]\tTest-rmse:0.535749\n",
            "[283]\tTest-rmse:0.531138\n",
            "[284]\tTest-rmse:0.526521\n",
            "[285]\tTest-rmse:0.521944\n",
            "[286]\tTest-rmse:0.517459\n",
            "[287]\tTest-rmse:0.512989\n",
            "[288]\tTest-rmse:0.508579\n",
            "[289]\tTest-rmse:0.50419\n",
            "[290]\tTest-rmse:0.499917\n",
            "[291]\tTest-rmse:0.495637\n",
            "[292]\tTest-rmse:0.491407\n",
            "[293]\tTest-rmse:0.487276\n",
            "[294]\tTest-rmse:0.483132\n",
            "[295]\tTest-rmse:0.479042\n",
            "[296]\tTest-rmse:0.474997\n",
            "[297]\tTest-rmse:0.471009\n",
            "[298]\tTest-rmse:0.467064\n",
            "[299]\tTest-rmse:0.463154\n",
            "[300]\tTest-rmse:0.459235\n",
            "[301]\tTest-rmse:0.455429\n",
            "[302]\tTest-rmse:0.451671\n",
            "[303]\tTest-rmse:0.44793\n",
            "[304]\tTest-rmse:0.444226\n",
            "[305]\tTest-rmse:0.440606\n",
            "[306]\tTest-rmse:0.437014\n",
            "[307]\tTest-rmse:0.43346\n",
            "[308]\tTest-rmse:0.429889\n",
            "[309]\tTest-rmse:0.426427\n",
            "[310]\tTest-rmse:0.422972\n",
            "[311]\tTest-rmse:0.419557\n",
            "[312]\tTest-rmse:0.416204\n",
            "[313]\tTest-rmse:0.4129\n",
            "[314]\tTest-rmse:0.409646\n",
            "[315]\tTest-rmse:0.406413\n",
            "[316]\tTest-rmse:0.403233\n",
            "[317]\tTest-rmse:0.400057\n",
            "[318]\tTest-rmse:0.396944\n",
            "[319]\tTest-rmse:0.393845\n",
            "[320]\tTest-rmse:0.390781\n",
            "[321]\tTest-rmse:0.387801\n",
            "[322]\tTest-rmse:0.384827\n",
            "[323]\tTest-rmse:0.381874\n",
            "[324]\tTest-rmse:0.378952\n",
            "[325]\tTest-rmse:0.376097\n",
            "[326]\tTest-rmse:0.37325\n",
            "[327]\tTest-rmse:0.370472\n",
            "[328]\tTest-rmse:0.367692\n",
            "[329]\tTest-rmse:0.364963\n",
            "[330]\tTest-rmse:0.362268\n",
            "[331]\tTest-rmse:0.359608\n",
            "[332]\tTest-rmse:0.356952\n",
            "[333]\tTest-rmse:0.354338\n",
            "[334]\tTest-rmse:0.351795\n",
            "[335]\tTest-rmse:0.349284\n",
            "[336]\tTest-rmse:0.346774\n",
            "[337]\tTest-rmse:0.344292\n",
            "[338]\tTest-rmse:0.341834\n",
            "[339]\tTest-rmse:0.339402\n",
            "[340]\tTest-rmse:0.337012\n",
            "[341]\tTest-rmse:0.33464\n",
            "[342]\tTest-rmse:0.332313\n",
            "[343]\tTest-rmse:0.329993\n",
            "[344]\tTest-rmse:0.327742\n",
            "[345]\tTest-rmse:0.325538\n",
            "[346]\tTest-rmse:0.323328\n",
            "[347]\tTest-rmse:0.32114\n",
            "[348]\tTest-rmse:0.318983\n",
            "[349]\tTest-rmse:0.316858\n",
            "[350]\tTest-rmse:0.314759\n",
            "[351]\tTest-rmse:0.312682\n",
            "[352]\tTest-rmse:0.310637\n",
            "[353]\tTest-rmse:0.308612\n",
            "[354]\tTest-rmse:0.30665\n",
            "[355]\tTest-rmse:0.304697\n",
            "[356]\tTest-rmse:0.302776\n",
            "[357]\tTest-rmse:0.300851\n",
            "[358]\tTest-rmse:0.298957\n",
            "[359]\tTest-rmse:0.297093\n",
            "[360]\tTest-rmse:0.295277\n",
            "[361]\tTest-rmse:0.293465\n",
            "[362]\tTest-rmse:0.291681\n",
            "[363]\tTest-rmse:0.289905\n",
            "[364]\tTest-rmse:0.288153\n",
            "[365]\tTest-rmse:0.286433\n",
            "[366]\tTest-rmse:0.28474\n",
            "[367]\tTest-rmse:0.283052\n",
            "[368]\tTest-rmse:0.281385\n",
            "[369]\tTest-rmse:0.279761\n",
            "[370]\tTest-rmse:0.278155\n",
            "[371]\tTest-rmse:0.27656\n",
            "[372]\tTest-rmse:0.27503\n",
            "[373]\tTest-rmse:0.2735\n",
            "[374]\tTest-rmse:0.271996\n",
            "[375]\tTest-rmse:0.270471\n",
            "[376]\tTest-rmse:0.26901\n",
            "[377]\tTest-rmse:0.267581\n",
            "[378]\tTest-rmse:0.266146\n",
            "[379]\tTest-rmse:0.264747\n",
            "[380]\tTest-rmse:0.263382\n",
            "[381]\tTest-rmse:0.262011\n",
            "[382]\tTest-rmse:0.260677\n",
            "[383]\tTest-rmse:0.259314\n",
            "[384]\tTest-rmse:0.257969\n",
            "[385]\tTest-rmse:0.256666\n",
            "[386]\tTest-rmse:0.25538\n",
            "[387]\tTest-rmse:0.254095\n",
            "[388]\tTest-rmse:0.252848\n",
            "[389]\tTest-rmse:0.251634\n",
            "[390]\tTest-rmse:0.250442\n",
            "[391]\tTest-rmse:0.249259\n",
            "[392]\tTest-rmse:0.24811\n",
            "[393]\tTest-rmse:0.246959\n",
            "[394]\tTest-rmse:0.245857\n",
            "[395]\tTest-rmse:0.244708\n",
            "[396]\tTest-rmse:0.243591\n",
            "[397]\tTest-rmse:0.242495\n",
            "[398]\tTest-rmse:0.241401\n",
            "[399]\tTest-rmse:0.240381\n",
            "[400]\tTest-rmse:0.239362\n",
            "[401]\tTest-rmse:0.238336\n",
            "[402]\tTest-rmse:0.237337\n",
            "[403]\tTest-rmse:0.236326\n",
            "[404]\tTest-rmse:0.23532\n",
            "[405]\tTest-rmse:0.234372\n",
            "[406]\tTest-rmse:0.233359\n",
            "[407]\tTest-rmse:0.232422\n",
            "[408]\tTest-rmse:0.231487\n",
            "[409]\tTest-rmse:0.230601\n",
            "[410]\tTest-rmse:0.229708\n",
            "[411]\tTest-rmse:0.228825\n",
            "[412]\tTest-rmse:0.22798\n",
            "[413]\tTest-rmse:0.227134\n",
            "[414]\tTest-rmse:0.226295\n",
            "[415]\tTest-rmse:0.225471\n",
            "[416]\tTest-rmse:0.224681\n",
            "[417]\tTest-rmse:0.223871\n",
            "[418]\tTest-rmse:0.223082\n",
            "[419]\tTest-rmse:0.222329\n",
            "[420]\tTest-rmse:0.221565\n",
            "[421]\tTest-rmse:0.220815\n",
            "[422]\tTest-rmse:0.220076\n",
            "[423]\tTest-rmse:0.219358\n",
            "[424]\tTest-rmse:0.218634\n",
            "[425]\tTest-rmse:0.21796\n",
            "[426]\tTest-rmse:0.217284\n",
            "[427]\tTest-rmse:0.216598\n",
            "[428]\tTest-rmse:0.215942\n",
            "[429]\tTest-rmse:0.215302\n",
            "[430]\tTest-rmse:0.214646\n",
            "[431]\tTest-rmse:0.214016\n",
            "[432]\tTest-rmse:0.213347\n",
            "[433]\tTest-rmse:0.212718\n",
            "[434]\tTest-rmse:0.212087\n",
            "[435]\tTest-rmse:0.211491\n",
            "[436]\tTest-rmse:0.210928\n",
            "[437]\tTest-rmse:0.210365\n",
            "[438]\tTest-rmse:0.209806\n",
            "[439]\tTest-rmse:0.209266\n",
            "[440]\tTest-rmse:0.208703\n",
            "[441]\tTest-rmse:0.20813\n",
            "[442]\tTest-rmse:0.207607\n",
            "[443]\tTest-rmse:0.207074\n",
            "[444]\tTest-rmse:0.206567\n",
            "[445]\tTest-rmse:0.206051\n",
            "[446]\tTest-rmse:0.205554\n",
            "[447]\tTest-rmse:0.205066\n",
            "[448]\tTest-rmse:0.204587\n",
            "[449]\tTest-rmse:0.204102\n",
            "[450]\tTest-rmse:0.203636\n",
            "[451]\tTest-rmse:0.203199\n",
            "[452]\tTest-rmse:0.202754\n",
            "[453]\tTest-rmse:0.202318\n",
            "[454]\tTest-rmse:0.201874\n",
            "[455]\tTest-rmse:0.201451\n",
            "[456]\tTest-rmse:0.201051\n",
            "[457]\tTest-rmse:0.200635\n",
            "[458]\tTest-rmse:0.200221\n",
            "[459]\tTest-rmse:0.199817\n",
            "[460]\tTest-rmse:0.199407\n",
            "[461]\tTest-rmse:0.199004\n",
            "[462]\tTest-rmse:0.19863\n",
            "[463]\tTest-rmse:0.198247\n",
            "[464]\tTest-rmse:0.197892\n",
            "[465]\tTest-rmse:0.197532\n",
            "[466]\tTest-rmse:0.197157\n",
            "[467]\tTest-rmse:0.196817\n",
            "[468]\tTest-rmse:0.196474\n",
            "[469]\tTest-rmse:0.196129\n",
            "[470]\tTest-rmse:0.195785\n",
            "[471]\tTest-rmse:0.195461\n",
            "[472]\tTest-rmse:0.195138\n",
            "[473]\tTest-rmse:0.194817\n",
            "[474]\tTest-rmse:0.194528\n",
            "[475]\tTest-rmse:0.19423\n",
            "[476]\tTest-rmse:0.19387\n",
            "[477]\tTest-rmse:0.193604\n",
            "[478]\tTest-rmse:0.19331\n",
            "[479]\tTest-rmse:0.193017\n",
            "[480]\tTest-rmse:0.192724\n",
            "[481]\tTest-rmse:0.192416\n",
            "[482]\tTest-rmse:0.192164\n",
            "[483]\tTest-rmse:0.191888\n",
            "[484]\tTest-rmse:0.191603\n",
            "[485]\tTest-rmse:0.19134\n",
            "[486]\tTest-rmse:0.191089\n",
            "[487]\tTest-rmse:0.190844\n",
            "[488]\tTest-rmse:0.190587\n",
            "[489]\tTest-rmse:0.190319\n",
            "[490]\tTest-rmse:0.190075\n",
            "[491]\tTest-rmse:0.189849\n",
            "[492]\tTest-rmse:0.189595\n",
            "[493]\tTest-rmse:0.189353\n",
            "[494]\tTest-rmse:0.189131\n",
            "[495]\tTest-rmse:0.188935\n",
            "[496]\tTest-rmse:0.188733\n",
            "[497]\tTest-rmse:0.188534\n",
            "[498]\tTest-rmse:0.188318\n",
            "[499]\tTest-rmse:0.188132\n",
            "[500]\tTest-rmse:0.187946\n",
            "[501]\tTest-rmse:0.187753\n",
            "[502]\tTest-rmse:0.187548\n",
            "[503]\tTest-rmse:0.187337\n",
            "[504]\tTest-rmse:0.187152\n",
            "[505]\tTest-rmse:0.186986\n",
            "[506]\tTest-rmse:0.186828\n",
            "[507]\tTest-rmse:0.186675\n",
            "[508]\tTest-rmse:0.186506\n",
            "[509]\tTest-rmse:0.186343\n",
            "[510]\tTest-rmse:0.186189\n",
            "[511]\tTest-rmse:0.186014\n",
            "[512]\tTest-rmse:0.185841\n",
            "[513]\tTest-rmse:0.185661\n",
            "[514]\tTest-rmse:0.185507\n",
            "[515]\tTest-rmse:0.185345\n",
            "[516]\tTest-rmse:0.185204\n",
            "[517]\tTest-rmse:0.18505\n",
            "[518]\tTest-rmse:0.184914\n",
            "[519]\tTest-rmse:0.184756\n",
            "[520]\tTest-rmse:0.184619\n",
            "[521]\tTest-rmse:0.184512\n",
            "[522]\tTest-rmse:0.184344\n",
            "[523]\tTest-rmse:0.184223\n",
            "[524]\tTest-rmse:0.184096\n",
            "[525]\tTest-rmse:0.183919\n",
            "[526]\tTest-rmse:0.183785\n",
            "[527]\tTest-rmse:0.183667\n",
            "[528]\tTest-rmse:0.183541\n",
            "[529]\tTest-rmse:0.183439\n",
            "[530]\tTest-rmse:0.183332\n",
            "[531]\tTest-rmse:0.1832\n",
            "[532]\tTest-rmse:0.183099\n",
            "[533]\tTest-rmse:0.182994\n",
            "[534]\tTest-rmse:0.182884\n",
            "[535]\tTest-rmse:0.182775\n",
            "[536]\tTest-rmse:0.182626\n",
            "[537]\tTest-rmse:0.182522\n",
            "[538]\tTest-rmse:0.182408\n",
            "[539]\tTest-rmse:0.18231\n",
            "[540]\tTest-rmse:0.182212\n",
            "[541]\tTest-rmse:0.182125\n",
            "[542]\tTest-rmse:0.182013\n",
            "[543]\tTest-rmse:0.181908\n",
            "[544]\tTest-rmse:0.181805\n",
            "[545]\tTest-rmse:0.181667\n",
            "[546]\tTest-rmse:0.181607\n",
            "[547]\tTest-rmse:0.18152\n",
            "[548]\tTest-rmse:0.181427\n",
            "[549]\tTest-rmse:0.181308\n",
            "[550]\tTest-rmse:0.181194\n",
            "[551]\tTest-rmse:0.181075\n",
            "[552]\tTest-rmse:0.180991\n",
            "[553]\tTest-rmse:0.180918\n",
            "[554]\tTest-rmse:0.180834\n",
            "[555]\tTest-rmse:0.180728\n",
            "[556]\tTest-rmse:0.180638\n",
            "[557]\tTest-rmse:0.18055\n",
            "[558]\tTest-rmse:0.180493\n",
            "[559]\tTest-rmse:0.180436\n",
            "[560]\tTest-rmse:0.180362\n",
            "[561]\tTest-rmse:0.180314\n",
            "[562]\tTest-rmse:0.18024\n",
            "[563]\tTest-rmse:0.180185\n",
            "[564]\tTest-rmse:0.180124\n",
            "[565]\tTest-rmse:0.180048\n",
            "[566]\tTest-rmse:0.179967\n",
            "[567]\tTest-rmse:0.179914\n",
            "[568]\tTest-rmse:0.179852\n",
            "[569]\tTest-rmse:0.179799\n",
            "[570]\tTest-rmse:0.179726\n",
            "[571]\tTest-rmse:0.179654\n",
            "[572]\tTest-rmse:0.179583\n",
            "[573]\tTest-rmse:0.179504\n",
            "[574]\tTest-rmse:0.179453\n",
            "[575]\tTest-rmse:0.179381\n",
            "[576]\tTest-rmse:0.179311\n",
            "[577]\tTest-rmse:0.179273\n",
            "[578]\tTest-rmse:0.179162\n",
            "[579]\tTest-rmse:0.179106\n",
            "[580]\tTest-rmse:0.179035\n",
            "[581]\tTest-rmse:0.179005\n",
            "[582]\tTest-rmse:0.178973\n",
            "[583]\tTest-rmse:0.178913\n",
            "[584]\tTest-rmse:0.178888\n",
            "[585]\tTest-rmse:0.178845\n",
            "[586]\tTest-rmse:0.17876\n",
            "[587]\tTest-rmse:0.178704\n",
            "[588]\tTest-rmse:0.178648\n",
            "[589]\tTest-rmse:0.178598\n",
            "[590]\tTest-rmse:0.178533\n",
            "[591]\tTest-rmse:0.178495\n",
            "[592]\tTest-rmse:0.178452\n",
            "[593]\tTest-rmse:0.178396\n",
            "[594]\tTest-rmse:0.17837\n",
            "[595]\tTest-rmse:0.178311\n",
            "[596]\tTest-rmse:0.178256\n",
            "[597]\tTest-rmse:0.178213\n",
            "[598]\tTest-rmse:0.178136\n",
            "[599]\tTest-rmse:0.178113\n",
            "[600]\tTest-rmse:0.17806\n",
            "[601]\tTest-rmse:0.178016\n",
            "[602]\tTest-rmse:0.177967\n",
            "[603]\tTest-rmse:0.177929\n",
            "[604]\tTest-rmse:0.177869\n",
            "[605]\tTest-rmse:0.177838\n",
            "[606]\tTest-rmse:0.177806\n",
            "[607]\tTest-rmse:0.177767\n",
            "[608]\tTest-rmse:0.177729\n",
            "[609]\tTest-rmse:0.177695\n",
            "[610]\tTest-rmse:0.177629\n",
            "[611]\tTest-rmse:0.177597\n",
            "[612]\tTest-rmse:0.177527\n",
            "[613]\tTest-rmse:0.177502\n",
            "[614]\tTest-rmse:0.177462\n",
            "[615]\tTest-rmse:0.177442\n",
            "[616]\tTest-rmse:0.177402\n",
            "[617]\tTest-rmse:0.177352\n",
            "[618]\tTest-rmse:0.177316\n",
            "[619]\tTest-rmse:0.17731\n",
            "[620]\tTest-rmse:0.177234\n",
            "[621]\tTest-rmse:0.177171\n",
            "[622]\tTest-rmse:0.177131\n",
            "[623]\tTest-rmse:0.177082\n",
            "[624]\tTest-rmse:0.177045\n",
            "[625]\tTest-rmse:0.17699\n",
            "[626]\tTest-rmse:0.176935\n",
            "[627]\tTest-rmse:0.176912\n",
            "[628]\tTest-rmse:0.176893\n",
            "[629]\tTest-rmse:0.176859\n",
            "[630]\tTest-rmse:0.176811\n",
            "[631]\tTest-rmse:0.176788\n",
            "[632]\tTest-rmse:0.176759\n",
            "[633]\tTest-rmse:0.176734\n",
            "[634]\tTest-rmse:0.176712\n",
            "[635]\tTest-rmse:0.176673\n",
            "[636]\tTest-rmse:0.176629\n",
            "[637]\tTest-rmse:0.176579\n",
            "[638]\tTest-rmse:0.17653\n",
            "[639]\tTest-rmse:0.17648\n",
            "[640]\tTest-rmse:0.176438\n",
            "[641]\tTest-rmse:0.176416\n",
            "[642]\tTest-rmse:0.176394\n",
            "[643]\tTest-rmse:0.176373\n",
            "[644]\tTest-rmse:0.176349\n",
            "[645]\tTest-rmse:0.176335\n",
            "[646]\tTest-rmse:0.176308\n",
            "[647]\tTest-rmse:0.176268\n",
            "[648]\tTest-rmse:0.176256\n",
            "[649]\tTest-rmse:0.176219\n",
            "[650]\tTest-rmse:0.176193\n",
            "[651]\tTest-rmse:0.176169\n",
            "[652]\tTest-rmse:0.176149\n",
            "[653]\tTest-rmse:0.17612\n",
            "[654]\tTest-rmse:0.176098\n",
            "[655]\tTest-rmse:0.176093\n",
            "[656]\tTest-rmse:0.176085\n",
            "[657]\tTest-rmse:0.176062\n",
            "[658]\tTest-rmse:0.176026\n",
            "[659]\tTest-rmse:0.176011\n",
            "[660]\tTest-rmse:0.175992\n",
            "[661]\tTest-rmse:0.175947\n",
            "[662]\tTest-rmse:0.175919\n",
            "[663]\tTest-rmse:0.175876\n",
            "[664]\tTest-rmse:0.175874\n",
            "[665]\tTest-rmse:0.175861\n",
            "[666]\tTest-rmse:0.175848\n",
            "[667]\tTest-rmse:0.175807\n",
            "[668]\tTest-rmse:0.175782\n",
            "[669]\tTest-rmse:0.175771\n",
            "[670]\tTest-rmse:0.175699\n",
            "[671]\tTest-rmse:0.175677\n",
            "[672]\tTest-rmse:0.175663\n",
            "[673]\tTest-rmse:0.17565\n",
            "[674]\tTest-rmse:0.175623\n",
            "[675]\tTest-rmse:0.175611\n",
            "[676]\tTest-rmse:0.175594\n",
            "[677]\tTest-rmse:0.175578\n",
            "[678]\tTest-rmse:0.175553\n",
            "[679]\tTest-rmse:0.175519\n",
            "[680]\tTest-rmse:0.175499\n",
            "[681]\tTest-rmse:0.175487\n",
            "[682]\tTest-rmse:0.175446\n",
            "[683]\tTest-rmse:0.175408\n",
            "[684]\tTest-rmse:0.175369\n",
            "[685]\tTest-rmse:0.175334\n",
            "[686]\tTest-rmse:0.175288\n",
            "[687]\tTest-rmse:0.175242\n",
            "[688]\tTest-rmse:0.175233\n",
            "[689]\tTest-rmse:0.175192\n",
            "[690]\tTest-rmse:0.175183\n",
            "[691]\tTest-rmse:0.175158\n",
            "[692]\tTest-rmse:0.175109\n",
            "[693]\tTest-rmse:0.175065\n",
            "[694]\tTest-rmse:0.175032\n",
            "[695]\tTest-rmse:0.175032\n",
            "[696]\tTest-rmse:0.174989\n",
            "[697]\tTest-rmse:0.174953\n",
            "[698]\tTest-rmse:0.174921\n",
            "[699]\tTest-rmse:0.174916\n",
            "[700]\tTest-rmse:0.17487\n",
            "[701]\tTest-rmse:0.174815\n",
            "[702]\tTest-rmse:0.174783\n",
            "[703]\tTest-rmse:0.174717\n",
            "[704]\tTest-rmse:0.174711\n",
            "[705]\tTest-rmse:0.174689\n",
            "[706]\tTest-rmse:0.174681\n",
            "[707]\tTest-rmse:0.174685\n",
            "[708]\tTest-rmse:0.174674\n",
            "[709]\tTest-rmse:0.174681\n",
            "[710]\tTest-rmse:0.174667\n",
            "[711]\tTest-rmse:0.174631\n",
            "[712]\tTest-rmse:0.174622\n",
            "[713]\tTest-rmse:0.174595\n",
            "[714]\tTest-rmse:0.174588\n",
            "[715]\tTest-rmse:0.174563\n",
            "[716]\tTest-rmse:0.17456\n",
            "[717]\tTest-rmse:0.174534\n",
            "[718]\tTest-rmse:0.174521\n",
            "[719]\tTest-rmse:0.17447\n",
            "[720]\tTest-rmse:0.174435\n",
            "[721]\tTest-rmse:0.174438\n",
            "[722]\tTest-rmse:0.174433\n",
            "[723]\tTest-rmse:0.174445\n",
            "[724]\tTest-rmse:0.174406\n",
            "[725]\tTest-rmse:0.174378\n",
            "[726]\tTest-rmse:0.174364\n",
            "[727]\tTest-rmse:0.174359\n",
            "[728]\tTest-rmse:0.174364\n",
            "[729]\tTest-rmse:0.174337\n",
            "[730]\tTest-rmse:0.174318\n",
            "[731]\tTest-rmse:0.174278\n",
            "[732]\tTest-rmse:0.174275\n",
            "[733]\tTest-rmse:0.174273\n",
            "[734]\tTest-rmse:0.17426\n",
            "[735]\tTest-rmse:0.174219\n",
            "[736]\tTest-rmse:0.174198\n",
            "[737]\tTest-rmse:0.174141\n",
            "[738]\tTest-rmse:0.174123\n",
            "[739]\tTest-rmse:0.174108\n",
            "[740]\tTest-rmse:0.174081\n",
            "[741]\tTest-rmse:0.174071\n",
            "[742]\tTest-rmse:0.174057\n",
            "[743]\tTest-rmse:0.174021\n",
            "[744]\tTest-rmse:0.174011\n",
            "[745]\tTest-rmse:0.174005\n",
            "[746]\tTest-rmse:0.17398\n",
            "[747]\tTest-rmse:0.173967\n",
            "[748]\tTest-rmse:0.173936\n",
            "[749]\tTest-rmse:0.173899\n",
            "[750]\tTest-rmse:0.173859\n",
            "[751]\tTest-rmse:0.173837\n",
            "[752]\tTest-rmse:0.173817\n",
            "[753]\tTest-rmse:0.173795\n",
            "[754]\tTest-rmse:0.173782\n",
            "[755]\tTest-rmse:0.173775\n",
            "[756]\tTest-rmse:0.173755\n",
            "[757]\tTest-rmse:0.173728\n",
            "[758]\tTest-rmse:0.173707\n",
            "[759]\tTest-rmse:0.173674\n",
            "[760]\tTest-rmse:0.173663\n",
            "[761]\tTest-rmse:0.173631\n",
            "[762]\tTest-rmse:0.1736\n",
            "[763]\tTest-rmse:0.173581\n",
            "[764]\tTest-rmse:0.173559\n",
            "[765]\tTest-rmse:0.173541\n",
            "[766]\tTest-rmse:0.173525\n",
            "[767]\tTest-rmse:0.173497\n",
            "[768]\tTest-rmse:0.173497\n",
            "[769]\tTest-rmse:0.173501\n",
            "[770]\tTest-rmse:0.173499\n",
            "[771]\tTest-rmse:0.173496\n",
            "[772]\tTest-rmse:0.17349\n",
            "[773]\tTest-rmse:0.173475\n",
            "[774]\tTest-rmse:0.17347\n",
            "[775]\tTest-rmse:0.173489\n",
            "[776]\tTest-rmse:0.173488\n",
            "[777]\tTest-rmse:0.173486\n",
            "[778]\tTest-rmse:0.173485\n",
            "[779]\tTest-rmse:0.173477\n",
            "[780]\tTest-rmse:0.173475\n",
            "[781]\tTest-rmse:0.173467\n",
            "[782]\tTest-rmse:0.173463\n",
            "[783]\tTest-rmse:0.17343\n",
            "[784]\tTest-rmse:0.173449\n",
            "[785]\tTest-rmse:0.173447\n",
            "[786]\tTest-rmse:0.173412\n",
            "[787]\tTest-rmse:0.173409\n",
            "[788]\tTest-rmse:0.17341\n",
            "[789]\tTest-rmse:0.17341\n",
            "[790]\tTest-rmse:0.173409\n",
            "[791]\tTest-rmse:0.173384\n",
            "[792]\tTest-rmse:0.173382\n",
            "[793]\tTest-rmse:0.173348\n",
            "[794]\tTest-rmse:0.173338\n",
            "[795]\tTest-rmse:0.173323\n",
            "[796]\tTest-rmse:0.173301\n",
            "[797]\tTest-rmse:0.173278\n",
            "[798]\tTest-rmse:0.173258\n",
            "[799]\tTest-rmse:0.173235\n",
            "[800]\tTest-rmse:0.173217\n",
            "[801]\tTest-rmse:0.173199\n",
            "[802]\tTest-rmse:0.173172\n",
            "[803]\tTest-rmse:0.173156\n",
            "[804]\tTest-rmse:0.173154\n",
            "[805]\tTest-rmse:0.173151\n",
            "[806]\tTest-rmse:0.173112\n",
            "[807]\tTest-rmse:0.173114\n",
            "[808]\tTest-rmse:0.173102\n",
            "[809]\tTest-rmse:0.173082\n",
            "[810]\tTest-rmse:0.173065\n",
            "[811]\tTest-rmse:0.173034\n",
            "[812]\tTest-rmse:0.173031\n",
            "[813]\tTest-rmse:0.173013\n",
            "[814]\tTest-rmse:0.172971\n",
            "[815]\tTest-rmse:0.172945\n",
            "[816]\tTest-rmse:0.172922\n",
            "[817]\tTest-rmse:0.172902\n",
            "[818]\tTest-rmse:0.172895\n",
            "[819]\tTest-rmse:0.172871\n",
            "[820]\tTest-rmse:0.172853\n",
            "[821]\tTest-rmse:0.172823\n",
            "[822]\tTest-rmse:0.172833\n",
            "[823]\tTest-rmse:0.172811\n",
            "[824]\tTest-rmse:0.172789\n",
            "[825]\tTest-rmse:0.172787\n",
            "[826]\tTest-rmse:0.172765\n",
            "[827]\tTest-rmse:0.172746\n",
            "[828]\tTest-rmse:0.172754\n",
            "[829]\tTest-rmse:0.172732\n",
            "[830]\tTest-rmse:0.172726\n",
            "[831]\tTest-rmse:0.172723\n",
            "[832]\tTest-rmse:0.172711\n",
            "[833]\tTest-rmse:0.172721\n",
            "[834]\tTest-rmse:0.172701\n",
            "[835]\tTest-rmse:0.172695\n",
            "[836]\tTest-rmse:0.172681\n",
            "[837]\tTest-rmse:0.172687\n",
            "[838]\tTest-rmse:0.172668\n",
            "[839]\tTest-rmse:0.172625\n",
            "[840]\tTest-rmse:0.172616\n",
            "[841]\tTest-rmse:0.172615\n",
            "[842]\tTest-rmse:0.172628\n",
            "[843]\tTest-rmse:0.172626\n",
            "[844]\tTest-rmse:0.17264\n",
            "[845]\tTest-rmse:0.172609\n",
            "[846]\tTest-rmse:0.172603\n",
            "[847]\tTest-rmse:0.172603\n",
            "[848]\tTest-rmse:0.172583\n",
            "[849]\tTest-rmse:0.172582\n",
            "[850]\tTest-rmse:0.17259\n",
            "[851]\tTest-rmse:0.172582\n",
            "[852]\tTest-rmse:0.172567\n",
            "[853]\tTest-rmse:0.172523\n",
            "[854]\tTest-rmse:0.172489\n",
            "[855]\tTest-rmse:0.172477\n",
            "[856]\tTest-rmse:0.172477\n",
            "[857]\tTest-rmse:0.172446\n",
            "[858]\tTest-rmse:0.172434\n",
            "[859]\tTest-rmse:0.172417\n",
            "[860]\tTest-rmse:0.17242\n",
            "[861]\tTest-rmse:0.172399\n",
            "[862]\tTest-rmse:0.172394\n",
            "[863]\tTest-rmse:0.17238\n",
            "[864]\tTest-rmse:0.172363\n",
            "[865]\tTest-rmse:0.17237\n",
            "[866]\tTest-rmse:0.172355\n",
            "[867]\tTest-rmse:0.17235\n",
            "[868]\tTest-rmse:0.172351\n",
            "[869]\tTest-rmse:0.172331\n",
            "[870]\tTest-rmse:0.172327\n",
            "[871]\tTest-rmse:0.172326\n",
            "[872]\tTest-rmse:0.172309\n",
            "[873]\tTest-rmse:0.172297\n",
            "[874]\tTest-rmse:0.172284\n",
            "[875]\tTest-rmse:0.172248\n",
            "[876]\tTest-rmse:0.172235\n",
            "[877]\tTest-rmse:0.17221\n",
            "[878]\tTest-rmse:0.172209\n",
            "[879]\tTest-rmse:0.172183\n",
            "[880]\tTest-rmse:0.172182\n",
            "[881]\tTest-rmse:0.172157\n",
            "[882]\tTest-rmse:0.172155\n",
            "[883]\tTest-rmse:0.172154\n",
            "[884]\tTest-rmse:0.172151\n",
            "[885]\tTest-rmse:0.172149\n",
            "[886]\tTest-rmse:0.172127\n",
            "[887]\tTest-rmse:0.172119\n",
            "[888]\tTest-rmse:0.172104\n",
            "[889]\tTest-rmse:0.172103\n",
            "[890]\tTest-rmse:0.17211\n",
            "[891]\tTest-rmse:0.172097\n",
            "[892]\tTest-rmse:0.172086\n",
            "[893]\tTest-rmse:0.172081\n",
            "[894]\tTest-rmse:0.172076\n",
            "[895]\tTest-rmse:0.172063\n",
            "[896]\tTest-rmse:0.172058\n",
            "[897]\tTest-rmse:0.172059\n",
            "[898]\tTest-rmse:0.172059\n",
            "[899]\tTest-rmse:0.172049\n",
            "[900]\tTest-rmse:0.172054\n",
            "[901]\tTest-rmse:0.172033\n",
            "[902]\tTest-rmse:0.172025\n",
            "[903]\tTest-rmse:0.172013\n",
            "[904]\tTest-rmse:0.172014\n",
            "[905]\tTest-rmse:0.172004\n",
            "[906]\tTest-rmse:0.171992\n",
            "[907]\tTest-rmse:0.171977\n",
            "[908]\tTest-rmse:0.171977\n",
            "[909]\tTest-rmse:0.171977\n",
            "[910]\tTest-rmse:0.171978\n",
            "[911]\tTest-rmse:0.171973\n",
            "[912]\tTest-rmse:0.171938\n",
            "[913]\tTest-rmse:0.171937\n",
            "[914]\tTest-rmse:0.171908\n",
            "[915]\tTest-rmse:0.171899\n",
            "[916]\tTest-rmse:0.171886\n",
            "[917]\tTest-rmse:0.17188\n",
            "[918]\tTest-rmse:0.171866\n",
            "[919]\tTest-rmse:0.171855\n",
            "[920]\tTest-rmse:0.171842\n",
            "[921]\tTest-rmse:0.17183\n",
            "[922]\tTest-rmse:0.171816\n",
            "[923]\tTest-rmse:0.171806\n",
            "[924]\tTest-rmse:0.171778\n",
            "[925]\tTest-rmse:0.171752\n",
            "[926]\tTest-rmse:0.171749\n",
            "[927]\tTest-rmse:0.17173\n",
            "[928]\tTest-rmse:0.171731\n",
            "[929]\tTest-rmse:0.171723\n",
            "[930]\tTest-rmse:0.171722\n",
            "[931]\tTest-rmse:0.171707\n",
            "[932]\tTest-rmse:0.171707\n",
            "[933]\tTest-rmse:0.171692\n",
            "[934]\tTest-rmse:0.171675\n",
            "[935]\tTest-rmse:0.171649\n",
            "[936]\tTest-rmse:0.171641\n",
            "[937]\tTest-rmse:0.171623\n",
            "[938]\tTest-rmse:0.171609\n",
            "[939]\tTest-rmse:0.171604\n",
            "[940]\tTest-rmse:0.171593\n",
            "[941]\tTest-rmse:0.171579\n",
            "[942]\tTest-rmse:0.171576\n",
            "[943]\tTest-rmse:0.171585\n",
            "[944]\tTest-rmse:0.17157\n",
            "[945]\tTest-rmse:0.171558\n",
            "[946]\tTest-rmse:0.171531\n",
            "[947]\tTest-rmse:0.171518\n",
            "[948]\tTest-rmse:0.171495\n",
            "[949]\tTest-rmse:0.171503\n",
            "[950]\tTest-rmse:0.171492\n",
            "[951]\tTest-rmse:0.171475\n",
            "[952]\tTest-rmse:0.171449\n",
            "[953]\tTest-rmse:0.171449\n",
            "[954]\tTest-rmse:0.17143\n",
            "[955]\tTest-rmse:0.171427\n",
            "[956]\tTest-rmse:0.17142\n",
            "[957]\tTest-rmse:0.17141\n",
            "[958]\tTest-rmse:0.171403\n",
            "[959]\tTest-rmse:0.171396\n",
            "[960]\tTest-rmse:0.171372\n",
            "[961]\tTest-rmse:0.171373\n",
            "[962]\tTest-rmse:0.17138\n",
            "[963]\tTest-rmse:0.171379\n",
            "[964]\tTest-rmse:0.171372\n",
            "[965]\tTest-rmse:0.171362\n",
            "[966]\tTest-rmse:0.17136\n",
            "[967]\tTest-rmse:0.171362\n",
            "[968]\tTest-rmse:0.171346\n",
            "[969]\tTest-rmse:0.171335\n",
            "[970]\tTest-rmse:0.171332\n",
            "[971]\tTest-rmse:0.171298\n",
            "[972]\tTest-rmse:0.171291\n",
            "[973]\tTest-rmse:0.171276\n",
            "[974]\tTest-rmse:0.17126\n",
            "[975]\tTest-rmse:0.171262\n",
            "[976]\tTest-rmse:0.171267\n",
            "[977]\tTest-rmse:0.17126\n",
            "[978]\tTest-rmse:0.17124\n",
            "[979]\tTest-rmse:0.171229\n",
            "[980]\tTest-rmse:0.171221\n",
            "[981]\tTest-rmse:0.171207\n",
            "[982]\tTest-rmse:0.171202\n",
            "[983]\tTest-rmse:0.171181\n",
            "[984]\tTest-rmse:0.171165\n",
            "[985]\tTest-rmse:0.171165\n",
            "[986]\tTest-rmse:0.171161\n",
            "[987]\tTest-rmse:0.171157\n",
            "[988]\tTest-rmse:0.171157\n",
            "[989]\tTest-rmse:0.171159\n",
            "[990]\tTest-rmse:0.171146\n",
            "[991]\tTest-rmse:0.171142\n",
            "[992]\tTest-rmse:0.171135\n",
            "[993]\tTest-rmse:0.171126\n",
            "[994]\tTest-rmse:0.171096\n",
            "[995]\tTest-rmse:0.171093\n",
            "[996]\tTest-rmse:0.171091\n",
            "[997]\tTest-rmse:0.171091\n",
            "[998]\tTest-rmse:0.171095\n"
          ],
          "name": "stdout"
        }
      ]
    },
    {
      "cell_type": "code",
      "metadata": {
        "colab": {
          "base_uri": "https://localhost:8080/"
        },
        "id": "NgnFa8roFMmA",
        "outputId": "e0da5863-a27e-4301-b878-acf14874a8e9"
      },
      "source": [
        "print(\"Best rmse: {:.2f} in {} rounds\".format(model.best_score, model.best_iteration+1))"
      ],
      "execution_count": 117,
      "outputs": [
        {
          "output_type": "stream",
          "text": [
            "Best rmse: 0.17 in 997 rounds\n"
          ],
          "name": "stdout"
        }
      ]
    },
    {
      "cell_type": "code",
      "metadata": {
        "colab": {
          "base_uri": "https://localhost:8080/",
          "height": 455
        },
        "id": "9ypPtuydH7-4",
        "outputId": "32273580-c101-463f-9d27-bcf73744b6b9"
      },
      "source": [
        "X_test"
      ],
      "execution_count": 121,
      "outputs": [
        {
          "output_type": "execute_result",
          "data": {
            "text/html": [
              "<div>\n",
              "<style scoped>\n",
              "    .dataframe tbody tr th:only-of-type {\n",
              "        vertical-align: middle;\n",
              "    }\n",
              "\n",
              "    .dataframe tbody tr th {\n",
              "        vertical-align: top;\n",
              "    }\n",
              "\n",
              "    .dataframe thead th {\n",
              "        text-align: right;\n",
              "    }\n",
              "</style>\n",
              "<table border=\"1\" class=\"dataframe\">\n",
              "  <thead>\n",
              "    <tr style=\"text-align: right;\">\n",
              "      <th></th>\n",
              "      <th>Dep_Time</th>\n",
              "      <th>Arrival_Time</th>\n",
              "      <th>Duration</th>\n",
              "      <th>Total_Stops</th>\n",
              "      <th>day</th>\n",
              "      <th>quarter</th>\n",
              "      <th>month</th>\n",
              "      <th>Source_Destination_Banglore_New Delhi</th>\n",
              "      <th>Source_Destination_Chennai_Kolkata</th>\n",
              "      <th>Source_Destination_Delhi_Cochin</th>\n",
              "      <th>Source_Destination_Kolkata_Banglore</th>\n",
              "      <th>Source_Destination_Mumbai_Hyderabad</th>\n",
              "      <th>Airline_Air India</th>\n",
              "      <th>Airline_GoAir</th>\n",
              "      <th>Airline_IndiGo</th>\n",
              "      <th>Airline_Jet Airways</th>\n",
              "      <th>Airline_Jet Airways Business</th>\n",
              "      <th>Airline_Multiple carriers</th>\n",
              "      <th>Airline_Multiple carriers Premium economy</th>\n",
              "      <th>Airline_SpiceJet</th>\n",
              "      <th>Airline_Trujet</th>\n",
              "      <th>Airline_Vistara</th>\n",
              "      <th>Airline_Vistara Premium economy</th>\n",
              "    </tr>\n",
              "  </thead>\n",
              "  <tbody>\n",
              "    <tr>\n",
              "      <th>6075</th>\n",
              "      <td>15</td>\n",
              "      <td>1</td>\n",
              "      <td>10.416667</td>\n",
              "      <td>3</td>\n",
              "      <td>21</td>\n",
              "      <td>2</td>\n",
              "      <td>5</td>\n",
              "      <td>0</td>\n",
              "      <td>0</td>\n",
              "      <td>1</td>\n",
              "      <td>0</td>\n",
              "      <td>0</td>\n",
              "      <td>0</td>\n",
              "      <td>0</td>\n",
              "      <td>0</td>\n",
              "      <td>0</td>\n",
              "      <td>0</td>\n",
              "      <td>1</td>\n",
              "      <td>0</td>\n",
              "      <td>0</td>\n",
              "      <td>0</td>\n",
              "      <td>0</td>\n",
              "      <td>0</td>\n",
              "    </tr>\n",
              "    <tr>\n",
              "      <th>3544</th>\n",
              "      <td>10</td>\n",
              "      <td>19</td>\n",
              "      <td>9.000000</td>\n",
              "      <td>2</td>\n",
              "      <td>6</td>\n",
              "      <td>1</td>\n",
              "      <td>3</td>\n",
              "      <td>0</td>\n",
              "      <td>0</td>\n",
              "      <td>1</td>\n",
              "      <td>0</td>\n",
              "      <td>0</td>\n",
              "      <td>0</td>\n",
              "      <td>1</td>\n",
              "      <td>0</td>\n",
              "      <td>0</td>\n",
              "      <td>0</td>\n",
              "      <td>0</td>\n",
              "      <td>0</td>\n",
              "      <td>0</td>\n",
              "      <td>0</td>\n",
              "      <td>0</td>\n",
              "      <td>0</td>\n",
              "    </tr>\n",
              "    <tr>\n",
              "      <th>9291</th>\n",
              "      <td>20</td>\n",
              "      <td>9</td>\n",
              "      <td>12.750000</td>\n",
              "      <td>2</td>\n",
              "      <td>5</td>\n",
              "      <td>3</td>\n",
              "      <td>9</td>\n",
              "      <td>0</td>\n",
              "      <td>0</td>\n",
              "      <td>0</td>\n",
              "      <td>1</td>\n",
              "      <td>0</td>\n",
              "      <td>0</td>\n",
              "      <td>0</td>\n",
              "      <td>0</td>\n",
              "      <td>0</td>\n",
              "      <td>0</td>\n",
              "      <td>0</td>\n",
              "      <td>0</td>\n",
              "      <td>0</td>\n",
              "      <td>0</td>\n",
              "      <td>1</td>\n",
              "      <td>0</td>\n",
              "    </tr>\n",
              "    <tr>\n",
              "      <th>5032</th>\n",
              "      <td>14</td>\n",
              "      <td>17</td>\n",
              "      <td>2.333333</td>\n",
              "      <td>1</td>\n",
              "      <td>24</td>\n",
              "      <td>2</td>\n",
              "      <td>5</td>\n",
              "      <td>0</td>\n",
              "      <td>1</td>\n",
              "      <td>0</td>\n",
              "      <td>0</td>\n",
              "      <td>0</td>\n",
              "      <td>0</td>\n",
              "      <td>0</td>\n",
              "      <td>1</td>\n",
              "      <td>0</td>\n",
              "      <td>0</td>\n",
              "      <td>0</td>\n",
              "      <td>0</td>\n",
              "      <td>0</td>\n",
              "      <td>0</td>\n",
              "      <td>0</td>\n",
              "      <td>0</td>\n",
              "    </tr>\n",
              "    <tr>\n",
              "      <th>2483</th>\n",
              "      <td>22</td>\n",
              "      <td>4</td>\n",
              "      <td>5.583333</td>\n",
              "      <td>2</td>\n",
              "      <td>21</td>\n",
              "      <td>2</td>\n",
              "      <td>5</td>\n",
              "      <td>0</td>\n",
              "      <td>0</td>\n",
              "      <td>1</td>\n",
              "      <td>0</td>\n",
              "      <td>0</td>\n",
              "      <td>0</td>\n",
              "      <td>0</td>\n",
              "      <td>0</td>\n",
              "      <td>1</td>\n",
              "      <td>0</td>\n",
              "      <td>0</td>\n",
              "      <td>0</td>\n",
              "      <td>0</td>\n",
              "      <td>0</td>\n",
              "      <td>0</td>\n",
              "      <td>0</td>\n",
              "    </tr>\n",
              "    <tr>\n",
              "      <th>...</th>\n",
              "      <td>...</td>\n",
              "      <td>...</td>\n",
              "      <td>...</td>\n",
              "      <td>...</td>\n",
              "      <td>...</td>\n",
              "      <td>...</td>\n",
              "      <td>...</td>\n",
              "      <td>...</td>\n",
              "      <td>...</td>\n",
              "      <td>...</td>\n",
              "      <td>...</td>\n",
              "      <td>...</td>\n",
              "      <td>...</td>\n",
              "      <td>...</td>\n",
              "      <td>...</td>\n",
              "      <td>...</td>\n",
              "      <td>...</td>\n",
              "      <td>...</td>\n",
              "      <td>...</td>\n",
              "      <td>...</td>\n",
              "      <td>...</td>\n",
              "      <td>...</td>\n",
              "      <td>...</td>\n",
              "    </tr>\n",
              "    <tr>\n",
              "      <th>9797</th>\n",
              "      <td>8</td>\n",
              "      <td>21</td>\n",
              "      <td>13.000000</td>\n",
              "      <td>2</td>\n",
              "      <td>27</td>\n",
              "      <td>2</td>\n",
              "      <td>6</td>\n",
              "      <td>0</td>\n",
              "      <td>0</td>\n",
              "      <td>1</td>\n",
              "      <td>0</td>\n",
              "      <td>0</td>\n",
              "      <td>0</td>\n",
              "      <td>0</td>\n",
              "      <td>0</td>\n",
              "      <td>0</td>\n",
              "      <td>0</td>\n",
              "      <td>1</td>\n",
              "      <td>0</td>\n",
              "      <td>0</td>\n",
              "      <td>0</td>\n",
              "      <td>0</td>\n",
              "      <td>0</td>\n",
              "    </tr>\n",
              "    <tr>\n",
              "      <th>9871</th>\n",
              "      <td>17</td>\n",
              "      <td>19</td>\n",
              "      <td>2.500000</td>\n",
              "      <td>1</td>\n",
              "      <td>3</td>\n",
              "      <td>2</td>\n",
              "      <td>6</td>\n",
              "      <td>0</td>\n",
              "      <td>0</td>\n",
              "      <td>0</td>\n",
              "      <td>1</td>\n",
              "      <td>0</td>\n",
              "      <td>0</td>\n",
              "      <td>0</td>\n",
              "      <td>0</td>\n",
              "      <td>0</td>\n",
              "      <td>0</td>\n",
              "      <td>0</td>\n",
              "      <td>0</td>\n",
              "      <td>1</td>\n",
              "      <td>0</td>\n",
              "      <td>0</td>\n",
              "      <td>0</td>\n",
              "    </tr>\n",
              "    <tr>\n",
              "      <th>10063</th>\n",
              "      <td>7</td>\n",
              "      <td>22</td>\n",
              "      <td>14.500000</td>\n",
              "      <td>2</td>\n",
              "      <td>21</td>\n",
              "      <td>2</td>\n",
              "      <td>4</td>\n",
              "      <td>0</td>\n",
              "      <td>0</td>\n",
              "      <td>1</td>\n",
              "      <td>0</td>\n",
              "      <td>0</td>\n",
              "      <td>0</td>\n",
              "      <td>0</td>\n",
              "      <td>0</td>\n",
              "      <td>0</td>\n",
              "      <td>0</td>\n",
              "      <td>0</td>\n",
              "      <td>0</td>\n",
              "      <td>0</td>\n",
              "      <td>0</td>\n",
              "      <td>0</td>\n",
              "      <td>0</td>\n",
              "    </tr>\n",
              "    <tr>\n",
              "      <th>8802</th>\n",
              "      <td>6</td>\n",
              "      <td>23</td>\n",
              "      <td>16.916667</td>\n",
              "      <td>2</td>\n",
              "      <td>24</td>\n",
              "      <td>1</td>\n",
              "      <td>3</td>\n",
              "      <td>0</td>\n",
              "      <td>0</td>\n",
              "      <td>0</td>\n",
              "      <td>1</td>\n",
              "      <td>0</td>\n",
              "      <td>0</td>\n",
              "      <td>0</td>\n",
              "      <td>0</td>\n",
              "      <td>1</td>\n",
              "      <td>0</td>\n",
              "      <td>0</td>\n",
              "      <td>0</td>\n",
              "      <td>0</td>\n",
              "      <td>0</td>\n",
              "      <td>0</td>\n",
              "      <td>0</td>\n",
              "    </tr>\n",
              "    <tr>\n",
              "      <th>8617</th>\n",
              "      <td>17</td>\n",
              "      <td>23</td>\n",
              "      <td>6.583333</td>\n",
              "      <td>2</td>\n",
              "      <td>6</td>\n",
              "      <td>2</td>\n",
              "      <td>6</td>\n",
              "      <td>0</td>\n",
              "      <td>0</td>\n",
              "      <td>0</td>\n",
              "      <td>1</td>\n",
              "      <td>0</td>\n",
              "      <td>0</td>\n",
              "      <td>0</td>\n",
              "      <td>0</td>\n",
              "      <td>1</td>\n",
              "      <td>0</td>\n",
              "      <td>0</td>\n",
              "      <td>0</td>\n",
              "      <td>0</td>\n",
              "      <td>0</td>\n",
              "      <td>0</td>\n",
              "      <td>0</td>\n",
              "    </tr>\n",
              "  </tbody>\n",
              "</table>\n",
              "<p>2137 rows × 23 columns</p>\n",
              "</div>"
            ],
            "text/plain": [
              "       Dep_Time  Arrival_Time  ...  Airline_Vistara  Airline_Vistara Premium economy\n",
              "6075         15             1  ...                0                                0\n",
              "3544         10            19  ...                0                                0\n",
              "9291         20             9  ...                1                                0\n",
              "5032         14            17  ...                0                                0\n",
              "2483         22             4  ...                0                                0\n",
              "...         ...           ...  ...              ...                              ...\n",
              "9797          8            21  ...                0                                0\n",
              "9871         17            19  ...                0                                0\n",
              "10063         7            22  ...                0                                0\n",
              "8802          6            23  ...                0                                0\n",
              "8617         17            23  ...                0                                0\n",
              "\n",
              "[2137 rows x 23 columns]"
            ]
          },
          "metadata": {
            "tags": []
          },
          "execution_count": 121
        }
      ]
    },
    {
      "cell_type": "code",
      "metadata": {
        "colab": {
          "base_uri": "https://localhost:8080/",
          "height": 400
        },
        "id": "TSvPTpQbFMiY",
        "outputId": "0eed3f24-a97b-4d07-f48f-0eae80a0b038"
      },
      "source": [
        "predictions=np.exp(model.predict(dtest))\n",
        "ax=sns.displot(predictions)\n",
        "ax.set(xlabel='Price')"
      ],
      "execution_count": 131,
      "outputs": [
        {
          "output_type": "execute_result",
          "data": {
            "text/plain": [
              "<seaborn.axisgrid.FacetGrid at 0x7f2b1b9a8790>"
            ]
          },
          "metadata": {
            "tags": []
          },
          "execution_count": 131
        },
        {
          "output_type": "display_data",
          "data": {
            "image/png": "[encoded data removed]",
            "text/plain": [
              "<Figure size 360x360 with 1 Axes>"
            ]
          },
          "metadata": {
            "tags": [],
            "needs_background": "light"
          }
        }
      ]
    },
    {
      "cell_type": "code",
      "metadata": {
        "colab": {
          "base_uri": "https://localhost:8080/",
          "height": 368
        },
        "id": "aofDGND8FMem",
        "outputId": "6ba5cf69-970f-4773-a69d-c571e4e56ded"
      },
      "source": [
        "ax=sns.displot(np.exp(y_test))\n",
        "ax.set(xlabel='Price')\n",
        "plt.show()"
      ],
      "execution_count": 130,
      "outputs": [
        {
          "output_type": "display_data",
          "data": {
            "image/png": "[encoded data removed]",
            "text/plain": [
              "<Figure size 360x360 with 1 Axes>"
            ]
          },
          "metadata": {
            "tags": [],
            "needs_background": "light"
          }
        }
      ]
    },
    {
      "cell_type": "code",
      "metadata": {
        "colab": {
          "base_uri": "https://localhost:8080/"
        },
        "id": "ECDet4DzBLQ7",
        "outputId": "5da5e00d-1b8e-477f-dee3-2b22f2ab7fc9"
      },
      "source": [
        "from sklearn.metrics import r2_score\n",
        "r2_score(np.exp(y_test),predictions)"
      ],
      "execution_count": 129,
      "outputs": [
        {
          "output_type": "execute_result",
          "data": {
            "text/plain": [
              "0.8118123787138346"
            ]
          },
          "metadata": {
            "tags": []
          },
          "execution_count": 129
        }
      ]
    },
    {
      "cell_type": "markdown",
      "metadata": {
        "id": "UB-wE4chP__h"
      },
      "source": [
        "## **We get R2 score of 81% which highlights our features were able to capture the 81% of variance in the ticket prices**"
      ]
    },
    {
      "cell_type": "code",
      "metadata": {
        "id": "6Ab1ANrCs6Jx"
      },
      "source": [
        "\n",
        "\n",
        "\n"
      ],
      "execution_count": 47,
      "outputs": []
    },
    {
      "cell_type": "code",
      "metadata": {
        "id": "10f1aXI25gSO"
      },
      "source": [
        ""
      ],
      "execution_count": null,
      "outputs": []
    }
  ]
}